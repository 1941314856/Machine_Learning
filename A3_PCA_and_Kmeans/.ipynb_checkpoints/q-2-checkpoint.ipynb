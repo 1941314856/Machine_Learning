{
 "cells": [
  {
   "cell_type": "markdown",
   "metadata": {},
   "source": [
    "### Question2 : Logistic Regression "
   ]
  },
  {
   "cell_type": "code",
   "execution_count": 5,
   "metadata": {},
   "outputs": [],
   "source": [
    "import numpy as np\n",
    "import pandas as pd\n",
    "import matplotlib.pyplot as plt"
   ]
  },
  {
   "cell_type": "markdown",
   "metadata": {},
   "source": [
    "#### Assumption\n",
    "1. Our output i.e Chance of Admit has continous probability , we have to convert it into discreate class.\n",
    "2.   **1** is for Good Chance of Admitted \n",
    "3.    **0** is for bad chance of Admitted"
   ]
  },
  {
   "cell_type": "code",
   "execution_count": 6,
   "metadata": {},
   "outputs": [
    {
     "data": {
      "text/html": [
       "<div>\n",
       "<style scoped>\n",
       "    .dataframe tbody tr th:only-of-type {\n",
       "        vertical-align: middle;\n",
       "    }\n",
       "\n",
       "    .dataframe tbody tr th {\n",
       "        vertical-align: top;\n",
       "    }\n",
       "\n",
       "    .dataframe thead th {\n",
       "        text-align: right;\n",
       "    }\n",
       "</style>\n",
       "<table border=\"1\" class=\"dataframe\">\n",
       "  <thead>\n",
       "    <tr style=\"text-align: right;\">\n",
       "      <th></th>\n",
       "      <th>Serial No.</th>\n",
       "      <th>GRE Score</th>\n",
       "      <th>TOEFL Score</th>\n",
       "      <th>University Rating</th>\n",
       "      <th>SOP</th>\n",
       "      <th>LOR</th>\n",
       "      <th>CGPA</th>\n",
       "      <th>Research</th>\n",
       "      <th>Chance of Admit</th>\n",
       "    </tr>\n",
       "  </thead>\n",
       "  <tbody>\n",
       "    <tr>\n",
       "      <th>0</th>\n",
       "      <td>242</td>\n",
       "      <td>317</td>\n",
       "      <td>103</td>\n",
       "      <td>2</td>\n",
       "      <td>2.5</td>\n",
       "      <td>2.0</td>\n",
       "      <td>8.15</td>\n",
       "      <td>0</td>\n",
       "      <td>0.65</td>\n",
       "    </tr>\n",
       "    <tr>\n",
       "      <th>1</th>\n",
       "      <td>334</td>\n",
       "      <td>319</td>\n",
       "      <td>108</td>\n",
       "      <td>3</td>\n",
       "      <td>3.0</td>\n",
       "      <td>3.5</td>\n",
       "      <td>8.54</td>\n",
       "      <td>1</td>\n",
       "      <td>0.71</td>\n",
       "    </tr>\n",
       "    <tr>\n",
       "      <th>2</th>\n",
       "      <td>4</td>\n",
       "      <td>322</td>\n",
       "      <td>110</td>\n",
       "      <td>3</td>\n",
       "      <td>3.5</td>\n",
       "      <td>2.5</td>\n",
       "      <td>8.67</td>\n",
       "      <td>1</td>\n",
       "      <td>0.80</td>\n",
       "    </tr>\n",
       "    <tr>\n",
       "      <th>3</th>\n",
       "      <td>45</td>\n",
       "      <td>326</td>\n",
       "      <td>113</td>\n",
       "      <td>5</td>\n",
       "      <td>4.5</td>\n",
       "      <td>4.0</td>\n",
       "      <td>9.40</td>\n",
       "      <td>1</td>\n",
       "      <td>0.91</td>\n",
       "    </tr>\n",
       "    <tr>\n",
       "      <th>4</th>\n",
       "      <td>232</td>\n",
       "      <td>319</td>\n",
       "      <td>106</td>\n",
       "      <td>3</td>\n",
       "      <td>3.5</td>\n",
       "      <td>2.5</td>\n",
       "      <td>8.33</td>\n",
       "      <td>1</td>\n",
       "      <td>0.74</td>\n",
       "    </tr>\n",
       "  </tbody>\n",
       "</table>\n",
       "</div>"
      ],
      "text/plain": [
       "   Serial No.  GRE Score  TOEFL Score  University Rating  SOP  LOR   CGPA  \\\n",
       "0         242        317          103                  2  2.5   2.0  8.15   \n",
       "1         334        319          108                  3  3.0   3.5  8.54   \n",
       "2           4        322          110                  3  3.5   2.5  8.67   \n",
       "3          45        326          113                  5  4.5   4.0  9.40   \n",
       "4         232        319          106                  3  3.5   2.5  8.33   \n",
       "\n",
       "   Research  Chance of Admit   \n",
       "0         0              0.65  \n",
       "1         1              0.71  \n",
       "2         1              0.80  \n",
       "3         1              0.91  \n",
       "4         1              0.74  "
      ]
     },
     "execution_count": 6,
     "metadata": {},
     "output_type": "execute_result"
    }
   ],
   "source": [
    "df=pd.read_csv(\"AdmissionDataset/data.csv\")\n",
    "df.head()"
   ]
  },
  {
   "cell_type": "code",
   "execution_count": 7,
   "metadata": {},
   "outputs": [],
   "source": [
    "df.drop('Serial No.',axis=1,inplace=True)"
   ]
  },
  {
   "cell_type": "code",
   "execution_count": 8,
   "metadata": {},
   "outputs": [
    {
     "data": {
      "text/html": [
       "<div>\n",
       "<style scoped>\n",
       "    .dataframe tbody tr th:only-of-type {\n",
       "        vertical-align: middle;\n",
       "    }\n",
       "\n",
       "    .dataframe tbody tr th {\n",
       "        vertical-align: top;\n",
       "    }\n",
       "\n",
       "    .dataframe thead th {\n",
       "        text-align: right;\n",
       "    }\n",
       "</style>\n",
       "<table border=\"1\" class=\"dataframe\">\n",
       "  <thead>\n",
       "    <tr style=\"text-align: right;\">\n",
       "      <th></th>\n",
       "      <th>GRE Score</th>\n",
       "      <th>TOEFL Score</th>\n",
       "      <th>University Rating</th>\n",
       "      <th>SOP</th>\n",
       "      <th>LOR</th>\n",
       "      <th>CGPA</th>\n",
       "      <th>Research</th>\n",
       "      <th>Chance of Admit</th>\n",
       "    </tr>\n",
       "  </thead>\n",
       "  <tbody>\n",
       "    <tr>\n",
       "      <th>0</th>\n",
       "      <td>317</td>\n",
       "      <td>103</td>\n",
       "      <td>2</td>\n",
       "      <td>2.5</td>\n",
       "      <td>2.0</td>\n",
       "      <td>8.15</td>\n",
       "      <td>0</td>\n",
       "      <td>0.65</td>\n",
       "    </tr>\n",
       "    <tr>\n",
       "      <th>1</th>\n",
       "      <td>319</td>\n",
       "      <td>108</td>\n",
       "      <td>3</td>\n",
       "      <td>3.0</td>\n",
       "      <td>3.5</td>\n",
       "      <td>8.54</td>\n",
       "      <td>1</td>\n",
       "      <td>0.71</td>\n",
       "    </tr>\n",
       "    <tr>\n",
       "      <th>2</th>\n",
       "      <td>322</td>\n",
       "      <td>110</td>\n",
       "      <td>3</td>\n",
       "      <td>3.5</td>\n",
       "      <td>2.5</td>\n",
       "      <td>8.67</td>\n",
       "      <td>1</td>\n",
       "      <td>0.80</td>\n",
       "    </tr>\n",
       "    <tr>\n",
       "      <th>3</th>\n",
       "      <td>326</td>\n",
       "      <td>113</td>\n",
       "      <td>5</td>\n",
       "      <td>4.5</td>\n",
       "      <td>4.0</td>\n",
       "      <td>9.40</td>\n",
       "      <td>1</td>\n",
       "      <td>0.91</td>\n",
       "    </tr>\n",
       "    <tr>\n",
       "      <th>4</th>\n",
       "      <td>319</td>\n",
       "      <td>106</td>\n",
       "      <td>3</td>\n",
       "      <td>3.5</td>\n",
       "      <td>2.5</td>\n",
       "      <td>8.33</td>\n",
       "      <td>1</td>\n",
       "      <td>0.74</td>\n",
       "    </tr>\n",
       "  </tbody>\n",
       "</table>\n",
       "</div>"
      ],
      "text/plain": [
       "   GRE Score  TOEFL Score  University Rating  SOP  LOR   CGPA  Research  \\\n",
       "0        317          103                  2  2.5   2.0  8.15         0   \n",
       "1        319          108                  3  3.0   3.5  8.54         1   \n",
       "2        322          110                  3  3.5   2.5  8.67         1   \n",
       "3        326          113                  5  4.5   4.0  9.40         1   \n",
       "4        319          106                  3  3.5   2.5  8.33         1   \n",
       "\n",
       "   Chance of Admit   \n",
       "0              0.65  \n",
       "1              0.71  \n",
       "2              0.80  \n",
       "3              0.91  \n",
       "4              0.74  "
      ]
     },
     "execution_count": 8,
     "metadata": {},
     "output_type": "execute_result"
    }
   ],
   "source": [
    "df.head()"
   ]
  },
  {
   "cell_type": "code",
   "execution_count": 9,
   "metadata": {},
   "outputs": [],
   "source": [
    "training_data = df.sample(frac = 0.8, random_state = 200)\n",
    "testing_data = df.drop(training_data.index)"
   ]
  },
  {
   "cell_type": "markdown",
   "metadata": {},
   "source": [
    "### Feature Normalisation\n",
    "${x_i}$= $\\frac{x_i - \\mu}{\\sigma}$ \n",
    "\n",
    "Feature Normalisation is done because data in some columns is very small in comparison to other columns data."
   ]
  },
  {
   "cell_type": "code",
   "execution_count": 10,
   "metadata": {},
   "outputs": [
    {
     "data": {
      "text/html": [
       "<div>\n",
       "<style scoped>\n",
       "    .dataframe tbody tr th:only-of-type {\n",
       "        vertical-align: middle;\n",
       "    }\n",
       "\n",
       "    .dataframe tbody tr th {\n",
       "        vertical-align: top;\n",
       "    }\n",
       "\n",
       "    .dataframe thead th {\n",
       "        text-align: right;\n",
       "    }\n",
       "</style>\n",
       "<table border=\"1\" class=\"dataframe\">\n",
       "  <thead>\n",
       "    <tr style=\"text-align: right;\">\n",
       "      <th></th>\n",
       "      <th>Ones</th>\n",
       "      <th>GRE Score</th>\n",
       "      <th>TOEFL Score</th>\n",
       "      <th>University Rating</th>\n",
       "      <th>SOP</th>\n",
       "      <th>LOR</th>\n",
       "      <th>CGPA</th>\n",
       "      <th>Research</th>\n",
       "    </tr>\n",
       "  </thead>\n",
       "  <tbody>\n",
       "    <tr>\n",
       "      <th>198</th>\n",
       "      <td>1</td>\n",
       "      <td>-0.126730</td>\n",
       "      <td>-1.030256</td>\n",
       "      <td>-0.105307</td>\n",
       "      <td>0.130771</td>\n",
       "      <td>1.132289</td>\n",
       "      <td>0.911363</td>\n",
       "      <td>-1.091697</td>\n",
       "    </tr>\n",
       "    <tr>\n",
       "      <th>39</th>\n",
       "      <td>1</td>\n",
       "      <td>-0.389434</td>\n",
       "      <td>-0.366764</td>\n",
       "      <td>-0.986945</td>\n",
       "      <td>-0.881652</td>\n",
       "      <td>-0.487409</td>\n",
       "      <td>-0.769447</td>\n",
       "      <td>-1.091697</td>\n",
       "    </tr>\n",
       "    <tr>\n",
       "      <th>215</th>\n",
       "      <td>1</td>\n",
       "      <td>-0.739706</td>\n",
       "      <td>0.462602</td>\n",
       "      <td>-0.105307</td>\n",
       "      <td>0.130771</td>\n",
       "      <td>-0.487409</td>\n",
       "      <td>-0.969147</td>\n",
       "      <td>0.913461</td>\n",
       "    </tr>\n",
       "    <tr>\n",
       "      <th>303</th>\n",
       "      <td>1</td>\n",
       "      <td>-0.389434</td>\n",
       "      <td>0.130855</td>\n",
       "      <td>-0.105307</td>\n",
       "      <td>0.130771</td>\n",
       "      <td>-0.487409</td>\n",
       "      <td>-0.087138</td>\n",
       "      <td>-1.091697</td>\n",
       "    </tr>\n",
       "    <tr>\n",
       "      <th>377</th>\n",
       "      <td>1</td>\n",
       "      <td>0.398678</td>\n",
       "      <td>0.296729</td>\n",
       "      <td>0.776331</td>\n",
       "      <td>0.636983</td>\n",
       "      <td>0.592390</td>\n",
       "      <td>0.162488</td>\n",
       "      <td>0.913461</td>\n",
       "    </tr>\n",
       "  </tbody>\n",
       "</table>\n",
       "</div>"
      ],
      "text/plain": [
       "     Ones  GRE Score  TOEFL Score  University Rating       SOP      LOR   \\\n",
       "198     1  -0.126730    -1.030256          -0.105307  0.130771  1.132289   \n",
       "39      1  -0.389434    -0.366764          -0.986945 -0.881652 -0.487409   \n",
       "215     1  -0.739706     0.462602          -0.105307  0.130771 -0.487409   \n",
       "303     1  -0.389434     0.130855          -0.105307  0.130771 -0.487409   \n",
       "377     1   0.398678     0.296729           0.776331  0.636983  0.592390   \n",
       "\n",
       "         CGPA  Research  \n",
       "198  0.911363 -1.091697  \n",
       "39  -0.769447 -1.091697  \n",
       "215 -0.969147  0.913461  \n",
       "303 -0.087138 -1.091697  \n",
       "377  0.162488  0.913461  "
      ]
     },
     "execution_count": 10,
     "metadata": {},
     "output_type": "execute_result"
    }
   ],
   "source": [
    "columns=training_data.shape[1]\n",
    "X=training_data.iloc[:,0:columns-1]# features Sets\n",
    "\n",
    "mu=X.mean()\n",
    "sigma=X.std()\n",
    "\n",
    "# features normalisation\n",
    "X=(X-X.mean())/X.std()\n",
    "\n",
    "Y=training_data.iloc[:,columns-1:columns] # outputSet\n",
    "X.insert(0, 'Ones', 1)\n",
    "X.head()"
   ]
  },
  {
   "cell_type": "code",
   "execution_count": 11,
   "metadata": {},
   "outputs": [],
   "source": [
    "X = np.matrix(X.values)\n",
    "Y = np.matrix(Y.values)\n",
    "# print(X.shape)\n",
    "# print(Y.shape)\n",
    "\n",
    "#Convert the Y into discreate, keeping the 0.5 is the threshold\n",
    "Y= (Y >=0.5)\n",
    "\n"
   ]
  },
  {
   "cell_type": "markdown",
   "metadata": {},
   "source": [
    "#### Sigmoid Function \n",
    "${g(z)}$=${(1+e^{-z})^{-1} }$"
   ]
  },
  {
   "cell_type": "code",
   "execution_count": 12,
   "metadata": {},
   "outputs": [],
   "source": [
    "def sigmoid(z):\n",
    "    g=0.0\n",
    "    g=1+np.exp(-z)\n",
    "    return np.power(g,-1)"
   ]
  },
  {
   "cell_type": "markdown",
   "metadata": {},
   "source": [
    "#### CostFunction\n",
    "${J(\\theta)} =-{\\frac{1}{m}}{\\sum_{i=0}^{m}}[{y_i}{log\\hat{y_i}}+(1-{y_i}){log(1-\\hat{y_i}})]$\n",
    "\n",
    "J: is cost function\n",
    "\n",
    "\n",
    "m : no. of training examples\n",
    "\n",
    "${\\theta}$: parameters"
   ]
  },
  {
   "cell_type": "code",
   "execution_count": 17,
   "metadata": {},
   "outputs": [],
   "source": [
    "def CostFunction(X,y,theta):\n",
    "    prediction1= np.log(sigmoid(X*theta.T))\n",
    "    prediction2= np.log(1-sigmoid(X*theta.T))\n",
    "    prediction1=np.multiply(y,prediction1)\n",
    "    prediction2=np.multiply((1-y),prediction2)\n",
    "    return -(np.sum(prediction1+prediction2))/X.shape[0]"
   ]
  },
  {
   "cell_type": "markdown",
   "metadata": {},
   "source": [
    "#### Gradient Descent algo\n",
    "repeat Untill Converges{\n",
    "\n",
    "\n",
    "${{\\theta_j} :=}{{\\theta_j}}$-${\\alpha}$*${\\frac{\\partial}{\\partial {\\theta_j}} J(\\theta)}$\n",
    "\n",
    "\n",
    "}\n",
    "\n",
    "${\\alpha}$: Learning rate constant"
   ]
  },
  {
   "cell_type": "code",
   "execution_count": 18,
   "metadata": {},
   "outputs": [],
   "source": [
    "def gradientDescent(X, y, theta, alpha, iters):\n",
    "    \n",
    "    Jhistory=np.zeros(iters)\n",
    "    m=len(X)\n",
    "    for i in range(iters):\n",
    "        pre = (X*theta.T)-y\n",
    "        #print(pre.shape)\n",
    "        delta=np.dot(np.transpose(pre),X)\n",
    "        theta=theta-(alpha/m)*delta\n",
    "        \n",
    "        \n",
    "        Jhistory[i] = CostFunction(X, y, theta)\n",
    "        \n",
    "    return theta,Jhistory"
   ]
  },
  {
   "cell_type": "markdown",
   "metadata": {},
   "source": [
    "#### Behavoiur of ${ \\alpha} $ \n",
    "1. If we put ${\\alpha=}$ some -ve value like ${-.001}$ then we can see that cost is increasing w.r.t to no of iterations.\n",
    "2. Generally , we take alpha value initially some like .001 , then kept increasing by multiple of 3 and keep seeing the behavour of cost w.r.t to ${\\alpha}$ and no of iterations. \n",
    "3. ${\\alpha}$ can't be too big because it overshoot the gradient and can't be too small because it will be too slow .\n",
    "4. Change the alpha , see the change in behaviour of cost function."
   ]
  },
  {
   "cell_type": "code",
   "execution_count": 19,
   "metadata": {},
   "outputs": [
    {
     "name": "stdout",
     "output_type": "stream",
     "text": [
      "(1, 8)\n",
      "[[ 9.13780609e-01  1.64873217e-02  3.74605306e-02 -2.68236756e-02\n",
      "  -3.01325158e-02  4.75261309e-02  8.30618377e-02  9.07701687e-04]]\n"
     ]
    }
   ],
   "source": [
    "alpha=.009\n",
    "iters=1000\n",
    "theta = np.matrix(np.array([0,0,0,0,0,0,0,0]))\n",
    "minTheta, cost2= gradientDescent(X, Y, theta, alpha, iters)\n",
    "print(minTheta.shape)\n",
    "print(minTheta)"
   ]
  },
  {
   "cell_type": "code",
   "execution_count": 20,
   "metadata": {},
   "outputs": [
    {
     "data": {
      "text/plain": [
       "Text(0.5, 1.0, 'Visualisation of change in Cost w.r.t to iterations')"
      ]
     },
     "execution_count": 20,
     "metadata": {},
     "output_type": "execute_result"
    },
    {
     "data": {
      "image/png": "[encoded data removed]",
      "text/plain": [
       "<Figure size 720x432 with 1 Axes>"
      ]
     },
     "metadata": {
      "needs_background": "light"
     },
     "output_type": "display_data"
    }
   ],
   "source": [
    "ig, ax = plt.subplots(figsize=(10,6))\n",
    "ax.plot(np.arange(iters), cost2, 'r')\n",
    "ax.set_xlabel('Iterations')\n",
    "ax.set_ylabel('Cost')\n",
    "ax.set_title('Visualisation of change in Cost w.r.t to iterations')"
   ]
  },
  {
   "cell_type": "code",
   "execution_count": 21,
   "metadata": {},
   "outputs": [
    {
     "name": "stdout",
     "output_type": "stream",
     "text": [
      "(90, 7)\n"
     ]
    }
   ],
   "source": [
    "# for testing data\n",
    "columns=testing_data.shape[1]\n",
    "X_test=testing_data.iloc[:,0:columns-1]# features Sets\n",
    "Y_test=testing_data.iloc[:,columns-1:columns] # outputSet\n",
    "Y_test=(Y_test>=0.5)\n",
    "print(X_test.shape)"
   ]
  },
  {
   "cell_type": "code",
   "execution_count": 22,
   "metadata": {},
   "outputs": [],
   "source": [
    "def prediction(test_data,threshold=0.5):\n",
    "    a=np.matrix(np.array([1]))\n",
    "    m=np.matrix(np.array(mu))\n",
    "    s=np.matrix(np.array(sigma))\n",
    "    test=np.matrix(np.array(test_data))\n",
    "    \n",
    "    test=(test-m)/s\n",
    "    \n",
    "    test=np.hstack((a,test))\n",
    "    z= np.dot(test,minTheta.T)\n",
    "    z=sigmoid(z)\n",
    "    if z > threshold:# 0.5 is our threshold,we set threshold acccording to observations\n",
    "        return True\n",
    "    else:\n",
    "        return False"
   ]
  },
  {
   "cell_type": "code",
   "execution_count": 23,
   "metadata": {},
   "outputs": [
    {
     "name": "stdout",
     "output_type": "stream",
     "text": [
      "True\n"
     ]
    }
   ],
   "source": [
    "testSet = [315,103,2,2.5,2,8.5,0]# 7 features values\n",
    "result = prediction(testSet)\n",
    "print(result)"
   ]
  },
  {
   "cell_type": "code",
   "execution_count": 24,
   "metadata": {},
   "outputs": [
    {
     "name": "stdout",
     "output_type": "stream",
     "text": [
      "[ True]\n"
     ]
    },
    {
     "name": "stderr",
     "output_type": "stream",
     "text": [
      "/usr/local/lib/python3.6/dist-packages/sklearn/utils/validation.py:761: DataConversionWarning: A column-vector y was passed when a 1d array was expected. Please change the shape of y to (n_samples, ), for example using ravel().\n",
      "  y = column_or_1d(y, warn=True)\n"
     ]
    }
   ],
   "source": [
    "from sklearn.linear_model import LogisticRegression\n",
    "\n",
    "a=np.matrix(np.array([1]))\n",
    "m=np.matrix(np.array(mu))\n",
    "s=np.matrix(np.array(sigma))\n",
    "test=np.matrix(np.array(testSet))\n",
    "test=(test-m)/s\n",
    "test=np.hstack((a,test))\n",
    "\n",
    "model = LogisticRegression(random_state=0, solver='lbfgs',multi_class='ovr')\n",
    "model.fit(X, Y)\n",
    "\n",
    "X_predict = np.matrix(np.array(test)) \n",
    "y_predict = model.predict(X_predict)\n",
    "print(y_predict)"
   ]
  },
  {
   "cell_type": "code",
   "execution_count": 25,
   "metadata": {},
   "outputs": [],
   "source": [
    "output=[]#empty list\n",
    "#b=.2\n",
    "for i in range(0,len(X_test)):\n",
    "    a=prediction(X_test.iloc[i].tolist())\n",
    "    #b=np.asscalar(a)\n",
    "    output.append(a)\n",
    "#print(output)"
   ]
  },
  {
   "cell_type": "code",
   "execution_count": 26,
   "metadata": {},
   "outputs": [
    {
     "data": {
      "text/plain": [
       "95.55555555555556"
      ]
     },
     "execution_count": 26,
     "metadata": {},
     "output_type": "execute_result"
    }
   ],
   "source": [
    "accuracy =np.count_nonzero(Y_test==output)/len(Y_test)*100\n",
    "accuracy"
   ]
  },
  {
   "cell_type": "markdown",
   "metadata": {},
   "source": [
    "#### Comparing with the sklearn library"
   ]
  },
  {
   "cell_type": "code",
   "execution_count": 27,
   "metadata": {},
   "outputs": [
    {
     "name": "stderr",
     "output_type": "stream",
     "text": [
      "/usr/local/lib/python3.6/dist-packages/sklearn/utils/validation.py:761: DataConversionWarning: A column-vector y was passed when a 1d array was expected. Please change the shape of y to (n_samples, ), for example using ravel().\n",
      "  y = column_or_1d(y, warn=True)\n"
     ]
    },
    {
     "data": {
      "text/plain": [
       "95.55555555555556"
      ]
     },
     "execution_count": 27,
     "metadata": {},
     "output_type": "execute_result"
    }
   ],
   "source": [
    "from sklearn.metrics import accuracy_score\n",
    "model = LogisticRegression(random_state=0, solver='lbfgs',multi_class='ovr')\n",
    "model.fit(X, Y)\n",
    "a=np.ones((X_test.shape[0],1))\n",
    "\n",
    "a=np.hstack((a,X_test))\n",
    "q_scikit = model.predict(a)\n",
    "q_scikit=list(q_scikit)\n",
    "#print(q_scikit)\n",
    "\n",
    "accu_scikit =np.count_nonzero(Y_test==q_scikit)/len(Y_test)*100\n",
    "accu_scikit"
   ]
  },
  {
   "cell_type": "code",
   "execution_count": 28,
   "metadata": {},
   "outputs": [],
   "source": [
    "def pre_And_Recall(Y_test,output):\n",
    "    Y_test=1*Y_test\n",
    "    output=1*output\n",
    "    actual_result=list(Y_test.values)\n",
    "    Tp=0\n",
    "    Tn=0\n",
    "    Fp=0\n",
    "    Fn=0\n",
    "    for i in range(0,len(actual_result)):\n",
    "        if actual_result[i]==output[i] and actual_result[i]==1:\n",
    "            Tp+=1\n",
    "        elif actual_result[i]==output[i] and actual_result[i]==0:\n",
    "            Tn+=1\n",
    "        elif actual_result[i]==0 and output[i]==1:\n",
    "            Fp+=1\n",
    "        else:\n",
    "            Fn+=1\n",
    "\n",
    "    accuracy=(Tp+Tn)/len(actual_result)\n",
    "    precision=Tp/(Tp+Fp)\n",
    "    recall=Tp/(Tp+Fn)\n",
    "    F1_Score=2*precision*recall/(recall+precision)\n",
    "    return accuracy,precision,recall,F1_Score"
   ]
  },
  {
   "cell_type": "code",
   "execution_count": 29,
   "metadata": {},
   "outputs": [
    {
     "name": "stdout",
     "output_type": "stream",
     "text": [
      "0.9555555555555556\n",
      "0.9555555555555556\n",
      "1.0\n",
      "0.9772727272727273\n"
     ]
    }
   ],
   "source": [
    "accuracy,precision,recall,F1_Score=pre_And_Recall(Y_test,output)\n",
    "print(accuracy)\n",
    "print(precision)\n",
    "print(recall)\n",
    "print(F1_Score)"
   ]
  },
  {
   "cell_type": "markdown",
   "metadata": {},
   "source": [
    "##### co-relation between threshold value vs precision and recall"
   ]
  },
  {
   "cell_type": "code",
   "execution_count": 30,
   "metadata": {},
   "outputs": [],
   "source": [
    "threshold_list=[.2,.3,.4,.45,0.5,.55,0.6,.65,0.7,.75]\n",
    "\n",
    "accu=[]\n",
    "rec=[]\n",
    "prec=[]\n",
    "\n",
    "for x in range(0,len(threshold_list)):\n",
    "    output=[]\n",
    "    for i in range(0,len(X_test)):\n",
    "        a=prediction(X_test.iloc[i].tolist(),threshold_list[x])\n",
    "        output.append(a)\n",
    "    accuracy,precision,recall,F1_Score=pre_And_Recall(Y_test,output)\n",
    "    accu.append(accuracy)\n",
    "    rec.append(recall)\n",
    "    prec.append(precision)\n"
   ]
  },
  {
   "cell_type": "code",
   "execution_count": 31,
   "metadata": {},
   "outputs": [
    {
     "data": {
      "text/plain": [
       "Text(0.5, 1.0, 'Visualisation')"
      ]
     },
     "execution_count": 31,
     "metadata": {},
     "output_type": "execute_result"
    },
    {
     "data": {
      "image/png": "[encoded data removed]",
      "text/plain": [
       "<Figure size 432x288 with 1 Axes>"
      ]
     },
     "metadata": {
      "needs_background": "light"
     },
     "output_type": "display_data"
    }
   ],
   "source": [
    "plt.plot(threshold_list,accu,'b')\n",
    "plt.scatter(threshold_list,accu)\n",
    "plt.xlabel('threshold')\n",
    "plt.ylabel('accuracy')\n",
    "plt.title('Visualisation')"
   ]
  },
  {
   "cell_type": "code",
   "execution_count": 32,
   "metadata": {},
   "outputs": [
    {
     "data": {
      "text/plain": [
       "Text(0.5, 1.0, 'Visualisation')"
      ]
     },
     "execution_count": 32,
     "metadata": {},
     "output_type": "execute_result"
    },
    {
     "data": {
      "image/png": "[encoded data removed]",
      "text/plain": [
       "<Figure size 432x288 with 1 Axes>"
      ]
     },
     "metadata": {
      "needs_background": "light"
     },
     "output_type": "display_data"
    }
   ],
   "source": [
    "plt.scatter(threshold_list,rec)\n",
    "plt.plot(threshold_list,rec,'g')\n",
    "plt.xlabel('threshold')\n",
    "plt.ylabel('Recall')\n",
    "plt.title('Visualisation')"
   ]
  },
  {
   "cell_type": "code",
   "execution_count": 33,
   "metadata": {},
   "outputs": [
    {
     "data": {
      "text/plain": [
       "Text(0.5, 1.0, 'Visualisation')"
      ]
     },
     "execution_count": 33,
     "metadata": {},
     "output_type": "execute_result"
    },
    {
     "data": {
      "image/png": "[encoded data removed]",
      "text/plain": [
       "<Figure size 432x288 with 1 Axes>"
      ]
     },
     "metadata": {
      "needs_background": "light"
     },
     "output_type": "display_data"
    }
   ],
   "source": [
    "plt.scatter(threshold_list,prec)\n",
    "plt.plot(threshold_list,prec,'g')\n",
    "\n",
    "plt.xlabel('threshold')\n",
    "plt.ylabel('Precision')\n",
    "plt.title('Visualisation')"
   ]
  },
  {
   "cell_type": "markdown",
   "metadata": {},
   "source": [
    "#### Compare the performances of logistic regression model with KNN model"
   ]
  },
  {
   "cell_type": "code",
   "execution_count": 34,
   "metadata": {},
   "outputs": [
    {
     "data": {
      "text/html": [
       "<div>\n",
       "<style scoped>\n",
       "    .dataframe tbody tr th:only-of-type {\n",
       "        vertical-align: middle;\n",
       "    }\n",
       "\n",
       "    .dataframe tbody tr th {\n",
       "        vertical-align: top;\n",
       "    }\n",
       "\n",
       "    .dataframe thead th {\n",
       "        text-align: right;\n",
       "    }\n",
       "</style>\n",
       "<table border=\"1\" class=\"dataframe\">\n",
       "  <thead>\n",
       "    <tr style=\"text-align: right;\">\n",
       "      <th></th>\n",
       "      <th>GRE Score</th>\n",
       "      <th>TOEFL Score</th>\n",
       "      <th>University Rating</th>\n",
       "      <th>SOP</th>\n",
       "      <th>LOR</th>\n",
       "      <th>CGPA</th>\n",
       "      <th>Research</th>\n",
       "      <th>Chance of Admit</th>\n",
       "    </tr>\n",
       "  </thead>\n",
       "  <tbody>\n",
       "    <tr>\n",
       "      <th>198</th>\n",
       "      <td>-0.126730</td>\n",
       "      <td>-1.030256</td>\n",
       "      <td>-0.105307</td>\n",
       "      <td>0.130771</td>\n",
       "      <td>1.132289</td>\n",
       "      <td>0.911363</td>\n",
       "      <td>-1.091697</td>\n",
       "      <td>1</td>\n",
       "    </tr>\n",
       "    <tr>\n",
       "      <th>39</th>\n",
       "      <td>-0.389434</td>\n",
       "      <td>-0.366764</td>\n",
       "      <td>-0.986945</td>\n",
       "      <td>-0.881652</td>\n",
       "      <td>-0.487409</td>\n",
       "      <td>-0.769447</td>\n",
       "      <td>-1.091697</td>\n",
       "      <td>1</td>\n",
       "    </tr>\n",
       "    <tr>\n",
       "      <th>215</th>\n",
       "      <td>-0.739706</td>\n",
       "      <td>0.462602</td>\n",
       "      <td>-0.105307</td>\n",
       "      <td>0.130771</td>\n",
       "      <td>-0.487409</td>\n",
       "      <td>-0.969147</td>\n",
       "      <td>0.913461</td>\n",
       "      <td>0</td>\n",
       "    </tr>\n",
       "    <tr>\n",
       "      <th>303</th>\n",
       "      <td>-0.389434</td>\n",
       "      <td>0.130855</td>\n",
       "      <td>-0.105307</td>\n",
       "      <td>0.130771</td>\n",
       "      <td>-0.487409</td>\n",
       "      <td>-0.087138</td>\n",
       "      <td>-1.091697</td>\n",
       "      <td>1</td>\n",
       "    </tr>\n",
       "    <tr>\n",
       "      <th>377</th>\n",
       "      <td>0.398678</td>\n",
       "      <td>0.296729</td>\n",
       "      <td>0.776331</td>\n",
       "      <td>0.636983</td>\n",
       "      <td>0.592390</td>\n",
       "      <td>0.162488</td>\n",
       "      <td>0.913461</td>\n",
       "      <td>1</td>\n",
       "    </tr>\n",
       "  </tbody>\n",
       "</table>\n",
       "</div>"
      ],
      "text/plain": [
       "     GRE Score  TOEFL Score  University Rating       SOP      LOR       CGPA  \\\n",
       "198  -0.126730    -1.030256          -0.105307  0.130771  1.132289  0.911363   \n",
       "39   -0.389434    -0.366764          -0.986945 -0.881652 -0.487409 -0.769447   \n",
       "215  -0.739706     0.462602          -0.105307  0.130771 -0.487409 -0.969147   \n",
       "303  -0.389434     0.130855          -0.105307  0.130771 -0.487409 -0.087138   \n",
       "377   0.398678     0.296729           0.776331  0.636983  0.592390  0.162488   \n",
       "\n",
       "     Research Chance of Admit   \n",
       "198 -1.091697                1  \n",
       "39  -1.091697                1  \n",
       "215  0.913461                0  \n",
       "303 -1.091697                1  \n",
       "377  0.913461                1  "
      ]
     },
     "execution_count": 34,
     "metadata": {},
     "output_type": "execute_result"
    }
   ],
   "source": [
    "#prepare the data for KNN\n",
    "columns=training_data.shape[1]\n",
    "XtrainKNN=training_data.iloc[:,0:columns-1]# features Sets\n",
    "\n",
    "XtrainKNN=(XtrainKNN-mu)/sigma\n",
    "YtrainKNN=training_data.iloc[:,columns-1:columns]\n",
    "#YtrainKNN = np.matrix(YtrainKNN.values)\n",
    "YtrainKNN=(YtrainKNN>=.5)\n",
    "XtrainKNN=XtrainKNN.join(YtrainKNN*1)\n",
    "XtrainKNN.head()\n",
    "\n",
    "\n",
    "## test data for KNN\n",
    "XtestKNN=testing_data.iloc[:,0:columns-1]# features Sets\n",
    "\n",
    "XtestKNN=(XtestKNN-mu)/sigma\n",
    "YtestKNN=testing_data.iloc[:,columns-1:columns]\n",
    "#YtrainKNN = np.matrix(YtrainKNN.values)\n",
    "YtestKNN=(YtestKNN>=.5)\n",
    "XtestKNN=XtestKNN.join(YtestKNN*1)\n",
    "XtrainKNN.head()"
   ]
  },
  {
   "cell_type": "markdown",
   "metadata": {},
   "source": [
    "#### Euclidean Distance\n",
    ">   distance= ${\\sqrt{\\sum_{i=0}^{N} ({x_i-y_i})^2 }}$ "
   ]
  },
  {
   "cell_type": "code",
   "execution_count": 40,
   "metadata": {},
   "outputs": [],
   "source": [
    "import operator\n",
    "#vectorised Implementation \n",
    "def eucli_dist(point1,point2,length):\n",
    "    point2=point2[0:length]\n",
    "    point1=point1[0:length]\n",
    "    a1=np.array(point1)\n",
    "    a2=np.array(point2)\n",
    "    return np.asscalar(np.sqrt(sum(np.square(a1-a2))))"
   ]
  },
  {
   "cell_type": "code",
   "execution_count": 41,
   "metadata": {},
   "outputs": [],
   "source": [
    "def KNN(training_data,test, k):\n",
    "    length = training_data.shape[1]-1\n",
    "    help = []\n",
    "    votes = {}\n",
    "    for j in range(training_data.shape[0]):\n",
    "        train_data = list(training_data.iloc[j])\n",
    "            \n",
    "        dist = eucli_dist(test, train_data, length)\n",
    "        help.append((train_data, dist))\n",
    "    #print(help)\n",
    "            \n",
    "    help.sort(key=operator.itemgetter(1))\n",
    "    K_listNeighb = []\n",
    "\n",
    "    for i in range(0, k):\n",
    "        K_listNeighb.append(help[i][0])\n",
    "        \n",
    "\n",
    "    for i in range(0, len(K_listNeighb)):\n",
    "        val = K_listNeighb[i][-1] \n",
    "        \n",
    "        if val in votes:\n",
    "            votes[val] += 1\n",
    "        else:\n",
    "            votes[val] = 1\n",
    "            \n",
    "    final_sort = sorted(votes.items(), key=operator.itemgetter(1), reverse = True )\n",
    "    return final_sort[0][0]"
   ]
  },
  {
   "cell_type": "code",
   "execution_count": 42,
   "metadata": {},
   "outputs": [],
   "source": [
    "value = [] \n",
    "def prediction(training_data,testing_data,k):\n",
    "    \n",
    "    accuracy=0.0\n",
    "    \n",
    "    right=0\n",
    "    wrong=0\n",
    "    \n",
    "    for i in range(0,testing_data.shape[0]):\n",
    "        inst = list(testing_data.iloc[i])\n",
    "        actualAns = inst[-1]\n",
    "        val = KNN(training_data,inst, k)\n",
    "        \n",
    "        if actualAns == val:\n",
    "            right+=1\n",
    "        else:\n",
    "            wrong+=1\n",
    "            \n",
    "    accuracy = (right)/(right+wrong)*100\n",
    "    \n",
    "    value.append(accuracy)\n",
    "    print(\"K = \",k,\" Accuracy \",accuracy,\"%\")"
   ]
  },
  {
   "cell_type": "markdown",
   "metadata": {},
   "source": [
    "#### Prediction for different values of K"
   ]
  },
  {
   "cell_type": "code",
   "execution_count": 43,
   "metadata": {},
   "outputs": [
    {
     "name": "stdout",
     "output_type": "stream",
     "text": [
      "K =  1  Accuracy  92.22222222222223 %\n",
      "K =  3  Accuracy  96.66666666666667 %\n",
      "K =  5  Accuracy  96.66666666666667 %\n",
      "K =  7  Accuracy  97.77777777777777 %\n",
      "K =  9  Accuracy  97.77777777777777 %\n"
     ]
    },
    {
     "data": {
      "image/png": "[encoded data removed]",
      "text/plain": [
       "<Figure size 432x288 with 1 Axes>"
      ]
     },
     "metadata": {
      "needs_background": "light"
     },
     "output_type": "display_data"
    }
   ],
   "source": [
    "k = [1,3,5,7,9]\n",
    "for i in range(1, 10, 2):\n",
    "    prediction(XtrainKNN,XtestKNN,i)  \n",
    "\n",
    "plt.plot(k,value,'g')\n",
    "plt.scatter(k,value)\n",
    "plt.xlabel('K')\n",
    "plt.ylabel('Accuracy')\n",
    "plt.title('Visualisation')\n",
    "plt.show()"
   ]
  },
  {
   "cell_type": "markdown",
   "metadata": {},
   "source": [
    "#### for test file"
   ]
  },
  {
   "cell_type": "code",
   "execution_count": null,
   "metadata": {},
   "outputs": [],
   "source": [
    "#do not run this on jupyter, download the python file and then with appropiate arguments\n",
    "import sys\n",
    "testFile=pd.read_csv(str(sys.argv[1]))\n",
    "testFile.head()\n",
    "testFile.drop('Serial No.',axis=1,inplace=True)\n",
    "columns=testFile.shape[1]\n",
    "X_testFile=testFile.iloc[:,0:columns-1]\n",
    "\n",
    "outestFile=[]#empty list\n",
    "for i in range(0,len(X_testFile)):\n",
    "    a=prediction(X_testFile.iloc[i].tolist())\n",
    "    b=np.asscalar(a)\n",
    "    outestFile.append(b)\n",
    "\n",
    "print(outestFile)"
   ]
  }
 ],
 "metadata": {
  "kernelspec": {
   "display_name": "Python 3",
   "language": "python",
   "name": "python3"
  },
  "language_info": {
   "codemirror_mode": {
    "name": "ipython",
    "version": 3
   },
   "file_extension": ".py",
   "mimetype": "text/x-python",
   "name": "python",
   "nbconvert_exporter": "python",
   "pygments_lexer": "ipython3",
   "version": "3.6.7"
  }
 },
 "nbformat": 4,
 "nbformat_minor": 2
}
