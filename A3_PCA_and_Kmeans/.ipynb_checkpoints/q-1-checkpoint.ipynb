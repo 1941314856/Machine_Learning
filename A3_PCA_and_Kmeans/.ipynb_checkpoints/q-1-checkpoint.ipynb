{
 "cells": [
  {
   "cell_type": "markdown",
   "metadata": {},
   "source": [
    "### Question1 :\n",
    "#### Part1:Dimensionality Reduction using PCA"
   ]
  },
  {
   "cell_type": "markdown",
   "metadata": {},
   "source": [
    "> we have to find a set of vectors which we project the data onto the linear subspace spanned by that set of vectors ,We can define a point in a plane with k vectors"
   ]
  },
  {
   "cell_type": "code",
   "execution_count": 246,
   "metadata": {},
   "outputs": [],
   "source": [
    "import numpy as np\n",
    "import pandas as pd\n",
    "import matplotlib.pyplot as plt"
   ]
  },
  {
   "cell_type": "code",
   "execution_count": 247,
   "metadata": {},
   "outputs": [
    {
     "name": "stdout",
     "output_type": "stream",
     "text": [
      "(125973, 30)\n"
     ]
    },
    {
     "data": {
      "text/html": [
       "<div>\n",
       "<style scoped>\n",
       "    .dataframe tbody tr th:only-of-type {\n",
       "        vertical-align: middle;\n",
       "    }\n",
       "\n",
       "    .dataframe tbody tr th {\n",
       "        vertical-align: top;\n",
       "    }\n",
       "\n",
       "    .dataframe thead th {\n",
       "        text-align: right;\n",
       "    }\n",
       "</style>\n",
       "<table border=\"1\" class=\"dataframe\">\n",
       "  <thead>\n",
       "    <tr style=\"text-align: right;\">\n",
       "      <th></th>\n",
       "      <th>duration</th>\n",
       "      <th>service</th>\n",
       "      <th>src_bytes</th>\n",
       "      <th>dst_bytes</th>\n",
       "      <th>hot</th>\n",
       "      <th>num_failed_logins</th>\n",
       "      <th>num_compromised</th>\n",
       "      <th>num_root</th>\n",
       "      <th>num_file_creations</th>\n",
       "      <th>num_access_files</th>\n",
       "      <th>...</th>\n",
       "      <th>dst_host_srv_count</th>\n",
       "      <th>dst_host_same_srv_rate</th>\n",
       "      <th>dst_host_diff_srv_rate</th>\n",
       "      <th>dst_host_same_src_port_rate</th>\n",
       "      <th>dst_host_srv_diff_host_rate</th>\n",
       "      <th>dst_host_serror_rate</th>\n",
       "      <th>dst_host_srv_serror_rate</th>\n",
       "      <th>dst_host_rerror_rate</th>\n",
       "      <th>dst_host_srv_rerror_rate</th>\n",
       "      <th>xAttack</th>\n",
       "    </tr>\n",
       "  </thead>\n",
       "  <tbody>\n",
       "    <tr>\n",
       "      <th>0</th>\n",
       "      <td>0</td>\n",
       "      <td>20</td>\n",
       "      <td>491</td>\n",
       "      <td>0</td>\n",
       "      <td>0</td>\n",
       "      <td>0</td>\n",
       "      <td>0</td>\n",
       "      <td>0</td>\n",
       "      <td>0</td>\n",
       "      <td>0</td>\n",
       "      <td>...</td>\n",
       "      <td>25</td>\n",
       "      <td>0.17</td>\n",
       "      <td>0.03</td>\n",
       "      <td>0.17</td>\n",
       "      <td>0.00</td>\n",
       "      <td>0.00</td>\n",
       "      <td>0.00</td>\n",
       "      <td>0.05</td>\n",
       "      <td>0.00</td>\n",
       "      <td>normal</td>\n",
       "    </tr>\n",
       "    <tr>\n",
       "      <th>1</th>\n",
       "      <td>0</td>\n",
       "      <td>45</td>\n",
       "      <td>146</td>\n",
       "      <td>0</td>\n",
       "      <td>0</td>\n",
       "      <td>0</td>\n",
       "      <td>0</td>\n",
       "      <td>0</td>\n",
       "      <td>0</td>\n",
       "      <td>0</td>\n",
       "      <td>...</td>\n",
       "      <td>1</td>\n",
       "      <td>0.00</td>\n",
       "      <td>0.60</td>\n",
       "      <td>0.88</td>\n",
       "      <td>0.00</td>\n",
       "      <td>0.00</td>\n",
       "      <td>0.00</td>\n",
       "      <td>0.00</td>\n",
       "      <td>0.00</td>\n",
       "      <td>normal</td>\n",
       "    </tr>\n",
       "    <tr>\n",
       "      <th>2</th>\n",
       "      <td>0</td>\n",
       "      <td>50</td>\n",
       "      <td>0</td>\n",
       "      <td>0</td>\n",
       "      <td>0</td>\n",
       "      <td>0</td>\n",
       "      <td>0</td>\n",
       "      <td>0</td>\n",
       "      <td>0</td>\n",
       "      <td>0</td>\n",
       "      <td>...</td>\n",
       "      <td>26</td>\n",
       "      <td>0.10</td>\n",
       "      <td>0.05</td>\n",
       "      <td>0.00</td>\n",
       "      <td>0.00</td>\n",
       "      <td>1.00</td>\n",
       "      <td>1.00</td>\n",
       "      <td>0.00</td>\n",
       "      <td>0.00</td>\n",
       "      <td>dos</td>\n",
       "    </tr>\n",
       "    <tr>\n",
       "      <th>3</th>\n",
       "      <td>0</td>\n",
       "      <td>25</td>\n",
       "      <td>232</td>\n",
       "      <td>8153</td>\n",
       "      <td>0</td>\n",
       "      <td>0</td>\n",
       "      <td>0</td>\n",
       "      <td>0</td>\n",
       "      <td>0</td>\n",
       "      <td>0</td>\n",
       "      <td>...</td>\n",
       "      <td>255</td>\n",
       "      <td>1.00</td>\n",
       "      <td>0.00</td>\n",
       "      <td>0.03</td>\n",
       "      <td>0.04</td>\n",
       "      <td>0.03</td>\n",
       "      <td>0.01</td>\n",
       "      <td>0.00</td>\n",
       "      <td>0.01</td>\n",
       "      <td>normal</td>\n",
       "    </tr>\n",
       "    <tr>\n",
       "      <th>4</th>\n",
       "      <td>0</td>\n",
       "      <td>25</td>\n",
       "      <td>199</td>\n",
       "      <td>420</td>\n",
       "      <td>0</td>\n",
       "      <td>0</td>\n",
       "      <td>0</td>\n",
       "      <td>0</td>\n",
       "      <td>0</td>\n",
       "      <td>0</td>\n",
       "      <td>...</td>\n",
       "      <td>255</td>\n",
       "      <td>1.00</td>\n",
       "      <td>0.00</td>\n",
       "      <td>0.00</td>\n",
       "      <td>0.00</td>\n",
       "      <td>0.00</td>\n",
       "      <td>0.00</td>\n",
       "      <td>0.00</td>\n",
       "      <td>0.00</td>\n",
       "      <td>normal</td>\n",
       "    </tr>\n",
       "  </tbody>\n",
       "</table>\n",
       "<p>5 rows × 30 columns</p>\n",
       "</div>"
      ],
      "text/plain": [
       "   duration  service  src_bytes  dst_bytes  hot  num_failed_logins  \\\n",
       "0         0       20        491          0    0                  0   \n",
       "1         0       45        146          0    0                  0   \n",
       "2         0       50          0          0    0                  0   \n",
       "3         0       25        232       8153    0                  0   \n",
       "4         0       25        199        420    0                  0   \n",
       "\n",
       "   num_compromised  num_root  num_file_creations  num_access_files   ...     \\\n",
       "0                0         0                   0                 0   ...      \n",
       "1                0         0                   0                 0   ...      \n",
       "2                0         0                   0                 0   ...      \n",
       "3                0         0                   0                 0   ...      \n",
       "4                0         0                   0                 0   ...      \n",
       "\n",
       "   dst_host_srv_count  dst_host_same_srv_rate  dst_host_diff_srv_rate  \\\n",
       "0                  25                    0.17                    0.03   \n",
       "1                   1                    0.00                    0.60   \n",
       "2                  26                    0.10                    0.05   \n",
       "3                 255                    1.00                    0.00   \n",
       "4                 255                    1.00                    0.00   \n",
       "\n",
       "   dst_host_same_src_port_rate  dst_host_srv_diff_host_rate  \\\n",
       "0                         0.17                         0.00   \n",
       "1                         0.88                         0.00   \n",
       "2                         0.00                         0.00   \n",
       "3                         0.03                         0.04   \n",
       "4                         0.00                         0.00   \n",
       "\n",
       "   dst_host_serror_rate  dst_host_srv_serror_rate  dst_host_rerror_rate  \\\n",
       "0                  0.00                      0.00                  0.05   \n",
       "1                  0.00                      0.00                  0.00   \n",
       "2                  1.00                      1.00                  0.00   \n",
       "3                  0.03                      0.01                  0.00   \n",
       "4                  0.00                      0.00                  0.00   \n",
       "\n",
       "   dst_host_srv_rerror_rate  xAttack  \n",
       "0                      0.00   normal  \n",
       "1                      0.00   normal  \n",
       "2                      0.00      dos  \n",
       "3                      0.01   normal  \n",
       "4                      0.00   normal  \n",
       "\n",
       "[5 rows x 30 columns]"
      ]
     },
     "execution_count": 247,
     "metadata": {},
     "output_type": "execute_result"
    }
   ],
   "source": [
    "df=pd.read_csv(\"intrusion_detection/data.csv\")\n",
    "print(df.shape)\n",
    "df.head()"
   ]
  },
  {
   "cell_type": "markdown",
   "metadata": {},
   "source": [
    "#### Dimensionality reduction is done only on training data set"
   ]
  },
  {
   "cell_type": "code",
   "execution_count": 248,
   "metadata": {},
   "outputs": [
    {
     "name": "stdout",
     "output_type": "stream",
     "text": [
      "(100778, 29)\n",
      "(25195, 29)\n"
     ]
    }
   ],
   "source": [
    "split = int(0.8 * df.shape[0])\n",
    "training_data = df[:split] # 80% of the total data\n",
    "testing_data = df[split:]  # 20% of the total data\n",
    "\n",
    "train_pcaX=training_data.drop('xAttack',axis=1)\n",
    "test_pcaX=testing_data.drop('xAttack',axis=1)\n",
    "\n",
    "print(train_pcaX.shape)\n",
    "print(test_pcaX.shape)\n",
    "#print(test_pcaY.shape)"
   ]
  },
  {
   "cell_type": "code",
   "execution_count": 249,
   "metadata": {},
   "outputs": [],
   "source": [
    "# train_pcaX=df.drop('xAttack',axis=1)\n"
   ]
  },
  {
   "cell_type": "code",
   "execution_count": null,
   "metadata": {},
   "outputs": [],
   "source": []
  },
  {
   "cell_type": "code",
   "execution_count": 250,
   "metadata": {},
   "outputs": [
    {
     "name": "stdout",
     "output_type": "stream",
     "text": [
      "(1, 29)\n",
      "(1, 29)\n"
     ]
    }
   ],
   "source": [
    "mu=np.matrix(train_pcaX.mean())\n",
    "sigma=np.matrix(train_pcaX.std())\n",
    "#print(mu)\n",
    "print(mu.shape)\n",
    "print(sigma.shape)"
   ]
  },
  {
   "cell_type": "code",
   "execution_count": 251,
   "metadata": {},
   "outputs": [],
   "source": [
    "def pca(X):\n",
    "    # normalize the features\n",
    "    X = (X - X.mean()) / X.std()\n",
    "    \n",
    "    X = np.matrix(X)\n",
    "    coVarianceMat = (X.T * X) / X.shape[0]\n",
    "    \n",
    "    U, S, V = np.linalg.svd(coVarianceMat)\n",
    "    \n",
    "    return U, S, V"
   ]
  },
  {
   "cell_type": "code",
   "execution_count": 252,
   "metadata": {},
   "outputs": [
    {
     "data": {
      "text/plain": [
       "(29, 29)"
      ]
     },
     "execution_count": 252,
     "metadata": {},
     "output_type": "execute_result"
    }
   ],
   "source": [
    "U, S, V = pca(train_pcaX)\n",
    "U.shape"
   ]
  },
  {
   "cell_type": "code",
   "execution_count": 253,
   "metadata": {},
   "outputs": [],
   "source": [
    "def projectedDataSet_usingPCA(X, U, k):\n",
    "    U_reduced = U[:,:k]\n",
    "    return np.dot(X, U_reduced)\n"
   ]
  },
  {
   "cell_type": "markdown",
   "metadata": {},
   "source": [
    "#### Deciding the Priciple compenent\n",
    ">  By calculating the variance of data, means how much variance of data is retained after reduction, we will choose k according to that."
   ]
  },
  {
   "cell_type": "code",
   "execution_count": 254,
   "metadata": {},
   "outputs": [
    {
     "name": "stdout",
     "output_type": "stream",
     "text": [
      "[23.247563219246032, 39.974701867696474, 47.449244715166536, 53.96068544128565, 59.05200242280695, 63.68608259142605, 67.6227366286142, 71.16075988901194, 74.68437531624589, 78.13402251321014, 81.56118992640602, 84.81395919456946, 87.57124932095113, 90.0525050602537, 92.29964958830948, 94.02850815639464, 95.58428875557948, 96.9828202939414, 98.18293588540385, 98.91501021650669]\n"
     ]
    }
   ],
   "source": [
    "arr=[]\n",
    "S=np.matrix(S)\n",
    "#print(S.shape)\n",
    "for i in range(0,20):\n",
    "    arr.append(np.sum(S[:,:i+1])/np.sum(S)*100)\n",
    "\n",
    "print(arr)  "
   ]
  },
  {
   "cell_type": "markdown",
   "metadata": {},
   "source": [
    "#### We reduce the dimensions i.e no of features from n to k\n",
    ">  ${x_{m x n}}$ -----> ${z_{m x k}}$\n",
    "\n",
    "\n",
    "m: no of training examples\n",
    "\n",
    "n: no of features\n"
   ]
  },
  {
   "cell_type": "code",
   "execution_count": 255,
   "metadata": {},
   "outputs": [
    {
     "data": {
      "text/plain": [
       "(100778, 20)"
      ]
     },
     "execution_count": 255,
     "metadata": {},
     "output_type": "execute_result"
    }
   ],
   "source": [
    "k=20\n",
    "Z = projectedDataSet_usingPCA(train_pcaX, U,k)\n",
    "Z.shape"
   ]
  },
  {
   "cell_type": "code",
   "execution_count": 256,
   "metadata": {},
   "outputs": [
    {
     "data": {
      "text/plain": [
       "Text(0.5, 1.0, 'Principal Components')"
      ]
     },
     "execution_count": 256,
     "metadata": {},
     "output_type": "execute_result"
    },
    {
     "data": {
      "image/png": "[encoded data removed]",
      "text/plain": [
       "<Figure size 720x432 with 1 Axes>"
      ]
     },
     "metadata": {
      "needs_background": "light"
     },
     "output_type": "display_data"
    }
   ],
   "source": [
    "ig, ax = plt.subplots(figsize=(10,6))\n",
    "ax.plot(np.arange(20), arr, 'r')\n",
    "ax.set_xlabel('Number of Components')\n",
    "ax.set_ylabel('Variance retained %')\n",
    "ax.set_title('Principal Components')"
   ]
  },
  {
   "cell_type": "markdown",
   "metadata": {},
   "source": [
    "#### Comparing the sklearn library"
   ]
  },
  {
   "cell_type": "code",
   "execution_count": 257,
   "metadata": {},
   "outputs": [
    {
     "name": "stdout",
     "output_type": "stream",
     "text": [
      "[23.25 39.98 47.45 53.96 59.05 63.68 67.62 71.16 74.68 78.13 81.56 84.81\n",
      " 87.57 90.05 92.3  94.03 95.59 96.99 98.19 98.92]\n"
     ]
    },
    {
     "data": {
      "image/png": "[encoded data removed]",
      "text/plain": [
       "<Figure size 432x288 with 1 Axes>"
      ]
     },
     "metadata": {
      "needs_background": "light"
     },
     "output_type": "display_data"
    }
   ],
   "source": [
    "from sklearn.decomposition import PCA\n",
    "from sklearn.preprocessing import scale\n",
    "#convert it to numpy arrays\n",
    "X=train_pcaX.values\n",
    "\n",
    "#Scaling the values\n",
    "X = scale(X)\n",
    "\n",
    "pca = PCA(n_components=k)\n",
    "\n",
    "pca.fit(X)\n",
    "\n",
    "#The amount of variance that each PC explains\n",
    "var= pca.explained_variance_ratio_\n",
    "\n",
    "#Cumulative Variance explains\n",
    "var1=np.cumsum(np.round(pca.explained_variance_ratio_, decimals=4)*100)\n",
    "plt.figure()\n",
    "print(var1)\n",
    "plt.plot(var1)\n",
    "plt.xlabel('Number of Components')\n",
    "plt.ylabel('Variance (%)') #for each component\n",
    "plt.title('Pulsar Dataset Explained Variance')\n",
    "plt.show()"
   ]
  },
  {
   "cell_type": "markdown",
   "metadata": {},
   "source": [
    "#### Reconstruction of Original Data"
   ]
  },
  {
   "cell_type": "code",
   "execution_count": 258,
   "metadata": {},
   "outputs": [],
   "source": [
    "def recover_data(Z, U, k):\n",
    "    U_reduced = U[:,:k]\n",
    "    return np.dot(Z, U_reduced.T)\n"
   ]
  },
  {
   "cell_type": "code",
   "execution_count": 259,
   "metadata": {},
   "outputs": [
    {
     "data": {
      "text/plain": [
       "(100778, 29)"
      ]
     },
     "execution_count": 259,
     "metadata": {},
     "output_type": "execute_result"
    }
   ],
   "source": [
    "traindata_recovered = recover_data(Z, U,k)\n",
    "traindata_recovered.shape"
   ]
  },
  {
   "cell_type": "code",
   "execution_count": 260,
   "metadata": {},
   "outputs": [],
   "source": [
    "# traindata_recovered=(traindata_recovered*sigma.T)+mu\n",
    "# traindata_recovered"
   ]
  },
  {
   "cell_type": "code",
   "execution_count": 261,
   "metadata": {},
   "outputs": [],
   "source": [
    "def error(X_recovered):\n",
    "    avgProjectionError=(np.mean(X_recovered-train_pcaX)**2)\n",
    "    return avgProjectionError\n"
   ]
  },
  {
   "cell_type": "code",
   "execution_count": 262,
   "metadata": {},
   "outputs": [
    {
     "name": "stdout",
     "output_type": "stream",
     "text": [
      "9.270800426530407\n"
     ]
    }
   ],
   "source": [
    "print(error(traindata_recovered))\n",
    "#print(mu)\n",
    "#traindata_recovered"
   ]
  },
  {
   "cell_type": "code",
   "execution_count": 263,
   "metadata": {},
   "outputs": [
    {
     "data": {
      "image/png": "[encoded data removed]",
      "text/plain": [
       "<Figure size 720x504 with 1 Axes>"
      ]
     },
     "metadata": {
      "needs_background": "light"
     },
     "output_type": "display_data"
    }
   ],
   "source": [
    "max_comp=25\n",
    "start=10\n",
    "\n",
    "error_record=[]\n",
    "for i in range(start,max_comp):\n",
    "    Q= projectedDataSet_usingPCA(train_pcaX, U,i)\n",
    "    Q_recover=recover_data(Q,U,i)\n",
    "    error_record.append(error(Q_recover))\n",
    "    \n",
    "\n",
    "plt.figure(figsize=(10,7))\n",
    "plt.title(\"Reconstruction error of pca\")\n",
    "plt.plot(error_records,'g')\n",
    "plt.xlabel('Number of Components')\n",
    "plt.ylabel('error') #for each component\n",
    "plt.xticks(range(len(error_records)), range(start,max_comp), rotation='vertical')\n",
    "plt.xlim([-1, len(error_records)])\n",
    "plt.show()"
   ]
  },
  {
   "cell_type": "code",
   "execution_count": 264,
   "metadata": {},
   "outputs": [
    {
     "data": {
      "text/plain": [
       "<Figure size 432x288 with 0 Axes>"
      ]
     },
     "metadata": {},
     "output_type": "display_data"
    },
    {
     "data": {
      "image/png": "[encoded data removed]",
      "text/plain": [
       "<Figure size 720x720 with 1 Axes>"
      ]
     },
     "metadata": {
      "needs_background": "light"
     },
     "output_type": "display_data"
    }
   ],
   "source": [
    "from numpy import linalg as LA\n",
    "max_comp=25\n",
    "start=10\n",
    "error_records=[]\n",
    "for i in range(start,max_comp):\n",
    "    pca = PCA(n_components=i, random_state=42)\n",
    "    pca2_results = pca.fit_transform(train_pcaX)\n",
    "    pca2_proj_back=pca.inverse_transform(pca2_results)\n",
    "    total_loss=LA.norm((train_pcaX-pca2_proj_back),None)\n",
    "    error_records.append(total_loss)\n",
    "\n",
    "plt.clf()\n",
    "plt.figure(figsize=(10,10))\n",
    "plt.title(\"Reconstruction error of pca\")\n",
    "plt.plot(error_records,'r')\n",
    "plt.xticks(range(len(error_records)), range(start,max_comp), rotation='vertical')\n",
    "plt.xlim([-1, len(error_records)])\n",
    "plt.show()"
   ]
  },
  {
   "cell_type": "code",
   "execution_count": null,
   "metadata": {},
   "outputs": [],
   "source": []
  },
  {
   "cell_type": "markdown",
   "metadata": {},
   "source": [
    "#### Kmeans Algorithm with K=5"
   ]
  },
  {
   "cell_type": "code",
   "execution_count": 69,
   "metadata": {},
   "outputs": [],
   "source": [
    "noof_clusters=5"
   ]
  },
  {
   "cell_type": "code",
   "execution_count": 70,
   "metadata": {},
   "outputs": [
    {
     "data": {
      "text/plain": [
       "(5, 20)"
      ]
     },
     "execution_count": 70,
     "metadata": {},
     "output_type": "execute_result"
    }
   ],
   "source": [
    "initial_centroids=np.random.randn(noof_clusters,k)\n",
    "initial_centroids.shape"
   ]
  },
  {
   "cell_type": "markdown",
   "metadata": {},
   "source": [
    "#### Cluster Assignment Step"
   ]
  },
  {
   "cell_type": "code",
   "execution_count": 41,
   "metadata": {},
   "outputs": [],
   "source": [
    "def assign_centroid(X,centroids):\n",
    "    m=X.shape[0]\n",
    "    k=centroids.shape[0]\n",
    "    C=np.zeros(m)\n",
    "    \n",
    "    for i in range(m):\n",
    "        min_dist = 9999999999\n",
    "        for j in range(k):\n",
    "            dist = np.sum(np.square(X[i,:] - centroids[j,:]))\n",
    "            if dist < min_dist:\n",
    "                min_dist = dist\n",
    "                C[i] = j\n",
    "    \n",
    "    return C"
   ]
  },
  {
   "cell_type": "code",
   "execution_count": 71,
   "metadata": {},
   "outputs": [
    {
     "data": {
      "text/plain": [
       "(100778,)"
      ]
     },
     "execution_count": 71,
     "metadata": {},
     "output_type": "execute_result"
    }
   ],
   "source": [
    "C = assign_centroid(Z, initial_centroids)\n",
    "#idx[0:3]\n",
    "C.shape"
   ]
  },
  {
   "cell_type": "markdown",
   "metadata": {},
   "source": [
    "#### Move Centroids step"
   ]
  },
  {
   "cell_type": "code",
   "execution_count": 72,
   "metadata": {},
   "outputs": [],
   "source": [
    "def move_centroids(X, idx, k):\n",
    "    m, n = X.shape\n",
    "    centroids = np.zeros((k, n))\n",
    "    \n",
    "    for i in range(k):\n",
    "        indices = np.where(idx == i)\n",
    "        centroids[i,:] = (np.sum(X[indices,:], axis=1) / len(indices[0])).ravel()\n",
    "    \n",
    "    return centroids"
   ]
  },
  {
   "cell_type": "code",
   "execution_count": 73,
   "metadata": {},
   "outputs": [],
   "source": [
    "import sys\n",
    "def kMeans(X, initial_centroids, max_iters):\n",
    "    m, n = X.shape\n",
    "    k = initial_centroids.shape[0]\n",
    "    C = np.zeros(m)\n",
    "    centroids = initial_centroids\n",
    "    \n",
    "    for i in range(max_iters):\n",
    "        C = assign_centroid(X, centroids)\n",
    "        centroids = move_centroids(X, C, k)\n",
    "    \n",
    "    return C, centroids"
   ]
  },
  {
   "cell_type": "code",
   "execution_count": 74,
   "metadata": {},
   "outputs": [],
   "source": [
    "C, centroids = kMeans(Z, initial_centroids, 10)"
   ]
  },
  {
   "cell_type": "code",
   "execution_count": 277,
   "metadata": {},
   "outputs": [
    {
     "data": {
      "text/plain": [
       "array([1., 1., 1., ..., 1., 1., 1.])"
      ]
     },
     "execution_count": 277,
     "metadata": {},
     "output_type": "execute_result"
    }
   ],
   "source": [
    "centroids"
   ]
  },
  {
   "cell_type": "markdown",
   "metadata": {},
   "source": [
    "#### Purity class for K means algorithm"
   ]
  },
  {
   "cell_type": "code",
   "execution_count": 268,
   "metadata": {},
   "outputs": [
    {
     "name": "stdout",
     "output_type": "stream",
     "text": [
      "The purity of cluster 0 is 69.75 %\n",
      "The purity of cluster 1 is 74.38 %\n",
      "The purity of cluster 2 is 88.0912 %\n",
      "The purity of cluster 3 is 83.64 %\n",
      "The purity of cluster 4 is 88.27 %\n"
     ]
    }
   ],
   "source": [
    "sumKmeans=0\n",
    "for i in range(noof_clusters):\n",
    "    count={\"normal\":0,\"dos\":0,\"probe\":0,\"r2l\":0,\"u2r\":0}\n",
    "\n",
    "    for j in range(Z.shape[0]):\n",
    "        indexA=np.where(C==i)\n",
    "        for ind in indexA:\n",
    "            st=training_data.iloc[ind][-1]\n",
    "            count[st]+=1\n",
    "    maxValue=max(count.values())\n",
    "    purity=(maxValue)/(float)(count[\"normal\"]+count[\"dos\"]+count[\"probe\"]+count[\"r2l\"]+count[\"u2r\"])*100\n",
    "    sumKmeans+=purity\n",
    "    print(\"The purity of cluster\",i,\"is\",purity,\"%\")\n",
    "\n",
    "    "
   ]
  },
  {
   "cell_type": "code",
   "execution_count": null,
   "metadata": {},
   "outputs": [],
   "source": []
  },
  {
   "cell_type": "markdown",
   "metadata": {},
   "source": [
    "#### Camparison of all the Purity classes from all Mixture model"
   ]
  },
  {
   "cell_type": "markdown",
   "metadata": {},
   "source": [
    "#### Part5: On categorical data"
   ]
  },
  {
   "cell_type": "markdown",
   "metadata": {},
   "source": [
    "1. In this,first we look at the data. Generally we don't apply directly PCA because this will lead to loss of some important information and we will end up with throw some important information.\n",
    "2. We apply PCA when we have to visualise the data.\n",
    "3. We apply PCA when some features are co-related and we can make them as single features.\n",
    "4. But If I have to do dimensionality reduction , I will definately go for PCA.\n",
    "4. Because in PCA, from ${x \\in  \\mathbb{R^{N}} }$ to  ${x \\in  \\mathbb{R^{k}}}$ , it means we are projecting the data from N-dimensions to the k-dimensions keeping the Sum of projection square minimised.\n",
    "5. Find k vectors (u(1), u(2), ... u(k)) onto which to project the data to minimize the projection error.\n",
    "6. PCA can be applied on categorical data  and it will give some result but it might not be very meaningful as in PCA we try to minimize variance which in case of categorical data does not make sense. PCA is designed for continuous variable but mathematically there is nothing stopping us to apply PCA on categorical data. One of the biggest challenge for applying PCA on categorical data is we need to have a distance measure which can tell us distance between two distinct categorical values.\n",
    "\n",
    "<img src=\"part5.2.png\"> \n",
    "<img src=\"part5.1.png\">"
   ]
  },
  {
   "cell_type": "code",
   "execution_count": null,
   "metadata": {},
   "outputs": [],
   "source": []
  }
 ],
 "metadata": {
  "kernelspec": {
   "display_name": "Python 3",
   "language": "python",
   "name": "python3"
  },
  "language_info": {
   "codemirror_mode": {
    "name": "ipython",
    "version": 3
   },
   "file_extension": ".py",
   "mimetype": "text/x-python",
   "name": "python",
   "nbconvert_exporter": "python",
   "pygments_lexer": "ipython3",
   "version": "3.6.7"
  }
 },
 "nbformat": 4,
 "nbformat_minor": 2
}
