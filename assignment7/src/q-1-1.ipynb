{
 "cells": [
  {
   "cell_type": "markdown",
   "metadata": {},
   "source": [
    "### MultiVariate Linear Regression with L1 Regularization"
   ]
  },
  {
   "cell_type": "code",
   "execution_count": 305,
   "metadata": {},
   "outputs": [],
   "source": [
    "import numpy as np\n",
    "import pandas as pd\n",
    "import matplotlib.pyplot as plt\n"
   ]
  },
  {
   "cell_type": "code",
   "execution_count": 306,
   "metadata": {},
   "outputs": [
    {
     "data": {
      "text/html": [
       "<div>\n",
       "<style scoped>\n",
       "    .dataframe tbody tr th:only-of-type {\n",
       "        vertical-align: middle;\n",
       "    }\n",
       "\n",
       "    .dataframe tbody tr th {\n",
       "        vertical-align: top;\n",
       "    }\n",
       "\n",
       "    .dataframe thead th {\n",
       "        text-align: right;\n",
       "    }\n",
       "</style>\n",
       "<table border=\"1\" class=\"dataframe\">\n",
       "  <thead>\n",
       "    <tr style=\"text-align: right;\">\n",
       "      <th></th>\n",
       "      <th>Serial No.</th>\n",
       "      <th>GRE Score</th>\n",
       "      <th>TOEFL Score</th>\n",
       "      <th>University Rating</th>\n",
       "      <th>SOP</th>\n",
       "      <th>LOR</th>\n",
       "      <th>CGPA</th>\n",
       "      <th>Research</th>\n",
       "      <th>Chance of Admit</th>\n",
       "    </tr>\n",
       "  </thead>\n",
       "  <tbody>\n",
       "    <tr>\n",
       "      <th>0</th>\n",
       "      <td>242</td>\n",
       "      <td>317</td>\n",
       "      <td>103</td>\n",
       "      <td>2</td>\n",
       "      <td>2.5</td>\n",
       "      <td>2.0</td>\n",
       "      <td>8.15</td>\n",
       "      <td>0</td>\n",
       "      <td>0.65</td>\n",
       "    </tr>\n",
       "    <tr>\n",
       "      <th>1</th>\n",
       "      <td>334</td>\n",
       "      <td>319</td>\n",
       "      <td>108</td>\n",
       "      <td>3</td>\n",
       "      <td>3.0</td>\n",
       "      <td>3.5</td>\n",
       "      <td>8.54</td>\n",
       "      <td>1</td>\n",
       "      <td>0.71</td>\n",
       "    </tr>\n",
       "    <tr>\n",
       "      <th>2</th>\n",
       "      <td>4</td>\n",
       "      <td>322</td>\n",
       "      <td>110</td>\n",
       "      <td>3</td>\n",
       "      <td>3.5</td>\n",
       "      <td>2.5</td>\n",
       "      <td>8.67</td>\n",
       "      <td>1</td>\n",
       "      <td>0.80</td>\n",
       "    </tr>\n",
       "    <tr>\n",
       "      <th>3</th>\n",
       "      <td>45</td>\n",
       "      <td>326</td>\n",
       "      <td>113</td>\n",
       "      <td>5</td>\n",
       "      <td>4.5</td>\n",
       "      <td>4.0</td>\n",
       "      <td>9.40</td>\n",
       "      <td>1</td>\n",
       "      <td>0.91</td>\n",
       "    </tr>\n",
       "    <tr>\n",
       "      <th>4</th>\n",
       "      <td>232</td>\n",
       "      <td>319</td>\n",
       "      <td>106</td>\n",
       "      <td>3</td>\n",
       "      <td>3.5</td>\n",
       "      <td>2.5</td>\n",
       "      <td>8.33</td>\n",
       "      <td>1</td>\n",
       "      <td>0.74</td>\n",
       "    </tr>\n",
       "  </tbody>\n",
       "</table>\n",
       "</div>"
      ],
      "text/plain": [
       "   Serial No.  GRE Score  TOEFL Score  University Rating  SOP  LOR   CGPA  \\\n",
       "0         242        317          103                  2  2.5   2.0  8.15   \n",
       "1         334        319          108                  3  3.0   3.5  8.54   \n",
       "2           4        322          110                  3  3.5   2.5  8.67   \n",
       "3          45        326          113                  5  4.5   4.0  9.40   \n",
       "4         232        319          106                  3  3.5   2.5  8.33   \n",
       "\n",
       "   Research  Chance of Admit   \n",
       "0         0              0.65  \n",
       "1         1              0.71  \n",
       "2         1              0.80  \n",
       "3         1              0.91  \n",
       "4         1              0.74  "
      ]
     },
     "execution_count": 306,
     "metadata": {},
     "output_type": "execute_result"
    }
   ],
   "source": [
    "df=pd.read_csv(\"AdmissionDataset/data.csv\")\n",
    "df.head()"
   ]
  },
  {
   "cell_type": "markdown",
   "metadata": {},
   "source": [
    "**Drop the Serial No because it is irrelevant in prediction**"
   ]
  },
  {
   "cell_type": "code",
   "execution_count": 307,
   "metadata": {},
   "outputs": [],
   "source": [
    "df.drop('Serial No.',axis=1,inplace=True)"
   ]
  },
  {
   "cell_type": "code",
   "execution_count": 308,
   "metadata": {},
   "outputs": [
    {
     "data": {
      "text/html": [
       "<div>\n",
       "<style scoped>\n",
       "    .dataframe tbody tr th:only-of-type {\n",
       "        vertical-align: middle;\n",
       "    }\n",
       "\n",
       "    .dataframe tbody tr th {\n",
       "        vertical-align: top;\n",
       "    }\n",
       "\n",
       "    .dataframe thead th {\n",
       "        text-align: right;\n",
       "    }\n",
       "</style>\n",
       "<table border=\"1\" class=\"dataframe\">\n",
       "  <thead>\n",
       "    <tr style=\"text-align: right;\">\n",
       "      <th></th>\n",
       "      <th>GRE Score</th>\n",
       "      <th>TOEFL Score</th>\n",
       "      <th>University Rating</th>\n",
       "      <th>SOP</th>\n",
       "      <th>LOR</th>\n",
       "      <th>CGPA</th>\n",
       "      <th>Research</th>\n",
       "      <th>Chance of Admit</th>\n",
       "    </tr>\n",
       "  </thead>\n",
       "  <tbody>\n",
       "    <tr>\n",
       "      <th>0</th>\n",
       "      <td>317</td>\n",
       "      <td>103</td>\n",
       "      <td>2</td>\n",
       "      <td>2.5</td>\n",
       "      <td>2.0</td>\n",
       "      <td>8.15</td>\n",
       "      <td>0</td>\n",
       "      <td>0.65</td>\n",
       "    </tr>\n",
       "    <tr>\n",
       "      <th>1</th>\n",
       "      <td>319</td>\n",
       "      <td>108</td>\n",
       "      <td>3</td>\n",
       "      <td>3.0</td>\n",
       "      <td>3.5</td>\n",
       "      <td>8.54</td>\n",
       "      <td>1</td>\n",
       "      <td>0.71</td>\n",
       "    </tr>\n",
       "    <tr>\n",
       "      <th>2</th>\n",
       "      <td>322</td>\n",
       "      <td>110</td>\n",
       "      <td>3</td>\n",
       "      <td>3.5</td>\n",
       "      <td>2.5</td>\n",
       "      <td>8.67</td>\n",
       "      <td>1</td>\n",
       "      <td>0.80</td>\n",
       "    </tr>\n",
       "    <tr>\n",
       "      <th>3</th>\n",
       "      <td>326</td>\n",
       "      <td>113</td>\n",
       "      <td>5</td>\n",
       "      <td>4.5</td>\n",
       "      <td>4.0</td>\n",
       "      <td>9.40</td>\n",
       "      <td>1</td>\n",
       "      <td>0.91</td>\n",
       "    </tr>\n",
       "    <tr>\n",
       "      <th>4</th>\n",
       "      <td>319</td>\n",
       "      <td>106</td>\n",
       "      <td>3</td>\n",
       "      <td>3.5</td>\n",
       "      <td>2.5</td>\n",
       "      <td>8.33</td>\n",
       "      <td>1</td>\n",
       "      <td>0.74</td>\n",
       "    </tr>\n",
       "  </tbody>\n",
       "</table>\n",
       "</div>"
      ],
      "text/plain": [
       "   GRE Score  TOEFL Score  University Rating  SOP  LOR   CGPA  Research  \\\n",
       "0        317          103                  2  2.5   2.0  8.15         0   \n",
       "1        319          108                  3  3.0   3.5  8.54         1   \n",
       "2        322          110                  3  3.5   2.5  8.67         1   \n",
       "3        326          113                  5  4.5   4.0  9.40         1   \n",
       "4        319          106                  3  3.5   2.5  8.33         1   \n",
       "\n",
       "   Chance of Admit   \n",
       "0              0.65  \n",
       "1              0.71  \n",
       "2              0.80  \n",
       "3              0.91  \n",
       "4              0.74  "
      ]
     },
     "execution_count": 308,
     "metadata": {},
     "output_type": "execute_result"
    }
   ],
   "source": [
    "df.head()"
   ]
  },
  {
   "cell_type": "code",
   "execution_count": 309,
   "metadata": {},
   "outputs": [],
   "source": [
    "training_data = df.sample(frac = 0.5, random_state = 200)\n",
    "testing_data = df.drop(training_data.index)"
   ]
  },
  {
   "cell_type": "markdown",
   "metadata": {},
   "source": [
    "### Feature Normalisation\n",
    "${x_i}$= $\\frac{x_i - \\mu}{\\sigma}$ \n",
    "\n",
    "Feature Normalisation is done because data in some columns is very small in comparison to other columns data."
   ]
  },
  {
   "cell_type": "markdown",
   "metadata": {},
   "source": [
    "#### Preparing the Training data"
   ]
  },
  {
   "cell_type": "code",
   "execution_count": 310,
   "metadata": {},
   "outputs": [
    {
     "name": "stdout",
     "output_type": "stream",
     "text": [
      "(225, 1)\n",
      "(225, 8)\n"
     ]
    },
    {
     "data": {
      "text/html": [
       "<div>\n",
       "<style scoped>\n",
       "    .dataframe tbody tr th:only-of-type {\n",
       "        vertical-align: middle;\n",
       "    }\n",
       "\n",
       "    .dataframe tbody tr th {\n",
       "        vertical-align: top;\n",
       "    }\n",
       "\n",
       "    .dataframe thead th {\n",
       "        text-align: right;\n",
       "    }\n",
       "</style>\n",
       "<table border=\"1\" class=\"dataframe\">\n",
       "  <thead>\n",
       "    <tr style=\"text-align: right;\">\n",
       "      <th></th>\n",
       "      <th>Ones</th>\n",
       "      <th>GRE Score</th>\n",
       "      <th>TOEFL Score</th>\n",
       "      <th>University Rating</th>\n",
       "      <th>SOP</th>\n",
       "      <th>LOR</th>\n",
       "      <th>CGPA</th>\n",
       "      <th>Research</th>\n",
       "    </tr>\n",
       "  </thead>\n",
       "  <tbody>\n",
       "    <tr>\n",
       "      <th>198</th>\n",
       "      <td>1</td>\n",
       "      <td>-0.133495</td>\n",
       "      <td>-0.996716</td>\n",
       "      <td>-0.116781</td>\n",
       "      <td>0.186073</td>\n",
       "      <td>1.167169</td>\n",
       "      <td>0.923817</td>\n",
       "      <td>-1.085911</td>\n",
       "    </tr>\n",
       "    <tr>\n",
       "      <th>39</th>\n",
       "      <td>1</td>\n",
       "      <td>-0.393176</td>\n",
       "      <td>-0.346684</td>\n",
       "      <td>-0.992637</td>\n",
       "      <td>-0.822758</td>\n",
       "      <td>-0.460598</td>\n",
       "      <td>-0.770867</td>\n",
       "      <td>-1.085911</td>\n",
       "    </tr>\n",
       "    <tr>\n",
       "      <th>215</th>\n",
       "      <td>1</td>\n",
       "      <td>-0.739417</td>\n",
       "      <td>0.465856</td>\n",
       "      <td>-0.116781</td>\n",
       "      <td>0.186073</td>\n",
       "      <td>-0.460598</td>\n",
       "      <td>-0.972215</td>\n",
       "      <td>0.916793</td>\n",
       "    </tr>\n",
       "    <tr>\n",
       "      <th>303</th>\n",
       "      <td>1</td>\n",
       "      <td>-0.393176</td>\n",
       "      <td>0.140840</td>\n",
       "      <td>-0.116781</td>\n",
       "      <td>0.186073</td>\n",
       "      <td>-0.460598</td>\n",
       "      <td>-0.082926</td>\n",
       "      <td>-1.085911</td>\n",
       "    </tr>\n",
       "    <tr>\n",
       "      <th>377</th>\n",
       "      <td>1</td>\n",
       "      <td>0.385866</td>\n",
       "      <td>0.303348</td>\n",
       "      <td>0.759075</td>\n",
       "      <td>0.690489</td>\n",
       "      <td>0.624580</td>\n",
       "      <td>0.168760</td>\n",
       "      <td>0.916793</td>\n",
       "    </tr>\n",
       "  </tbody>\n",
       "</table>\n",
       "</div>"
      ],
      "text/plain": [
       "     Ones  GRE Score  TOEFL Score  University Rating       SOP      LOR   \\\n",
       "198     1  -0.133495    -0.996716          -0.116781  0.186073  1.167169   \n",
       "39      1  -0.393176    -0.346684          -0.992637 -0.822758 -0.460598   \n",
       "215     1  -0.739417     0.465856          -0.116781  0.186073 -0.460598   \n",
       "303     1  -0.393176     0.140840          -0.116781  0.186073 -0.460598   \n",
       "377     1   0.385866     0.303348           0.759075  0.690489  0.624580   \n",
       "\n",
       "         CGPA  Research  \n",
       "198  0.923817 -1.085911  \n",
       "39  -0.770867 -1.085911  \n",
       "215 -0.972215  0.916793  \n",
       "303 -0.082926 -1.085911  \n",
       "377  0.168760  0.916793  "
      ]
     },
     "execution_count": 310,
     "metadata": {},
     "output_type": "execute_result"
    }
   ],
   "source": [
    "columns=training_data.shape[1]\n",
    "\n",
    "X=training_data.iloc[:,0:columns-1]# features Sets\n",
    "\n",
    "mu = X.mean()\n",
    "sigma = X.std()\n",
    "\n",
    "# features normalisation\n",
    "X=(X-X.mean())/X.std()\n",
    "\n",
    "Y=training_data.iloc[:,columns-1:columns] # outputSet\n",
    "X.insert(0, 'Ones', 1)\n",
    "\n",
    "print(Y.shape)\n",
    "print(X.shape)\n",
    "X.head()"
   ]
  },
  {
   "cell_type": "markdown",
   "metadata": {},
   "source": [
    "> Convert the X and Y into numpy matrix because we are going to do the vectorised Implementation"
   ]
  },
  {
   "cell_type": "code",
   "execution_count": 311,
   "metadata": {},
   "outputs": [
    {
     "name": "stdout",
     "output_type": "stream",
     "text": [
      "(225, 8)\n",
      "(225, 1)\n"
     ]
    }
   ],
   "source": [
    "X_train = np.matrix(X.values)\n",
    "Y_train = np.matrix(Y.values)\n",
    "print(X_train.shape)\n",
    "print(Y_train.shape)\n",
    "\n"
   ]
  },
  {
   "cell_type": "markdown",
   "metadata": {},
   "source": [
    "#### Preparing the validation/Test data"
   ]
  },
  {
   "cell_type": "code",
   "execution_count": 312,
   "metadata": {},
   "outputs": [
    {
     "name": "stdout",
     "output_type": "stream",
     "text": [
      "(225, 8)\n",
      "(225, 1)\n"
     ]
    },
    {
     "data": {
      "text/html": [
       "<div>\n",
       "<style scoped>\n",
       "    .dataframe tbody tr th:only-of-type {\n",
       "        vertical-align: middle;\n",
       "    }\n",
       "\n",
       "    .dataframe tbody tr th {\n",
       "        vertical-align: top;\n",
       "    }\n",
       "\n",
       "    .dataframe thead th {\n",
       "        text-align: right;\n",
       "    }\n",
       "</style>\n",
       "<table border=\"1\" class=\"dataframe\">\n",
       "  <thead>\n",
       "    <tr style=\"text-align: right;\">\n",
       "      <th></th>\n",
       "      <th>Ones</th>\n",
       "      <th>GRE Score</th>\n",
       "      <th>TOEFL Score</th>\n",
       "      <th>University Rating</th>\n",
       "      <th>SOP</th>\n",
       "      <th>LOR</th>\n",
       "      <th>CGPA</th>\n",
       "      <th>Research</th>\n",
       "    </tr>\n",
       "  </thead>\n",
       "  <tbody>\n",
       "    <tr>\n",
       "      <th>0</th>\n",
       "      <td>1</td>\n",
       "      <td>0.039625</td>\n",
       "      <td>-0.671700</td>\n",
       "      <td>-0.992637</td>\n",
       "      <td>-0.822758</td>\n",
       "      <td>-1.545776</td>\n",
       "      <td>-0.720530</td>\n",
       "      <td>-1.085911</td>\n",
       "    </tr>\n",
       "    <tr>\n",
       "      <th>1</th>\n",
       "      <td>1</td>\n",
       "      <td>0.212746</td>\n",
       "      <td>0.140840</td>\n",
       "      <td>-0.116781</td>\n",
       "      <td>-0.318342</td>\n",
       "      <td>0.081991</td>\n",
       "      <td>-0.066147</td>\n",
       "      <td>0.916793</td>\n",
       "    </tr>\n",
       "    <tr>\n",
       "      <th>2</th>\n",
       "      <td>1</td>\n",
       "      <td>0.472427</td>\n",
       "      <td>0.465856</td>\n",
       "      <td>-0.116781</td>\n",
       "      <td>0.186073</td>\n",
       "      <td>-1.003187</td>\n",
       "      <td>0.151981</td>\n",
       "      <td>0.916793</td>\n",
       "    </tr>\n",
       "    <tr>\n",
       "      <th>3</th>\n",
       "      <td>1</td>\n",
       "      <td>0.818668</td>\n",
       "      <td>0.953381</td>\n",
       "      <td>1.634931</td>\n",
       "      <td>1.194904</td>\n",
       "      <td>0.624580</td>\n",
       "      <td>1.376851</td>\n",
       "      <td>0.916793</td>\n",
       "    </tr>\n",
       "    <tr>\n",
       "      <th>5</th>\n",
       "      <td>1</td>\n",
       "      <td>-1.258779</td>\n",
       "      <td>-0.834208</td>\n",
       "      <td>-0.116781</td>\n",
       "      <td>0.186073</td>\n",
       "      <td>1.709758</td>\n",
       "      <td>-0.418507</td>\n",
       "      <td>-1.085911</td>\n",
       "    </tr>\n",
       "  </tbody>\n",
       "</table>\n",
       "</div>"
      ],
      "text/plain": [
       "   Ones  GRE Score  TOEFL Score  University Rating       SOP      LOR   \\\n",
       "0     1   0.039625    -0.671700          -0.992637 -0.822758 -1.545776   \n",
       "1     1   0.212746     0.140840          -0.116781 -0.318342  0.081991   \n",
       "2     1   0.472427     0.465856          -0.116781  0.186073 -1.003187   \n",
       "3     1   0.818668     0.953381           1.634931  1.194904  0.624580   \n",
       "5     1  -1.258779    -0.834208          -0.116781  0.186073  1.709758   \n",
       "\n",
       "       CGPA  Research  \n",
       "0 -0.720530 -1.085911  \n",
       "1 -0.066147  0.916793  \n",
       "2  0.151981  0.916793  \n",
       "3  1.376851  0.916793  \n",
       "5 -0.418507 -1.085911  "
      ]
     },
     "execution_count": 312,
     "metadata": {},
     "output_type": "execute_result"
    }
   ],
   "source": [
    "columns=testing_data.shape[1]\n",
    "\n",
    "X=testing_data.iloc[:,0:columns-1]# features Sets\n",
    "\n",
    "Y=testing_data.iloc[:,columns-1:columns] # outputSet\n",
    "\n",
    "# features normalisation\n",
    "X=(X-mu)/sigma\n",
    "\n",
    "\n",
    "X.insert(0, 'Ones', 1)\n",
    "\n",
    "X_test = np.matrix(X.values)\n",
    "Y_test = np.matrix(Y.values)\n",
    "\n",
    "print(X_test.shape)\n",
    "print(Y_test.shape)\n",
    "\n",
    "X.head()"
   ]
  },
  {
   "cell_type": "markdown",
   "metadata": {},
   "source": [
    "#### Mean Square Error with  L1 Regularization\n",
    "${J(\\theta)}$=${\\frac{1}{2m}}{\\sum_{i=0}^{m}}$(${\\hat{y_i}-{y_i})^2 +  \\frac{\\lambda}{m}*\\parallel \\theta \\parallel}$ \n",
    "\n",
    "\n",
    "J: is cost function\n",
    "\n",
    "\n",
    "m : no. of training examples\n",
    "\n",
    "${\\theta}$: parameters"
   ]
  },
  {
   "cell_type": "code",
   "execution_count": 391,
   "metadata": {},
   "outputs": [],
   "source": [
    "def costCompute_L2(X,Y,theta,lambd):\n",
    "    j=0.0\n",
    "    m=X.shape[0]\n",
    "    \n",
    "    err = np.power((np.dot(X,theta.T)-Y),2)\n",
    "    j=np.sum(err)/(2*m)\n",
    "    reg= (lambd/m)*np.sum(theta)\n",
    "    \n",
    "    return j+reg"
   ]
  },
  {
   "cell_type": "markdown",
   "metadata": {},
   "source": [
    "#### Gradient Descent algo\n",
    "repeat Untill Converges{\n",
    "\n",
    "\n",
    "${{\\theta_j} :=}{{\\theta_j}}$-${\\alpha}$*${\\frac{\\partial}{\\partial {\\theta_j}} J(\\theta)}$\n",
    "\n",
    "\n",
    "}\n",
    "\n",
    "${\\alpha}$: Learning rate constant"
   ]
  },
  {
   "cell_type": "code",
   "execution_count": 392,
   "metadata": {},
   "outputs": [],
   "source": [
    "#Vectorised Implementation\n",
    "def gradientDescent(X, y, theta, alpha, iters,lambd):\n",
    "    \n",
    "    Jhistory=np.zeros(iters)\n",
    "    ThetaforCoffiecients=np.zeros((iters,theta.shape[1]))\n",
    "    reg_theta=theta\n",
    "    \n",
    "    \n",
    "    m=X.shape[0]\n",
    "    for i in range(iters):\n",
    "        \n",
    "        \n",
    "        pre = np.dot(X,theta.T)-y\n",
    "        reg_theta[theta>=0]=1\n",
    "        reg_theta[theta<0]=-1\n",
    "        \n",
    "        temp=theta[0,0]-(alpha/m)*np.sum(pre)\n",
    "        \n",
    "        delta=np.dot(np.transpose(pre),X)\n",
    "        theta=theta-(alpha/m)*(delta+lambd*reg_theta)\n",
    "        \n",
    "        theta[0,0]=temp\n",
    "        \n",
    "        ThetaforCoffiecients[i]=theta\n",
    "        Jhistory[i] = costCompute_L2(X, y, theta,lambd)\n",
    "        \n",
    "        \n",
    "        \n",
    "\n",
    "    return theta,Jhistory,ThetaforCoffiecients"
   ]
  },
  {
   "cell_type": "markdown",
   "metadata": {},
   "source": []
  },
  {
   "cell_type": "code",
   "execution_count": 397,
   "metadata": {},
   "outputs": [
    {
     "name": "stdout",
     "output_type": "stream",
     "text": [
      "(1, 8)\n",
      "(1, 8)\n",
      "[[ 0.71770376 -0.15631981  0.24648133  0.00805682 -0.02874169  0.04696488\n",
      "   0.00633151  0.04137513]]\n"
     ]
    }
   ],
   "source": [
    "alpha=.01\n",
    "iters=1000\n",
    "lambd=0.001\n",
    "\n",
    "theta = np.matrix(np.random.randn(1,X_train.shape[1]))\n",
    "\n",
    "print(theta.shape)\n",
    "\n",
    "minTheta, cost,Big= gradientDescent(X_train, Y_train, theta, alpha, iters,lambd)\n",
    "\n",
    "print(minTheta.shape)\n",
    "print(minTheta)"
   ]
  },
  {
   "cell_type": "markdown",
   "metadata": {},
   "source": []
  },
  {
   "cell_type": "code",
   "execution_count": 398,
   "metadata": {},
   "outputs": [
    {
     "data": {
      "text/plain": [
       "Text(0.5, 1.0, 'Visualisation of change in Cost w.r.t to iterations')"
      ]
     },
     "execution_count": 398,
     "metadata": {},
     "output_type": "execute_result"
    },
    {
     "data": {
      "image/png": "[encoded data removed]",
      "text/plain": [
       "<Figure size 576x432 with 1 Axes>"
      ]
     },
     "metadata": {
      "needs_background": "light"
     },
     "output_type": "display_data"
    }
   ],
   "source": [
    "ig, ax = plt.subplots(figsize=(8,6))\n",
    "ax.plot(np.arange(iters), cost, 'r')\n",
    "ax.set_xlabel('Iterations')\n",
    "ax.set_ylabel('Cost')\n",
    "ax.set_title('Visualisation of change in Cost w.r.t to iterations')    "
   ]
  },
  {
   "cell_type": "code",
   "execution_count": null,
   "metadata": {},
   "outputs": [],
   "source": [
    "\n",
    "    "
   ]
  },
  {
   "cell_type": "code",
   "execution_count": 399,
   "metadata": {},
   "outputs": [],
   "source": [
    "def prediction_Error(X,Y,finalParameter):\n",
    "    out= np.dot(X,finalParameter.T)\n",
    "    \n",
    "   \n",
    "    err= np.sum(np.square(out-Y))/X.shape[0]\n",
    "    \n",
    "    return err\n",
    "    "
   ]
  },
  {
   "cell_type": "code",
   "execution_count": null,
   "metadata": {},
   "outputs": [],
   "source": []
  },
  {
   "cell_type": "code",
   "execution_count": 400,
   "metadata": {},
   "outputs": [
    {
     "data": {
      "text/plain": [
       "0.01935718891430835"
      ]
     },
     "execution_count": 400,
     "metadata": {},
     "output_type": "execute_result"
    }
   ],
   "source": [
    "prediction_Error(X_train,Y_train,minTheta)"
   ]
  },
  {
   "cell_type": "code",
   "execution_count": 385,
   "metadata": {},
   "outputs": [],
   "source": [
    "choice_lambda=[2,2.5,3,4,5,6,7,8,10,15,20,24,30,35,40]\n",
    "\n",
    "err_train=[]\n",
    "err_test=[]\n",
    "Big_minTheta=np.zeros((len(choice_lambda),theta.shape[1]))\n",
    "count=0\n",
    "alpha=.009\n",
    "iters=1000\n",
    "for l in choice_lambda:\n",
    "    theta = np.matrix(np.random.randn(1,X_train.shape[1]))*0.01  ## initialisation of theta\n",
    "    \n",
    "    ##training \n",
    "    minTheta,_,_= gradientDescent(X_train, Y_train, theta, alpha, iters,l)\n",
    "    Big_minTheta[count]=minTheta\n",
    "    count+=1\n",
    "    err1=prediction_Error(X_train,Y_train,minTheta)\n",
    "    err2=prediction_Error(X_test,Y_test,minTheta)\n",
    "    err_train.append(err1)\n",
    "    err_test.append(err2)"
   ]
  },
  {
   "cell_type": "code",
   "execution_count": 388,
   "metadata": {},
   "outputs": [],
   "source": []
  },
  {
   "cell_type": "code",
   "execution_count": 389,
   "metadata": {},
   "outputs": [
    {
     "data": {
      "text/plain": [
       "Text(0.5, 1.0, 'Training Error vs Reg. Parameter')"
      ]
     },
     "execution_count": 389,
     "metadata": {},
     "output_type": "execute_result"
    },
    {
     "data": {
      "image/png": "[encoded data removed]",
      "text/plain": [
       "<Figure size 1152x576 with 1 Axes>"
      ]
     },
     "metadata": {
      "needs_background": "light"
     },
     "output_type": "display_data"
    }
   ],
   "source": [
    "plt.rcParams['figure.figsize'] = [16, 8]\n",
    "plt.scatter(choice_lambda,err_train,label=\"Training Error\")\n",
    "plt.plot(choice_lambda,err_train,'g')\n",
    "plt.scatter(choice_lambda,err_test,label=\"Validation Error\")\n",
    "plt.plot(choice_lambda,err_test,'r')\n",
    "\n",
    "plt.legend()\n",
    "\n",
    "plt.xlabel('Regularisation Parameter')\n",
    "plt.ylabel('Error')\n",
    "plt.title('Training Error vs Reg. Parameter')"
   ]
  },
  {
   "cell_type": "code",
   "execution_count": 381,
   "metadata": {},
   "outputs": [
    {
     "name": "stdout",
     "output_type": "stream",
     "text": [
      "[0.0034, 0.03197988254378563, 0.010329689416233315, 0.01410211740992599, 0.019527486343181653, 0.008122483367915425, 0.008979873134897887, 0.005602240183547805, 0.005569479961146123, 0.009728652618631307, 0.013272604198456666, 0.01685863087736829, 0.019086431953475567, 0.019599643931030548, 0.02474122514714621]\n",
      "[0.0233011252739232, 0.03440865155769689, 0.013038601742576306, 0.01545806652707495, 0.019787851528238153, 0.007554057701783868, 0.009682348846871755, 0.005167075352641173, 0.005605741096150116, 0.009171057048024506, 0.012548500893088083, 0.01601266826310364, 0.018208856837145727, 0.018706638931316816, 0.03474122514714621]\n"
     ]
    }
   ],
   "source": [
    "print(err_train)\n",
    "print(err_test)"
   ]
  },
  {
   "cell_type": "markdown",
   "metadata": {},
   "source": [
    "**Observations**:\n",
    "\n",
    "<font color=\"purple\" size=\"3\">\n",
    "<ul>\n",
    "    <li>  The value of $\\lambda$ is a hyperparameter that you can tune using a validation set.</li>\n",
    " <li>    If ${\\lambda}$ value is too small then it might leads to the overfit(high variance) which leads to high error on validation dataset and low error on train datasets.</li>\n",
    "<li>If ${\\lambda}$ value is too large then it leads to the underfit(high bias) which leads to high error on validation dataset and high error on train datasets.</li>\n",
    "    </ul>\n",
    "</font\n"
   ]
  },
  {
   "cell_type": "markdown",
   "metadata": {},
   "source": [
    "#### Part4"
   ]
  },
  {
   "cell_type": "code",
   "execution_count": 401,
   "metadata": {},
   "outputs": [
    {
     "data": {
      "image/png": "[encoded data removed]",
      "text/plain": [
       "<Figure size 720x432 with 1 Axes>"
      ]
     },
     "metadata": {
      "needs_background": "light"
     },
     "output_type": "display_data"
    }
   ],
   "source": [
    "plt.rcParams['figure.figsize'] = [10, 6]\n",
    "l1=Big[:,0]\n",
    "l2=Big[:,1]\n",
    "l3=Big[:,2]\n",
    "l4=Big[:,3]\n",
    "l5=Big[:,4]\n",
    "l6=Big[:,5]\n",
    "l7=Big[:,6]\n",
    "l8=Big[:,7]\n",
    "\n",
    "it=range(0,iters)\n",
    "plt.plot(it,list(l1),label=\"Bias\")\n",
    "plt.plot(it,list(l2),label=\"GRE\")\n",
    "plt.plot(it,list(l3),label=\"TOFL\")\n",
    "\n",
    "plt.plot(it,list(l4),label=\"Uni Rating\")\n",
    "plt.plot(it,list(l5),label=\"SOP\")\n",
    "plt.plot(it,list(l6),label=\"LOR\")\n",
    "plt.plot(it,list(l7),label=\"CGPA\")\n",
    "plt.plot(it,list(l8),label=\"Research\")\n",
    "\n",
    "plt.xlabel(\"Iterations\")\n",
    "plt.ylabel(\"Parameters\")\n",
    "plt.title(\"Effect of Regularization on parameters\")\n",
    "plt.legend()\n",
    "plt.show()"
   ]
  },
  {
   "cell_type": "code",
   "execution_count": 232,
   "metadata": {},
   "outputs": [],
   "source": [
    "# plt.rcParams['figure.figsize'] = [10, 6]\n",
    "# l1=Big_minTheta[:,0]\n",
    "# l2=Big_minTheta[:,1]\n",
    "# l3=Big_minTheta[:,2]\n",
    "# l4=Big_minTheta[:,3]\n",
    "# l5=Big_minTheta[:,4]\n",
    "# l6=Big_minTheta[:,5]\n",
    "# l7=Big_minTheta[:,6]\n",
    "# l8=Big_minTheta[:,7]\n",
    "\n",
    "# #it=range(0,len(choice_lambda)\n",
    "# plt.plot(choice_lambda,list(l1),label=\"Bias\")\n",
    "# plt.plot(choice_lambda,list(l2),label=\"GRE\")\n",
    "# plt.plot(choice_lambda,list(l3),label=\"TOFL\")\n",
    "\n",
    "# plt.plot(choice_lambda,list(l4),label=\"Uni Rating\")\n",
    "# plt.plot(choice_lambda,list(l5),label=\"SOP\")\n",
    "# plt.plot(choice_lambda,list(l6),label=\"LOR\")\n",
    "# plt.plot(choice_lambda,list(l7),label=\"CGPA\")\n",
    "# plt.plot(choice_lambda,list(l8),label=\"Research\")\n",
    "\n",
    "# plt.xlabel(\"LAMBDA\")\n",
    "# plt.ylabel(\"Coefficients\")\n",
    "# plt.title(\"behaviour of the coefficients\")\n",
    "# plt.legend()\n",
    "# plt.show()"
   ]
  },
  {
   "cell_type": "markdown",
   "metadata": {},
   "source": []
  }
 ],
 "metadata": {
  "kernelspec": {
   "display_name": "Python 3",
   "language": "python",
   "name": "python3"
  },
  "language_info": {
   "codemirror_mode": {
    "name": "ipython",
    "version": 3
   },
   "file_extension": ".py",
   "mimetype": "text/x-python",
   "name": "python",
   "nbconvert_exporter": "python",
   "pygments_lexer": "ipython3",
   "version": "3.6.7"
  }
 },
 "nbformat": 4,
 "nbformat_minor": 2
}
