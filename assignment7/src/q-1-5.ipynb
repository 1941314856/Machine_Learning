{
 "cells": [
  {
   "cell_type": "markdown",
   "metadata": {},
   "source": [
    "### MultiVariate Linear Regression with L2 Regularization with K-fold crossValidation"
   ]
  },
  {
   "cell_type": "code",
   "execution_count": 79,
   "metadata": {},
   "outputs": [],
   "source": [
    "import numpy as np\n",
    "import pandas as pd\n",
    "import matplotlib.pyplot as plt\n",
    "from sklearn.model_selection import KFold \n",
    "from sklearn.model_selection import LeaveOneOut"
   ]
  },
  {
   "cell_type": "code",
   "execution_count": 80,
   "metadata": {},
   "outputs": [
    {
     "data": {
      "text/html": [
       "<div>\n",
       "<style scoped>\n",
       "    .dataframe tbody tr th:only-of-type {\n",
       "        vertical-align: middle;\n",
       "    }\n",
       "\n",
       "    .dataframe tbody tr th {\n",
       "        vertical-align: top;\n",
       "    }\n",
       "\n",
       "    .dataframe thead th {\n",
       "        text-align: right;\n",
       "    }\n",
       "</style>\n",
       "<table border=\"1\" class=\"dataframe\">\n",
       "  <thead>\n",
       "    <tr style=\"text-align: right;\">\n",
       "      <th></th>\n",
       "      <th>Serial No.</th>\n",
       "      <th>GRE Score</th>\n",
       "      <th>TOEFL Score</th>\n",
       "      <th>University Rating</th>\n",
       "      <th>SOP</th>\n",
       "      <th>LOR</th>\n",
       "      <th>CGPA</th>\n",
       "      <th>Research</th>\n",
       "      <th>Chance of Admit</th>\n",
       "    </tr>\n",
       "  </thead>\n",
       "  <tbody>\n",
       "    <tr>\n",
       "      <th>0</th>\n",
       "      <td>242</td>\n",
       "      <td>317</td>\n",
       "      <td>103</td>\n",
       "      <td>2</td>\n",
       "      <td>2.5</td>\n",
       "      <td>2.0</td>\n",
       "      <td>8.15</td>\n",
       "      <td>0</td>\n",
       "      <td>0.65</td>\n",
       "    </tr>\n",
       "    <tr>\n",
       "      <th>1</th>\n",
       "      <td>334</td>\n",
       "      <td>319</td>\n",
       "      <td>108</td>\n",
       "      <td>3</td>\n",
       "      <td>3.0</td>\n",
       "      <td>3.5</td>\n",
       "      <td>8.54</td>\n",
       "      <td>1</td>\n",
       "      <td>0.71</td>\n",
       "    </tr>\n",
       "    <tr>\n",
       "      <th>2</th>\n",
       "      <td>4</td>\n",
       "      <td>322</td>\n",
       "      <td>110</td>\n",
       "      <td>3</td>\n",
       "      <td>3.5</td>\n",
       "      <td>2.5</td>\n",
       "      <td>8.67</td>\n",
       "      <td>1</td>\n",
       "      <td>0.80</td>\n",
       "    </tr>\n",
       "    <tr>\n",
       "      <th>3</th>\n",
       "      <td>45</td>\n",
       "      <td>326</td>\n",
       "      <td>113</td>\n",
       "      <td>5</td>\n",
       "      <td>4.5</td>\n",
       "      <td>4.0</td>\n",
       "      <td>9.40</td>\n",
       "      <td>1</td>\n",
       "      <td>0.91</td>\n",
       "    </tr>\n",
       "    <tr>\n",
       "      <th>4</th>\n",
       "      <td>232</td>\n",
       "      <td>319</td>\n",
       "      <td>106</td>\n",
       "      <td>3</td>\n",
       "      <td>3.5</td>\n",
       "      <td>2.5</td>\n",
       "      <td>8.33</td>\n",
       "      <td>1</td>\n",
       "      <td>0.74</td>\n",
       "    </tr>\n",
       "  </tbody>\n",
       "</table>\n",
       "</div>"
      ],
      "text/plain": [
       "   Serial No.  GRE Score  TOEFL Score  University Rating  SOP  LOR   CGPA  \\\n",
       "0         242        317          103                  2  2.5   2.0  8.15   \n",
       "1         334        319          108                  3  3.0   3.5  8.54   \n",
       "2           4        322          110                  3  3.5   2.5  8.67   \n",
       "3          45        326          113                  5  4.5   4.0  9.40   \n",
       "4         232        319          106                  3  3.5   2.5  8.33   \n",
       "\n",
       "   Research  Chance of Admit   \n",
       "0         0              0.65  \n",
       "1         1              0.71  \n",
       "2         1              0.80  \n",
       "3         1              0.91  \n",
       "4         1              0.74  "
      ]
     },
     "execution_count": 80,
     "metadata": {},
     "output_type": "execute_result"
    }
   ],
   "source": [
    "df=pd.read_csv(\"AdmissionDataset/data.csv\")\n",
    "df.head()"
   ]
  },
  {
   "cell_type": "markdown",
   "metadata": {},
   "source": [
    "**Drop the Serial No because it is irrelevant in prediction**"
   ]
  },
  {
   "cell_type": "code",
   "execution_count": 81,
   "metadata": {},
   "outputs": [],
   "source": [
    "df.drop('Serial No.',axis=1,inplace=True)"
   ]
  },
  {
   "cell_type": "code",
   "execution_count": 82,
   "metadata": {},
   "outputs": [
    {
     "data": {
      "text/html": [
       "<div>\n",
       "<style scoped>\n",
       "    .dataframe tbody tr th:only-of-type {\n",
       "        vertical-align: middle;\n",
       "    }\n",
       "\n",
       "    .dataframe tbody tr th {\n",
       "        vertical-align: top;\n",
       "    }\n",
       "\n",
       "    .dataframe thead th {\n",
       "        text-align: right;\n",
       "    }\n",
       "</style>\n",
       "<table border=\"1\" class=\"dataframe\">\n",
       "  <thead>\n",
       "    <tr style=\"text-align: right;\">\n",
       "      <th></th>\n",
       "      <th>GRE Score</th>\n",
       "      <th>TOEFL Score</th>\n",
       "      <th>University Rating</th>\n",
       "      <th>SOP</th>\n",
       "      <th>LOR</th>\n",
       "      <th>CGPA</th>\n",
       "      <th>Research</th>\n",
       "      <th>Chance of Admit</th>\n",
       "    </tr>\n",
       "  </thead>\n",
       "  <tbody>\n",
       "    <tr>\n",
       "      <th>0</th>\n",
       "      <td>317</td>\n",
       "      <td>103</td>\n",
       "      <td>2</td>\n",
       "      <td>2.5</td>\n",
       "      <td>2.0</td>\n",
       "      <td>8.15</td>\n",
       "      <td>0</td>\n",
       "      <td>0.65</td>\n",
       "    </tr>\n",
       "    <tr>\n",
       "      <th>1</th>\n",
       "      <td>319</td>\n",
       "      <td>108</td>\n",
       "      <td>3</td>\n",
       "      <td>3.0</td>\n",
       "      <td>3.5</td>\n",
       "      <td>8.54</td>\n",
       "      <td>1</td>\n",
       "      <td>0.71</td>\n",
       "    </tr>\n",
       "    <tr>\n",
       "      <th>2</th>\n",
       "      <td>322</td>\n",
       "      <td>110</td>\n",
       "      <td>3</td>\n",
       "      <td>3.5</td>\n",
       "      <td>2.5</td>\n",
       "      <td>8.67</td>\n",
       "      <td>1</td>\n",
       "      <td>0.80</td>\n",
       "    </tr>\n",
       "    <tr>\n",
       "      <th>3</th>\n",
       "      <td>326</td>\n",
       "      <td>113</td>\n",
       "      <td>5</td>\n",
       "      <td>4.5</td>\n",
       "      <td>4.0</td>\n",
       "      <td>9.40</td>\n",
       "      <td>1</td>\n",
       "      <td>0.91</td>\n",
       "    </tr>\n",
       "    <tr>\n",
       "      <th>4</th>\n",
       "      <td>319</td>\n",
       "      <td>106</td>\n",
       "      <td>3</td>\n",
       "      <td>3.5</td>\n",
       "      <td>2.5</td>\n",
       "      <td>8.33</td>\n",
       "      <td>1</td>\n",
       "      <td>0.74</td>\n",
       "    </tr>\n",
       "  </tbody>\n",
       "</table>\n",
       "</div>"
      ],
      "text/plain": [
       "   GRE Score  TOEFL Score  University Rating  SOP  LOR   CGPA  Research  \\\n",
       "0        317          103                  2  2.5   2.0  8.15         0   \n",
       "1        319          108                  3  3.0   3.5  8.54         1   \n",
       "2        322          110                  3  3.5   2.5  8.67         1   \n",
       "3        326          113                  5  4.5   4.0  9.40         1   \n",
       "4        319          106                  3  3.5   2.5  8.33         1   \n",
       "\n",
       "   Chance of Admit   \n",
       "0              0.65  \n",
       "1              0.71  \n",
       "2              0.80  \n",
       "3              0.91  \n",
       "4              0.74  "
      ]
     },
     "execution_count": 82,
     "metadata": {},
     "output_type": "execute_result"
    }
   ],
   "source": [
    "df.head()"
   ]
  },
  {
   "cell_type": "code",
   "execution_count": 90,
   "metadata": {},
   "outputs": [
    {
     "name": "stdout",
     "output_type": "stream",
     "text": [
      "(450, 8)\n"
     ]
    }
   ],
   "source": [
    "data=np.matrix(df)\n",
    "print(data.shape)"
   ]
  },
  {
   "cell_type": "markdown",
   "metadata": {},
   "source": [
    "### Feature Normalisation\n",
    "${x_i}$= $\\frac{x_i - \\mu}{\\sigma}$ \n",
    "\n",
    "Feature Normalisation is done because data in some columns is very small in comparison to other columns data."
   ]
  },
  {
   "cell_type": "markdown",
   "metadata": {},
   "source": [
    "#### Preparing the Training data"
   ]
  },
  {
   "cell_type": "code",
   "execution_count": 91,
   "metadata": {},
   "outputs": [],
   "source": [
    "def get_data(training_data,testing_data):\n",
    "    training_data=pd.DataFrame(training_data)\n",
    "    testing_data=pd.DataFrame(testing_data)\n",
    "    \n",
    "    columns=training_data.shape[1]\n",
    "\n",
    "    X=training_data.iloc[:,0:columns-1]# features Sets\n",
    "\n",
    "    mu = X.mean()\n",
    "    sigma = X.std()\n",
    "\n",
    "    X=(X-X.mean())/X.std()\n",
    "\n",
    "    Y=training_data.iloc[:,columns-1:columns] # outputSet\n",
    "    X.insert(0, 'Ones', 1)\n",
    "\n",
    "    \n",
    "    X_train = np.matrix(X.values)\n",
    "    Y_train = np.matrix(Y.values)\n",
    "\n",
    "    \n",
    "    columns=testing_data.shape[1]\n",
    "\n",
    "    X=testing_data.iloc[:,0:columns-1]# features Sets\n",
    "\n",
    "    Y=testing_data.iloc[:,columns-1:columns] # outputSet\n",
    "\n",
    "    \n",
    "    X=(X-mu)/sigma\n",
    "\n",
    "\n",
    "    X.insert(0, 'Ones', 1)\n",
    "\n",
    "    X_test = np.matrix(X.values)\n",
    "    Y_test = np.matrix(Y.values)\n",
    "\n",
    "    return X_train,Y_train,X_test,Y_test"
   ]
  },
  {
   "cell_type": "markdown",
   "metadata": {},
   "source": [
    "#### Mean Square Error with  L1 Regularization\n",
    "${J(\\theta)}$=${\\frac{1}{2m}}{\\sum_{i=0}^{m}}$(${\\hat{y_i}-{y_i})^2 +  \\frac{\\lambda}{m}*\\parallel \\theta \\parallel}$ \n",
    "\n",
    "\n",
    "J: is cost function\n",
    "\n",
    "\n",
    "m : no. of training examples\n",
    "\n",
    "${\\theta}$: parameters"
   ]
  },
  {
   "cell_type": "code",
   "execution_count": 92,
   "metadata": {},
   "outputs": [],
   "source": [
    "def costCompute_L2(X,Y,theta,lambd):\n",
    "    j=0.0\n",
    "    m=X.shape[0]\n",
    "    \n",
    "    err = np.power((np.dot(X,theta.T)-Y),2)\n",
    "    j=np.sum(err)\n",
    "    reg= (lambd/m)*np.sum(theta)\n",
    "    \n",
    "    return j/(2*m)+reg"
   ]
  },
  {
   "cell_type": "markdown",
   "metadata": {},
   "source": [
    "#### Gradient Descent algo\n",
    "repeat Untill Converges{\n",
    "\n",
    "\n",
    "${{\\theta_j} :=}{{\\theta_j}}$-${\\alpha}$*${\\frac{\\partial}{\\partial {\\theta_j}} J(\\theta)}$\n",
    "\n",
    "\n",
    "}\n",
    "\n",
    "${\\alpha}$: Learning rate constant"
   ]
  },
  {
   "cell_type": "code",
   "execution_count": 93,
   "metadata": {},
   "outputs": [],
   "source": [
    "#Vectorised Implementation\n",
    "def gradientDescent(X, y, theta, alpha, iters,lambd):\n",
    "    \n",
    "    Jhistory=np.zeros(iters)\n",
    "    temp=0.0\n",
    "    \n",
    "    m=X.shape[0]\n",
    "    for i in range(iters):\n",
    "        \n",
    "        pre = np.dot(X,theta.T)-y\n",
    "        \n",
    "        temp=theta[0,0]-(alpha/m)*np.sum(pre)\n",
    "        \n",
    "        delta=np.dot(np.transpose(pre),X)\n",
    "        theta=theta*(1-(alpha*lambd)/m)-(alpha/m)*delta\n",
    "        \n",
    "        \n",
    "        theta[0,0]=temp\n",
    "        Jhistory[i] = costCompute_L2(X, y, theta,lambd)\n",
    "        \n",
    "        \n",
    "        \n",
    "\n",
    "    return theta,Jhistory"
   ]
  },
  {
   "cell_type": "code",
   "execution_count": 94,
   "metadata": {},
   "outputs": [],
   "source": [
    "def prediction_Error(X,Y,finalParameter):\n",
    "    out= np.dot(X,finalParameter.T)\n",
    "    \n",
    "   \n",
    "    err= np.sum(np.square(out-Y))/X.shape[0]\n",
    "    \n",
    "    return err"
   ]
  },
  {
   "cell_type": "markdown",
   "metadata": {},
   "source": []
  },
  {
   "cell_type": "code",
   "execution_count": 96,
   "metadata": {},
   "outputs": [
    {
     "name": "stdout",
     "output_type": "stream",
     "text": [
      "[0.0035681877920407104, 0.00387828671314742, 0.0034512038405239147]\n",
      "0.0036325594485706815\n"
     ]
    }
   ],
   "source": [
    "alpha=.009\n",
    "iters=1000\n",
    "lambd=.01\n",
    "kf = KFold(n_splits=3)\n",
    "\n",
    "err_Kfold=[]\n",
    "\n",
    "for train_index, test_index in kf.split(data):\n",
    "    training_data,testing_data= data[train_index], data[test_index]\n",
    "    X_train,Y_train,X_test,Y_test=get_data(training_data,testing_data)\n",
    "\n",
    "    theta = np.matrix(np.random.randn(1,X_train.shape[1]))*0.01\n",
    "    #print(theta.shape)\n",
    "\n",
    "    minTheta, cost= gradientDescent(X_train, Y_train, theta, alpha, iters,lambd)\n",
    "    error=prediction_Error(X_train,Y_train,minTheta)\n",
    "    err_Kfold.append(error)\n",
    "    \n",
    "print(err_Kfold)\n",
    "avgErr=0.0    \n",
    "for i in err_Kfold:\n",
    "    avgErr+=i\n",
    "    \n",
    "print(avgErr/len(err_Kfold))"
   ]
  },
  {
   "cell_type": "code",
   "execution_count": null,
   "metadata": {},
   "outputs": [],
   "source": []
  },
  {
   "cell_type": "code",
   "execution_count": 124,
   "metadata": {},
   "outputs": [],
   "source": [
    "choice_kfold=[2,3,4,5,6,7,8,9,10]\n",
    "\n",
    "err_train=[]\n",
    "err_test=[]\n",
    "alpha=.009\n",
    "iters=1000\n",
    "for l in choice_kfold:\n",
    "    err_Kfold_train=[]\n",
    "    err_Kfold_test=[]\n",
    "    kf = KFold(n_splits=l)\n",
    "    \n",
    "    for train_index, test_index in kf.split(data):\n",
    "        \n",
    "        training_data,testing_data= data[train_index], data[test_index]\n",
    "        X_train,Y_train,X_test,Y_test=get_data(training_data,testing_data)\n",
    "        #print(X_train.shape)\n",
    "        \n",
    "        theta = np.matrix(np.random.randn(1,X_train.shape[1]))\n",
    "        #print(theta.shape)\n",
    "\n",
    "        minTheta, cost= gradientDescent(X_train, Y_train, theta, alpha, iters,lambd)\n",
    "        error1=prediction_Error(X_train,Y_train,minTheta)\n",
    "        error2=prediction_Error(X_test,Y_test,minTheta)\n",
    "        \n",
    "        err_Kfold_train.append(error1)\n",
    "        err_Kfold_test.append(error2)\n",
    "    \n",
    "    avgErr_train=0.0    \n",
    "    for i in err_Kfold_train:\n",
    "        avgErr_train+=i\n",
    "        \n",
    "    avgErr_train=avgErr_train/len(err_Kfold)\n",
    "    err_train.append(avgErr_train)\n",
    "    \n",
    "    avgErr_test=0.0    \n",
    "    for i in err_Kfold_test:\n",
    "        avgErr_test+=i\n",
    "    \n",
    "    avgErr_test=avgErr_test/len(err_Kfold)\n",
    "    err_test.append(avgErr_test)   \n",
    "    "
   ]
  },
  {
   "cell_type": "code",
   "execution_count": 125,
   "metadata": {},
   "outputs": [
    {
     "data": {
      "text/plain": [
       "Text(0.5, 1.0, 'Training Error vs Reg. Parameter')"
      ]
     },
     "execution_count": 125,
     "metadata": {},
     "output_type": "execute_result"
    },
    {
     "data": {
      "image/png": "[encoded data removed]",
      "text/plain": [
       "<Figure size 864x432 with 1 Axes>"
      ]
     },
     "metadata": {
      "needs_background": "light"
     },
     "output_type": "display_data"
    }
   ],
   "source": [
    "plt.rcParams['figure.figsize'] = [12, 6]\n",
    "plt.scatter(choice_kfold,err_train,label=\"Training Error\")\n",
    "plt.plot(choice_kfold,err_train,'g')\n",
    "plt.scatter(choice_kfold,err_test,label=\"Validation Error\")\n",
    "plt.plot(choice_kfold,err_test,'r')\n",
    "\n",
    "plt.legend()\n",
    "\n",
    "plt.xlabel('Regularisation Parameter')\n",
    "plt.ylabel('Error')\n",
    "plt.title('Training Error vs Reg. Parameter')"
   ]
  },
  {
   "cell_type": "code",
   "execution_count": 126,
   "metadata": {},
   "outputs": [
    {
     "name": "stdout",
     "output_type": "stream",
     "text": [
      "[0.022527749639120367, 0.012074567593579019, 0.027659082082511485, 0.03613436228093208, 0.05158391764063606, 0.05827794178166549, 0.06635932941502834, 0.08068944295171353, 0.08317994158973986]\n",
      "[0.023264367265675726, 0.012103750188582287, 0.027804807250618447, 0.03808937202550421, 0.054505157038941765, 0.07161129753422409, 0.06282235352920905, 0.0815021899383842, 0.08545046394170115]\n"
     ]
    }
   ],
   "source": [
    "print(err_train)\n",
    "print(err_test)"
   ]
  },
  {
   "cell_type": "markdown",
   "metadata": {},
   "source": [
    "### Leave One Out Cross Validation (LOOCV)\n",
    "\n",
    "**It is special case of K-Fold cross Validation**\n",
    "> **K =m**<br>\n",
    "> m: no of training examples"
   ]
  },
  {
   "cell_type": "code",
   "execution_count": 129,
   "metadata": {},
   "outputs": [
    {
     "name": "stdout",
     "output_type": "stream",
     "text": [
      "3.5094634222377166\n",
      "0.08545046394170115\n"
     ]
    }
   ],
   "source": [
    "loo = LeaveOneOut()\n",
    "\n",
    "alpha=.009\n",
    "iters=1000\n",
    "\n",
    "\n",
    "err_loo_train=[]\n",
    "err_loo_test=[]\n",
    "\n",
    "for train_index, test_index in loo.split(data):\n",
    "    training_data,testing_data= data[train_index], data[test_index]\n",
    "    X_train,Y_train,X_test,Y_test=get_data(training_data,testing_data)\n",
    "    \n",
    "    #print(X_train.shape)\n",
    "    \n",
    "    theta = np.matrix(np.random.randn(1,X_train.shape[1]))\n",
    "    #print(theta.shape)\n",
    "    \n",
    "    minTheta, cost= gradientDescent(X_train, Y_train, theta, alpha, iters,lambd)\n",
    "    error1=prediction_Error(X_train,Y_train,minTheta)\n",
    "    error2=prediction_Error(X_test,Y_test,minTheta)\n",
    "\n",
    "    err_loo_train.append(error1)\n",
    "    err_loo_test.append(error2)\n",
    "    \n",
    "avgErr_train=0.0    \n",
    "for i in err_loo_train:\n",
    "    avgErr_train+=i\n",
    "\n",
    "avgErr_train=avgErr_train/len(err_Kfold)\n",
    "print(avgErr_train)\n",
    "\n",
    "avgErr_test=0.0    \n",
    "for i in err_Kfold_test:\n",
    "    avgErr_test+=i\n",
    "\n",
    "avgErr_test=avgErr_test/len(err_Kfold)\n",
    "print(avgErr_test) \n",
    "   "
   ]
  },
  {
   "cell_type": "markdown",
   "metadata": {},
   "source": [
    "- It is highly computationaly expensive\n",
    "- There is no randomness in splitting procedure, therefore it always yeilds the same result, so it is stable"
   ]
  },
  {
   "cell_type": "code",
   "execution_count": null,
   "metadata": {},
   "outputs": [],
   "source": []
  }
 ],
 "metadata": {
  "kernelspec": {
   "display_name": "Python 3",
   "language": "python",
   "name": "python3"
  },
  "language_info": {
   "codemirror_mode": {
    "name": "ipython",
    "version": 3
   },
   "file_extension": ".py",
   "mimetype": "text/x-python",
   "name": "python",
   "nbconvert_exporter": "python",
   "pygments_lexer": "ipython3",
   "version": "3.6.7"
  }
 },
 "nbformat": 4,
 "nbformat_minor": 2
}
