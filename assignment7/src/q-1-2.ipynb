{
 "cells": [
  {
   "cell_type": "markdown",
   "metadata": {},
   "source": [
    "### MultiVariate Linear Regression with L2 Regularization"
   ]
  },
  {
   "cell_type": "code",
   "execution_count": 163,
   "metadata": {},
   "outputs": [],
   "source": [
    "import numpy as np\n",
    "import pandas as pd\n",
    "import matplotlib.pyplot as plt"
   ]
  },
  {
   "cell_type": "code",
   "execution_count": 164,
   "metadata": {},
   "outputs": [
    {
     "data": {
      "text/html": [
       "<div>\n",
       "<style scoped>\n",
       "    .dataframe tbody tr th:only-of-type {\n",
       "        vertical-align: middle;\n",
       "    }\n",
       "\n",
       "    .dataframe tbody tr th {\n",
       "        vertical-align: top;\n",
       "    }\n",
       "\n",
       "    .dataframe thead th {\n",
       "        text-align: right;\n",
       "    }\n",
       "</style>\n",
       "<table border=\"1\" class=\"dataframe\">\n",
       "  <thead>\n",
       "    <tr style=\"text-align: right;\">\n",
       "      <th></th>\n",
       "      <th>Serial No.</th>\n",
       "      <th>GRE Score</th>\n",
       "      <th>TOEFL Score</th>\n",
       "      <th>University Rating</th>\n",
       "      <th>SOP</th>\n",
       "      <th>LOR</th>\n",
       "      <th>CGPA</th>\n",
       "      <th>Research</th>\n",
       "      <th>Chance of Admit</th>\n",
       "    </tr>\n",
       "  </thead>\n",
       "  <tbody>\n",
       "    <tr>\n",
       "      <th>0</th>\n",
       "      <td>242</td>\n",
       "      <td>317</td>\n",
       "      <td>103</td>\n",
       "      <td>2</td>\n",
       "      <td>2.5</td>\n",
       "      <td>2.0</td>\n",
       "      <td>8.15</td>\n",
       "      <td>0</td>\n",
       "      <td>0.65</td>\n",
       "    </tr>\n",
       "    <tr>\n",
       "      <th>1</th>\n",
       "      <td>334</td>\n",
       "      <td>319</td>\n",
       "      <td>108</td>\n",
       "      <td>3</td>\n",
       "      <td>3.0</td>\n",
       "      <td>3.5</td>\n",
       "      <td>8.54</td>\n",
       "      <td>1</td>\n",
       "      <td>0.71</td>\n",
       "    </tr>\n",
       "    <tr>\n",
       "      <th>2</th>\n",
       "      <td>4</td>\n",
       "      <td>322</td>\n",
       "      <td>110</td>\n",
       "      <td>3</td>\n",
       "      <td>3.5</td>\n",
       "      <td>2.5</td>\n",
       "      <td>8.67</td>\n",
       "      <td>1</td>\n",
       "      <td>0.80</td>\n",
       "    </tr>\n",
       "    <tr>\n",
       "      <th>3</th>\n",
       "      <td>45</td>\n",
       "      <td>326</td>\n",
       "      <td>113</td>\n",
       "      <td>5</td>\n",
       "      <td>4.5</td>\n",
       "      <td>4.0</td>\n",
       "      <td>9.40</td>\n",
       "      <td>1</td>\n",
       "      <td>0.91</td>\n",
       "    </tr>\n",
       "    <tr>\n",
       "      <th>4</th>\n",
       "      <td>232</td>\n",
       "      <td>319</td>\n",
       "      <td>106</td>\n",
       "      <td>3</td>\n",
       "      <td>3.5</td>\n",
       "      <td>2.5</td>\n",
       "      <td>8.33</td>\n",
       "      <td>1</td>\n",
       "      <td>0.74</td>\n",
       "    </tr>\n",
       "  </tbody>\n",
       "</table>\n",
       "</div>"
      ],
      "text/plain": [
       "   Serial No.  GRE Score  TOEFL Score  University Rating  SOP  LOR   CGPA  \\\n",
       "0         242        317          103                  2  2.5   2.0  8.15   \n",
       "1         334        319          108                  3  3.0   3.5  8.54   \n",
       "2           4        322          110                  3  3.5   2.5  8.67   \n",
       "3          45        326          113                  5  4.5   4.0  9.40   \n",
       "4         232        319          106                  3  3.5   2.5  8.33   \n",
       "\n",
       "   Research  Chance of Admit   \n",
       "0         0              0.65  \n",
       "1         1              0.71  \n",
       "2         1              0.80  \n",
       "3         1              0.91  \n",
       "4         1              0.74  "
      ]
     },
     "execution_count": 164,
     "metadata": {},
     "output_type": "execute_result"
    }
   ],
   "source": [
    "df=pd.read_csv(\"AdmissionDataset/data.csv\")\n",
    "df.head()"
   ]
  },
  {
   "cell_type": "markdown",
   "metadata": {},
   "source": [
    "**Drop the Serial No because it is irrelevant in prediction**"
   ]
  },
  {
   "cell_type": "code",
   "execution_count": 165,
   "metadata": {},
   "outputs": [],
   "source": [
    "df.drop('Serial No.',axis=1,inplace=True)"
   ]
  },
  {
   "cell_type": "code",
   "execution_count": 166,
   "metadata": {},
   "outputs": [
    {
     "data": {
      "text/html": [
       "<div>\n",
       "<style scoped>\n",
       "    .dataframe tbody tr th:only-of-type {\n",
       "        vertical-align: middle;\n",
       "    }\n",
       "\n",
       "    .dataframe tbody tr th {\n",
       "        vertical-align: top;\n",
       "    }\n",
       "\n",
       "    .dataframe thead th {\n",
       "        text-align: right;\n",
       "    }\n",
       "</style>\n",
       "<table border=\"1\" class=\"dataframe\">\n",
       "  <thead>\n",
       "    <tr style=\"text-align: right;\">\n",
       "      <th></th>\n",
       "      <th>GRE Score</th>\n",
       "      <th>TOEFL Score</th>\n",
       "      <th>University Rating</th>\n",
       "      <th>SOP</th>\n",
       "      <th>LOR</th>\n",
       "      <th>CGPA</th>\n",
       "      <th>Research</th>\n",
       "      <th>Chance of Admit</th>\n",
       "    </tr>\n",
       "  </thead>\n",
       "  <tbody>\n",
       "    <tr>\n",
       "      <th>0</th>\n",
       "      <td>317</td>\n",
       "      <td>103</td>\n",
       "      <td>2</td>\n",
       "      <td>2.5</td>\n",
       "      <td>2.0</td>\n",
       "      <td>8.15</td>\n",
       "      <td>0</td>\n",
       "      <td>0.65</td>\n",
       "    </tr>\n",
       "    <tr>\n",
       "      <th>1</th>\n",
       "      <td>319</td>\n",
       "      <td>108</td>\n",
       "      <td>3</td>\n",
       "      <td>3.0</td>\n",
       "      <td>3.5</td>\n",
       "      <td>8.54</td>\n",
       "      <td>1</td>\n",
       "      <td>0.71</td>\n",
       "    </tr>\n",
       "    <tr>\n",
       "      <th>2</th>\n",
       "      <td>322</td>\n",
       "      <td>110</td>\n",
       "      <td>3</td>\n",
       "      <td>3.5</td>\n",
       "      <td>2.5</td>\n",
       "      <td>8.67</td>\n",
       "      <td>1</td>\n",
       "      <td>0.80</td>\n",
       "    </tr>\n",
       "    <tr>\n",
       "      <th>3</th>\n",
       "      <td>326</td>\n",
       "      <td>113</td>\n",
       "      <td>5</td>\n",
       "      <td>4.5</td>\n",
       "      <td>4.0</td>\n",
       "      <td>9.40</td>\n",
       "      <td>1</td>\n",
       "      <td>0.91</td>\n",
       "    </tr>\n",
       "    <tr>\n",
       "      <th>4</th>\n",
       "      <td>319</td>\n",
       "      <td>106</td>\n",
       "      <td>3</td>\n",
       "      <td>3.5</td>\n",
       "      <td>2.5</td>\n",
       "      <td>8.33</td>\n",
       "      <td>1</td>\n",
       "      <td>0.74</td>\n",
       "    </tr>\n",
       "  </tbody>\n",
       "</table>\n",
       "</div>"
      ],
      "text/plain": [
       "   GRE Score  TOEFL Score  University Rating  SOP  LOR   CGPA  Research  \\\n",
       "0        317          103                  2  2.5   2.0  8.15         0   \n",
       "1        319          108                  3  3.0   3.5  8.54         1   \n",
       "2        322          110                  3  3.5   2.5  8.67         1   \n",
       "3        326          113                  5  4.5   4.0  9.40         1   \n",
       "4        319          106                  3  3.5   2.5  8.33         1   \n",
       "\n",
       "   Chance of Admit   \n",
       "0              0.65  \n",
       "1              0.71  \n",
       "2              0.80  \n",
       "3              0.91  \n",
       "4              0.74  "
      ]
     },
     "execution_count": 166,
     "metadata": {},
     "output_type": "execute_result"
    }
   ],
   "source": [
    "df.head()"
   ]
  },
  {
   "cell_type": "markdown",
   "metadata": {},
   "source": [
    "#### Spliting the data into training and Validation set"
   ]
  },
  {
   "cell_type": "code",
   "execution_count": 167,
   "metadata": {},
   "outputs": [],
   "source": [
    "training_data = df.sample(frac = 0.8, random_state = 200)\n",
    "testing_data = df.drop(training_data.index)"
   ]
  },
  {
   "cell_type": "markdown",
   "metadata": {},
   "source": [
    "### Feature Normalisation\n",
    "${x_i}$= $\\frac{x_i - \\mu}{\\sigma}$ \n",
    "\n",
    "<font color=\"blue\">\n",
    "Feature Normalisation is done because data in some columns value is very small in comparison to other columns data.This lead to slow learning.</font>\n",
    "\n",
    "\n",
    "> By Doing the Normalisation we just make the learning fast because gradient descent works smoothly."
   ]
  },
  {
   "cell_type": "markdown",
   "metadata": {},
   "source": [
    "#### Preparing the Training data"
   ]
  },
  {
   "cell_type": "code",
   "execution_count": 168,
   "metadata": {},
   "outputs": [
    {
     "name": "stdout",
     "output_type": "stream",
     "text": [
      "(360, 1)\n",
      "(360, 8)\n"
     ]
    },
    {
     "data": {
      "text/html": [
       "<div>\n",
       "<style scoped>\n",
       "    .dataframe tbody tr th:only-of-type {\n",
       "        vertical-align: middle;\n",
       "    }\n",
       "\n",
       "    .dataframe tbody tr th {\n",
       "        vertical-align: top;\n",
       "    }\n",
       "\n",
       "    .dataframe thead th {\n",
       "        text-align: right;\n",
       "    }\n",
       "</style>\n",
       "<table border=\"1\" class=\"dataframe\">\n",
       "  <thead>\n",
       "    <tr style=\"text-align: right;\">\n",
       "      <th></th>\n",
       "      <th>Ones</th>\n",
       "      <th>GRE Score</th>\n",
       "      <th>TOEFL Score</th>\n",
       "      <th>University Rating</th>\n",
       "      <th>SOP</th>\n",
       "      <th>LOR</th>\n",
       "      <th>CGPA</th>\n",
       "      <th>Research</th>\n",
       "    </tr>\n",
       "  </thead>\n",
       "  <tbody>\n",
       "    <tr>\n",
       "      <th>198</th>\n",
       "      <td>1</td>\n",
       "      <td>-0.126730</td>\n",
       "      <td>-1.030256</td>\n",
       "      <td>-0.105307</td>\n",
       "      <td>0.130771</td>\n",
       "      <td>1.132289</td>\n",
       "      <td>0.911363</td>\n",
       "      <td>-1.091697</td>\n",
       "    </tr>\n",
       "    <tr>\n",
       "      <th>39</th>\n",
       "      <td>1</td>\n",
       "      <td>-0.389434</td>\n",
       "      <td>-0.366764</td>\n",
       "      <td>-0.986945</td>\n",
       "      <td>-0.881652</td>\n",
       "      <td>-0.487409</td>\n",
       "      <td>-0.769447</td>\n",
       "      <td>-1.091697</td>\n",
       "    </tr>\n",
       "    <tr>\n",
       "      <th>215</th>\n",
       "      <td>1</td>\n",
       "      <td>-0.739706</td>\n",
       "      <td>0.462602</td>\n",
       "      <td>-0.105307</td>\n",
       "      <td>0.130771</td>\n",
       "      <td>-0.487409</td>\n",
       "      <td>-0.969147</td>\n",
       "      <td>0.913461</td>\n",
       "    </tr>\n",
       "    <tr>\n",
       "      <th>303</th>\n",
       "      <td>1</td>\n",
       "      <td>-0.389434</td>\n",
       "      <td>0.130855</td>\n",
       "      <td>-0.105307</td>\n",
       "      <td>0.130771</td>\n",
       "      <td>-0.487409</td>\n",
       "      <td>-0.087138</td>\n",
       "      <td>-1.091697</td>\n",
       "    </tr>\n",
       "    <tr>\n",
       "      <th>377</th>\n",
       "      <td>1</td>\n",
       "      <td>0.398678</td>\n",
       "      <td>0.296729</td>\n",
       "      <td>0.776331</td>\n",
       "      <td>0.636983</td>\n",
       "      <td>0.592390</td>\n",
       "      <td>0.162488</td>\n",
       "      <td>0.913461</td>\n",
       "    </tr>\n",
       "  </tbody>\n",
       "</table>\n",
       "</div>"
      ],
      "text/plain": [
       "     Ones  GRE Score  TOEFL Score  University Rating       SOP      LOR   \\\n",
       "198     1  -0.126730    -1.030256          -0.105307  0.130771  1.132289   \n",
       "39      1  -0.389434    -0.366764          -0.986945 -0.881652 -0.487409   \n",
       "215     1  -0.739706     0.462602          -0.105307  0.130771 -0.487409   \n",
       "303     1  -0.389434     0.130855          -0.105307  0.130771 -0.487409   \n",
       "377     1   0.398678     0.296729           0.776331  0.636983  0.592390   \n",
       "\n",
       "         CGPA  Research  \n",
       "198  0.911363 -1.091697  \n",
       "39  -0.769447 -1.091697  \n",
       "215 -0.969147  0.913461  \n",
       "303 -0.087138 -1.091697  \n",
       "377  0.162488  0.913461  "
      ]
     },
     "execution_count": 168,
     "metadata": {},
     "output_type": "execute_result"
    }
   ],
   "source": [
    "columns=training_data.shape[1]\n",
    "\n",
    "X=training_data.iloc[:,0:columns-1]# features Sets\n",
    "\n",
    "mu = X.mean()\n",
    "sigma = X.std()\n",
    "\n",
    "# features normalisation\n",
    "X=(X-X.mean())/X.std()\n",
    "\n",
    "Y=training_data.iloc[:,columns-1:columns] # outputSet\n",
    "X.insert(0, 'Ones', 1)\n",
    "\n",
    "print(Y.shape)\n",
    "print(X.shape)\n",
    "X.head()"
   ]
  },
  {
   "cell_type": "markdown",
   "metadata": {},
   "source": [
    "> Convert the X and Y into numpy matrix because we are going to do the vectorised Implementation"
   ]
  },
  {
   "cell_type": "code",
   "execution_count": 169,
   "metadata": {},
   "outputs": [
    {
     "name": "stdout",
     "output_type": "stream",
     "text": [
      "(360, 8)\n",
      "(360, 1)\n"
     ]
    }
   ],
   "source": [
    "X_train = np.matrix(X.values)\n",
    "Y_train = np.matrix(Y.values)\n",
    "print(X_train.shape)\n",
    "print(Y_train.shape)\n",
    "\n"
   ]
  },
  {
   "cell_type": "markdown",
   "metadata": {},
   "source": [
    "#### Preparing the validation/Test data"
   ]
  },
  {
   "cell_type": "code",
   "execution_count": 170,
   "metadata": {},
   "outputs": [
    {
     "name": "stdout",
     "output_type": "stream",
     "text": [
      "(90, 8)\n",
      "(90, 1)\n"
     ]
    },
    {
     "data": {
      "text/html": [
       "<div>\n",
       "<style scoped>\n",
       "    .dataframe tbody tr th:only-of-type {\n",
       "        vertical-align: middle;\n",
       "    }\n",
       "\n",
       "    .dataframe tbody tr th {\n",
       "        vertical-align: top;\n",
       "    }\n",
       "\n",
       "    .dataframe thead th {\n",
       "        text-align: right;\n",
       "    }\n",
       "</style>\n",
       "<table border=\"1\" class=\"dataframe\">\n",
       "  <thead>\n",
       "    <tr style=\"text-align: right;\">\n",
       "      <th></th>\n",
       "      <th>Ones</th>\n",
       "      <th>GRE Score</th>\n",
       "      <th>TOEFL Score</th>\n",
       "      <th>University Rating</th>\n",
       "      <th>SOP</th>\n",
       "      <th>LOR</th>\n",
       "      <th>CGPA</th>\n",
       "      <th>Research</th>\n",
       "    </tr>\n",
       "  </thead>\n",
       "  <tbody>\n",
       "    <tr>\n",
       "      <th>0</th>\n",
       "      <td>1</td>\n",
       "      <td>0.048406</td>\n",
       "      <td>-0.698510</td>\n",
       "      <td>-0.986945</td>\n",
       "      <td>-0.881652</td>\n",
       "      <td>-1.567208</td>\n",
       "      <td>-0.719522</td>\n",
       "      <td>-1.091697</td>\n",
       "    </tr>\n",
       "    <tr>\n",
       "      <th>1</th>\n",
       "      <td>1</td>\n",
       "      <td>0.223542</td>\n",
       "      <td>0.130855</td>\n",
       "      <td>-0.105307</td>\n",
       "      <td>-0.375440</td>\n",
       "      <td>0.052490</td>\n",
       "      <td>-0.070496</td>\n",
       "      <td>0.913461</td>\n",
       "    </tr>\n",
       "    <tr>\n",
       "      <th>3</th>\n",
       "      <td>1</td>\n",
       "      <td>0.836518</td>\n",
       "      <td>0.960221</td>\n",
       "      <td>1.657969</td>\n",
       "      <td>1.143194</td>\n",
       "      <td>0.592390</td>\n",
       "      <td>1.360689</td>\n",
       "      <td>0.913461</td>\n",
       "    </tr>\n",
       "    <tr>\n",
       "      <th>6</th>\n",
       "      <td>1</td>\n",
       "      <td>0.486246</td>\n",
       "      <td>0.462602</td>\n",
       "      <td>1.657969</td>\n",
       "      <td>1.143194</td>\n",
       "      <td>0.592390</td>\n",
       "      <td>0.645096</td>\n",
       "      <td>-1.091697</td>\n",
       "    </tr>\n",
       "    <tr>\n",
       "      <th>7</th>\n",
       "      <td>1</td>\n",
       "      <td>-0.827274</td>\n",
       "      <td>-0.035018</td>\n",
       "      <td>-0.986945</td>\n",
       "      <td>-0.375440</td>\n",
       "      <td>0.052490</td>\n",
       "      <td>-0.103779</td>\n",
       "      <td>0.913461</td>\n",
       "    </tr>\n",
       "  </tbody>\n",
       "</table>\n",
       "</div>"
      ],
      "text/plain": [
       "   Ones  GRE Score  TOEFL Score  University Rating       SOP      LOR   \\\n",
       "0     1   0.048406    -0.698510          -0.986945 -0.881652 -1.567208   \n",
       "1     1   0.223542     0.130855          -0.105307 -0.375440  0.052490   \n",
       "3     1   0.836518     0.960221           1.657969  1.143194  0.592390   \n",
       "6     1   0.486246     0.462602           1.657969  1.143194  0.592390   \n",
       "7     1  -0.827274    -0.035018          -0.986945 -0.375440  0.052490   \n",
       "\n",
       "       CGPA  Research  \n",
       "0 -0.719522 -1.091697  \n",
       "1 -0.070496  0.913461  \n",
       "3  1.360689  0.913461  \n",
       "6  0.645096 -1.091697  \n",
       "7 -0.103779  0.913461  "
      ]
     },
     "execution_count": 170,
     "metadata": {},
     "output_type": "execute_result"
    }
   ],
   "source": [
    "columns=testing_data.shape[1]\n",
    "\n",
    "X=testing_data.iloc[:,0:columns-1]# features Sets\n",
    "\n",
    "Y=testing_data.iloc[:,columns-1:columns] # outputSet\n",
    "\n",
    "# features normalisation\n",
    "X=(X-mu)/sigma\n",
    "\n",
    "\n",
    "X.insert(0, 'Ones', 1)\n",
    "\n",
    "X_test = np.matrix(X.values)\n",
    "Y_test = np.matrix(Y.values)\n",
    "\n",
    "print(X_test.shape)\n",
    "print(Y_test.shape)\n",
    "\n",
    "X.head()"
   ]
  },
  {
   "cell_type": "markdown",
   "metadata": {},
   "source": [
    "#### Mean Square Error with  L2 Regularization\n",
    "${J(\\theta)}$=${\\frac{1}{2*m}}{\\sum_{i=0}^{m}}$(${\\hat{y_i}-{y_i})^2 +  \\frac{\\lambda}{2m}*\\parallel \\theta \\parallel^2}$ \n",
    "\n",
    "\n",
    "J: is cost function\n",
    "\n",
    "\n",
    "m : no. of training examples\n",
    "\n",
    "${\\theta}$: parameters\n",
    "\n",
    "${\\lambda}$: Regularization coefficient"
   ]
  },
  {
   "cell_type": "code",
   "execution_count": 171,
   "metadata": {},
   "outputs": [],
   "source": [
    "def costCompute_L2(X,Y,theta,lambd):\n",
    "    err=0.0\n",
    "    \n",
    "    m=X.shape[0] ## no of training examples\n",
    "    \n",
    "    err = np.sum(np.power(np.dot(X,theta.T)-Y,2))\n",
    "    err = err/(2*m)\n",
    "    \n",
    "    reg= (lambd/(2*m))*np.sum(np.square(theta))\n",
    "    \n",
    "    return err+reg"
   ]
  },
  {
   "cell_type": "markdown",
   "metadata": {},
   "source": [
    "#### Gradient Descent algo\n",
    "repeat Untill Converges{\n",
    "\n",
    "\n",
    "${{\\theta_j} :=}{{\\theta_j}}$-${\\alpha}$*${\\frac{\\partial}{\\partial {\\theta_j}} J(\\theta)}$\n",
    "\n",
    "\n",
    "}\n",
    "\n",
    "${\\alpha}$: Learning rate constant"
   ]
  },
  {
   "cell_type": "code",
   "execution_count": 172,
   "metadata": {},
   "outputs": [],
   "source": [
    "#Vectorised Implementation\n",
    "def gradientDescent(X, y, theta, alpha, iters,lambd):\n",
    "    \n",
    "    Jhistory=np.zeros(iters)\n",
    "    ThetaforCoffiecients=np.zeros((iters,theta.shape[1]))\n",
    "    \n",
    "    temp=0.0\n",
    "    m=X.shape[0]\n",
    "    \n",
    "    for i in range(iters):\n",
    "        \n",
    "        pre = np.dot(X,theta.T)-y\n",
    "        \n",
    "        temp=theta[0,0]-(alpha/m)*np.sum(pre)\n",
    "            \n",
    "        \n",
    "        delta=np.dot(np.transpose(pre),X)\n",
    "        theta=theta*(1-(alpha*lambd)/m)-(alpha/m)*delta\n",
    "        \n",
    "        theta[0,0]=temp\n",
    "        Jhistory[i] = costCompute_L2(X, y, theta,lambd)\n",
    "        \n",
    "        ThetaforCoffiecients[i]=theta\n",
    "        \n",
    "\n",
    "    return theta,Jhistory,ThetaforCoffiecients"
   ]
  },
  {
   "cell_type": "code",
   "execution_count": 173,
   "metadata": {},
   "outputs": [
    {
     "name": "stdout",
     "output_type": "stream",
     "text": [
      "(1, 8)\n",
      "(1, 8)\n",
      "[[ 0.71970128  0.01027364  0.04228102  0.01543677 -0.00922608  0.02207673\n",
      "   0.0537466   0.01621968]]\n"
     ]
    }
   ],
   "source": [
    "alpha=.009\n",
    "iters=1000\n",
    "lambd=0.7\n",
    "\n",
    "theta = np.matrix(np.random.randn(1,X_train.shape[1]))*0.1 ### initialization by random no.\n",
    "\n",
    "print(theta.shape)\n",
    "\n",
    "minTheta, cost,Big= gradientDescent(X_train, Y_train, theta, alpha, iters,lambd)\n",
    "\n",
    "print(minTheta.shape)\n",
    "print(minTheta)"
   ]
  },
  {
   "cell_type": "markdown",
   "metadata": {},
   "source": []
  },
  {
   "cell_type": "code",
   "execution_count": 174,
   "metadata": {},
   "outputs": [
    {
     "data": {
      "text/plain": [
       "Text(0.5, 1.0, 'Visualisation of change in Cost w.r.t to iterations')"
      ]
     },
     "execution_count": 174,
     "metadata": {},
     "output_type": "execute_result"
    },
    {
     "data": {
      "image/png": "[encoded data removed]",
      "text/plain": [
       "<Figure size 720x432 with 1 Axes>"
      ]
     },
     "metadata": {
      "needs_background": "light"
     },
     "output_type": "display_data"
    }
   ],
   "source": [
    "ig, ax = plt.subplots(figsize=(10,6))\n",
    "ax.plot(np.arange(iters), cost, 'r')\n",
    "ax.set_xlabel('Iterations')\n",
    "ax.set_ylabel('Cost')\n",
    "ax.set_title('Visualisation of change in Cost w.r.t to iterations')    "
   ]
  },
  {
   "cell_type": "markdown",
   "metadata": {},
   "source": []
  },
  {
   "cell_type": "code",
   "execution_count": 175,
   "metadata": {},
   "outputs": [],
   "source": [
    "def prediction_Error(X,Y,finalParameter):\n",
    "    out= np.dot(X,finalParameter.T)\n",
    "    \n",
    "    ###Mean square error\n",
    "    err= np.sum(np.power(out-Y,2))/X.shape[0]\n",
    "    \n",
    "    return err,out\n",
    "    "
   ]
  },
  {
   "cell_type": "code",
   "execution_count": 176,
   "metadata": {},
   "outputs": [],
   "source": [
    "err,output=prediction_Error(X_train,Y_train,minTheta)"
   ]
  },
  {
   "cell_type": "code",
   "execution_count": 177,
   "metadata": {},
   "outputs": [
    {
     "name": "stdout",
     "output_type": "stream",
     "text": [
      "0.003898338140468169\n"
     ]
    }
   ],
   "source": [
    "print(err)"
   ]
  },
  {
   "cell_type": "code",
   "execution_count": 178,
   "metadata": {},
   "outputs": [
    {
     "data": {
      "text/plain": [
       "0.8117877969093074"
      ]
     },
     "execution_count": 178,
     "metadata": {},
     "output_type": "execute_result"
    }
   ],
   "source": [
    "from sklearn.metrics import r2_score\n",
    "r2_score(Y_train, output)"
   ]
  },
  {
   "cell_type": "markdown",
   "metadata": {},
   "source": [
    "#### For different - different choice of Regularisation Parameter"
   ]
  },
  {
   "cell_type": "code",
   "execution_count": 179,
   "metadata": {},
   "outputs": [],
   "source": [
    "choice_lambda=[.001,.03,.09,.3,.9,1.2,1.5,2,2.5]\n",
    "\n",
    "err_train=[]\n",
    "err_test=[]\n",
    "Big_minTheta=np.zeros((len(choice_lambda),theta.shape[1]))\n",
    "count=0\n",
    "alpha=.009\n",
    "iters=1000\n",
    "for l in choice_lambda:\n",
    "    theta = np.matrix(np.random.randn(1,X_train.shape[1]))  ## initialisation of theta\n",
    "    \n",
    "    ##training \n",
    "    minTheta,_,_= gradientDescent(X_train, Y_train, theta, alpha, iters,l)\n",
    "    \n",
    "    Big_minTheta[count]=minTheta\n",
    "    count+=1\n",
    "    \n",
    "    err1,_=prediction_Error(X_train,Y_train,minTheta)\n",
    "    err2,_=prediction_Error(X_test,Y_test,minTheta)\n",
    "\n",
    "    err_train.append(err1)\n",
    "    err_test.append(err2)"
   ]
  },
  {
   "cell_type": "code",
   "execution_count": 95,
   "metadata": {},
   "outputs": [],
   "source": []
  },
  {
   "cell_type": "code",
   "execution_count": 96,
   "metadata": {},
   "outputs": [
    {
     "data": {
      "text/plain": [
       "Text(0.5, 1.0, 'Training Error vs Reg. Parameter')"
      ]
     },
     "execution_count": 96,
     "metadata": {},
     "output_type": "execute_result"
    },
    {
     "data": {
      "image/png": "[encoded data removed]",
      "text/plain": [
       "<Figure size 1152x576 with 1 Axes>"
      ]
     },
     "metadata": {
      "needs_background": "light"
     },
     "output_type": "display_data"
    }
   ],
   "source": [
    "plt.rcParams['figure.figsize'] = [16, 8]\n",
    "plt.scatter(choice_lambda,err_train,label=\"Training Error\")\n",
    "plt.plot(choice_lambda,err_train,'g')\n",
    "plt.scatter(choice_lambda,err_test,label=\"Validation Error\")\n",
    "plt.plot(choice_lambda,err_test,'r')\n",
    "\n",
    "plt.legend()\n",
    "\n",
    "plt.xlabel('Regularisation Parameter')\n",
    "plt.ylabel('Error')\n",
    "plt.title('Training Error vs Reg. Parameter')"
   ]
  },
  {
   "cell_type": "code",
   "execution_count": 97,
   "metadata": {},
   "outputs": [
    {
     "name": "stdout",
     "output_type": "stream",
     "text": [
      "[0.031693210725952305, 0.04318858249160548, 0.03007393139805721, 0.04043075176814746, 0.013111932623203317, 0.024499579147913744, 0.01151990762890765, 0.017561775291290105, 0.06942123290047746]\n",
      "[0.03927125260942397, 0.05730793223568188, 0.03541843148913377, 0.03825508056137461, 0.01610534720343545, 0.02456842406894073, 0.014162668809268345, 0.014718346654230652, 0.0676239704364469]\n"
     ]
    }
   ],
   "source": [
    "print(err_train)\n",
    "print(err_test)"
   ]
  },
  {
   "cell_type": "markdown",
   "metadata": {},
   "source": [
    "**Observations**:\n",
    "\n",
    "<font color=\"purple\" size=\"3\">\n",
    "<ul>\n",
    "    <li>  The value of $\\lambda$ is a hyperparameter that you can tune using a validation set.</li>\n",
    " <li>    If ${\\lambda}$ value is too small then it might leads to the overfit(high variance) which leads to high error on validation dataset and low error on train datasets.</li>\n",
    "<li>If ${\\lambda}$ value is too large then it leads to the underfit(high bias) which leads to high error on validation dataset and high error on train datasets.</li>\n",
    "    </ul>\n",
    "</font\n"
   ]
  },
  {
   "cell_type": "markdown",
   "metadata": {},
   "source": [
    "#### Part3"
   ]
  },
  {
   "cell_type": "markdown",
   "metadata": {},
   "source": [
    "${Regularization \\; Coefficient \\; \\lambda \\; plays \\; a \\; very \\; Important \\; role \\; in \\;deciding \\;between \\;bias \\;and\\; variance.}$"
   ]
  },
  {
   "cell_type": "markdown",
   "metadata": {},
   "source": [
    "1. First calculate the  Training error and Validation Error ,then\n",
    "\n",
    "**if(Training Error is small and Validation Error is large)**\n",
    "\n",
    "<font color=\"blue\" size=\"3\">\n",
    "then it is case of overfitting(high variance) ====> and this can be solve by increasing ${\\lambda}$</font>\n",
    "\n",
    "**if(both the error are very large)**\n",
    "\n",
    "<font color=\"green\" size=\"3\">\n",
    "then it might be underfit(high bias) ====> and this can be solve by decreasing ${\\lambda}$</font>\n",
    "\n",
    "\n",
    "==========================================================================================================<br>\n",
    "**Sitiuation depends on value of ${\\lambda}$**\n",
    "\n",
    "\n",
    "<font size=\"3\">\n",
    "2. If ${\\lambda}$ value is too large then it leads to the underfit(high bias) becuase it penalise the all the weights and weights approches to zero , which leads to linear curve ,hence underfit.</font>\n",
    "\n",
    "<br>\n",
    "<br>\n",
    "<font size=\"3\">\n",
    "3. If ${\\lambda}$ value is too small then it might leads to the overfit(high variance) because free parameters (weights) that the learning algorithm can fit the training data too closely. This increases the generalization error.</font>"
   ]
  },
  {
   "cell_type": "markdown",
   "metadata": {},
   "source": [
    "************************************************************************************************"
   ]
  },
  {
   "cell_type": "markdown",
   "metadata": {},
   "source": [
    "#### Part4"
   ]
  },
  {
   "cell_type": "markdown",
   "metadata": {},
   "source": [
    "#### Affect of L2 regularisation on Weights "
   ]
  },
  {
   "cell_type": "code",
   "execution_count": 99,
   "metadata": {},
   "outputs": [
    {
     "data": {
      "image/png": "[encoded data removed]",
      "text/plain": [
       "<Figure size 720x432 with 1 Axes>"
      ]
     },
     "metadata": {
      "needs_background": "light"
     },
     "output_type": "display_data"
    }
   ],
   "source": [
    "plt.rcParams['figure.figsize'] = [10, 6]\n",
    "l1=Big[:,0]\n",
    "l2=Big[:,1]\n",
    "l3=Big[:,3]\n",
    "l4=Big[:,4]\n",
    "l5=Big[:,5]\n",
    "l6=Big[:,6]\n",
    "l7=Big[:,7]\n",
    "\n",
    "it=range(0,iters)\n",
    "plt.plot(it,list(l1),label=\"Bias\")\n",
    "plt.plot(it,list(l2),label=\"GRE\")\n",
    "plt.plot(it,list(l3),label=\"TOFL\")\n",
    "\n",
    "plt.plot(it,list(l3),label=\"Uni Rating\")\n",
    "plt.plot(it,list(l4),label=\"SOP\")\n",
    "plt.plot(it,list(l5),label=\"LOR\")\n",
    "plt.plot(it,list(l6),label=\"CGPA\")\n",
    "plt.plot(it,list(l7),label=\"Research\")\n",
    "\n",
    "plt.xlabel(\"Iterations\")\n",
    "plt.ylabel(\"Coefficients\")\n",
    "plt.title(\"behaviour of the coefficients\")\n",
    "plt.legend()\n",
    "plt.show()"
   ]
  },
  {
   "cell_type": "markdown",
   "metadata": {},
   "source": [
    "- Notice that for L1 regularization, the gradient is either 1 or -1, except for when ${𝑤1}$=0. That means that L1-regularization will move any weight towards 0 with the same step size, regardless the weight's value.\n",
    "\n",
    "- In contrast, you can see that the L2 gradient is linearly decreasing towards 0 as the weight goes towards 0. Therefore, L2-regularization will also move any weight towards 0, but it will take smaller and smaller steps as a weight approaches 0."
   ]
  },
  {
   "cell_type": "markdown",
   "metadata": {},
   "source": [
    "**Difference between L1 and L2 regularization :**\n",
    "1. L2 regularization is differentiable everywhere but L1 is not differentiable at 0.\n",
    "\n",
    "2. In L1 regularization weights can  tends more to zero as compared to L2 regularization.\n",
    "\n",
    "3.\n",
    "-   With L1 regularization, you penalize the model by a loss function ${L1(w) = \\sum_{i=0}^{N}{ \\left| w \\right| }}$\n",
    "\n",
    "- With L2-regularization, you penalize the model by a loss function ${L2(w) =\\frac{1}{2} \\sum_{i=0}^{N}{(w_i)^2 }}$"
   ]
  },
  {
   "cell_type": "markdown",
   "metadata": {},
   "source": [
    "*******************************************************************************************************"
   ]
  },
  {
   "cell_type": "markdown",
   "metadata": {},
   "source": [
    "### General Observations"
   ]
  },
  {
   "cell_type": "markdown",
   "metadata": {},
   "source": [
    "**Why any type regularization is needed**\n",
    "\n",
    "> <font size=\"3\">Supervised learning algorithms often over-fit training data.\n",
    "Overfitting occurs when there are so many free parameters that the learning algorithm can fit the training data too closely.\n",
    "This increases the generalization error.</font>"
   ]
  },
  {
   "cell_type": "markdown",
   "metadata": {},
   "source": [
    "\n",
    "### What is L2-regularization actually doing?:\n",
    "\n",
    "<font size=\"3\">\n",
    "L2-regularization relies on the assumption that a model with small weights is simpler than a model with large weights. Thus, by penalizing the square values of the weights in the cost function you drive all the weights to smaller values. It becomes too costly for the cost to have large weights! This leads to a smoother model in which the output changes more slowly as the input changes. </font>\n",
    "\n",
    "<br>\n",
    "<br>\n",
    "\n",
    "**What you should remember**-- \n",
    "the implications of L2-regularization on:\n",
    "-  The cost computation:\n",
    "    - A regularization term is added to the cost\n",
    "    \n",
    "   >  ${J(\\theta)}$=${\\frac{1}{2*m}}{\\sum_{i=0}^{m}}$(${\\hat{y_i}-{y_i})^2 +  \\frac{\\lambda}{2m}*\\parallel \\theta \\parallel^2}$ \n",
    "\n",
    "\n",
    "> J: is cost function<br>\n",
    "> m : no. of training examples<br>\n",
    ">${\\theta}$: parameters<br>\n",
    ">${\\lambda}$: Regularization coefficient\n",
    "\n",
    "<br></br>\n",
    "- The backpropagation function:\n",
    "    - There are extra terms in the gradients with respect to weight matrices\n",
    "- Weights end up smaller (\"weight decay\"): \n",
    "    - Weights are pushed to smaller values.\n",
    "\n",
    "\n",
    "<br></br>\n",
    "<br></br>\n",
    "###  What is L1-regularization actually doing?:\n",
    "\n",
    "<font size=\"3\">\n",
    "L1-regularization relies on the assumption that a model with small weights is simpler than a model with large weights. Thus, by penalizing the  values of the weights in the cost function you drive all the weights to smaller values. It becomes too costly for the cost to have large weights! This leads to a smoother model. </font>\n",
    "\n",
    "<br>\n",
    "<br>\n",
    "\n",
    "**What you should remember**-- \n",
    "the implications of L1-regularization on:\n",
    "-  The cost computation:\n",
    "    - A regularization term is added to the cost\n",
    "    \n",
    "\n",
    "> ${J(\\theta)}$=${\\frac{1}{2m}}{\\sum_{i=0}^{m}}$(${\\hat{y_i}-{y_i})^2 +  \\frac{\\lambda}{m}*\\parallel \\theta  \\parallel}$ <br>\n",
    "> J: is cost function<br>\n",
    ">m : no. of training examples<br>\n",
    ">${\\theta}$: parameters<br>\n",
    ">${\\lambda}$: Regularization Coefficient\n",
    "    \n",
    "    \n",
    "- The backpropagation function:\n",
    "    - There are extra terms in the gradients with respect to weight matrices\n",
    "- Weights end up smaller (\"weight decay\"): \n",
    "    - Weights are pushed to smaller values.\n",
    "    \n",
    "    \n"
   ]
  },
  {
   "cell_type": "markdown",
   "metadata": {},
   "source": [
    "**Conclusion**:\n",
    "<font size=\"3\" color=\"g\">\n",
    "    <ul>\n",
    "        <li>\n",
    "        L2 regularization works better in most of the cases than L1 regularization.\n",
    "        </li>\n",
    "        <li>L1 regularization helps perform feature selection in sparse feature spaces, and that is a good practical reason to use L1 in some situations.\n",
    "        </li>\n",
    "    </ul>\n",
    "</font>"
   ]
  },
  {
   "cell_type": "markdown",
   "metadata": {},
   "source": [
    "**Observations**:\n",
    "- The value of $\\lambda$ is a hyperparameter that you can tune using a dev set.\n",
    "- Regularization makes your decision boundary smoother. If $\\lambda$ is too large, it is also possible to \"Underfit\", resulting in a model with high bias.\n"
   ]
  }
 ],
 "metadata": {
  "kernelspec": {
   "display_name": "Python 3",
   "language": "python",
   "name": "python3"
  },
  "language_info": {
   "codemirror_mode": {
    "name": "ipython",
    "version": 3
   },
   "file_extension": ".py",
   "mimetype": "text/x-python",
   "name": "python",
   "nbconvert_exporter": "python",
   "pygments_lexer": "ipython3",
   "version": "3.6.7"
  }
 },
 "nbformat": 4,
 "nbformat_minor": 2
}
