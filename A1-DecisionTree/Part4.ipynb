{
 "cells": [
  {
   "cell_type": "markdown",
   "metadata": {},
   "source": [
    "### Part4: Visualise training data on a 2-dimensional plot by taking suitable features to visualise decision tree boundary."
   ]
  },
  {
   "cell_type": "code",
   "execution_count": 10,
   "metadata": {},
   "outputs": [],
   "source": [
    "import numpy as np\n",
    "import pandas as pd\n",
    "import pprint\n",
    "import matplotlib.pyplot as plt\n",
    "%matplotlib inline"
   ]
  },
  {
   "cell_type": "code",
   "execution_count": 11,
   "metadata": {},
   "outputs": [
    {
     "data": {
      "text/html": [
       "<div>\n",
       "<style scoped>\n",
       "    .dataframe tbody tr th:only-of-type {\n",
       "        vertical-align: middle;\n",
       "    }\n",
       "\n",
       "    .dataframe tbody tr th {\n",
       "        vertical-align: top;\n",
       "    }\n",
       "\n",
       "    .dataframe thead th {\n",
       "        text-align: right;\n",
       "    }\n",
       "</style>\n",
       "<table border=\"1\" class=\"dataframe\">\n",
       "  <thead>\n",
       "    <tr style=\"text-align: right;\">\n",
       "      <th></th>\n",
       "      <th>satisfaction_level</th>\n",
       "      <th>last_evaluation</th>\n",
       "      <th>number_project</th>\n",
       "      <th>average_montly_hours</th>\n",
       "      <th>time_spend_company</th>\n",
       "      <th>Work_accident</th>\n",
       "      <th>left</th>\n",
       "      <th>promotion_last_5years</th>\n",
       "      <th>sales</th>\n",
       "      <th>salary</th>\n",
       "    </tr>\n",
       "  </thead>\n",
       "  <tbody>\n",
       "    <tr>\n",
       "      <th>0</th>\n",
       "      <td>0.10</td>\n",
       "      <td>0.90</td>\n",
       "      <td>7</td>\n",
       "      <td>286</td>\n",
       "      <td>4</td>\n",
       "      <td>0</td>\n",
       "      <td>1</td>\n",
       "      <td>0</td>\n",
       "      <td>sales</td>\n",
       "      <td>low</td>\n",
       "    </tr>\n",
       "    <tr>\n",
       "      <th>1</th>\n",
       "      <td>0.89</td>\n",
       "      <td>0.93</td>\n",
       "      <td>4</td>\n",
       "      <td>249</td>\n",
       "      <td>3</td>\n",
       "      <td>0</td>\n",
       "      <td>0</td>\n",
       "      <td>0</td>\n",
       "      <td>sales</td>\n",
       "      <td>low</td>\n",
       "    </tr>\n",
       "    <tr>\n",
       "      <th>2</th>\n",
       "      <td>0.38</td>\n",
       "      <td>0.50</td>\n",
       "      <td>2</td>\n",
       "      <td>132</td>\n",
       "      <td>3</td>\n",
       "      <td>0</td>\n",
       "      <td>1</td>\n",
       "      <td>0</td>\n",
       "      <td>accounting</td>\n",
       "      <td>low</td>\n",
       "    </tr>\n",
       "    <tr>\n",
       "      <th>3</th>\n",
       "      <td>0.95</td>\n",
       "      <td>0.71</td>\n",
       "      <td>4</td>\n",
       "      <td>151</td>\n",
       "      <td>4</td>\n",
       "      <td>0</td>\n",
       "      <td>0</td>\n",
       "      <td>0</td>\n",
       "      <td>sales</td>\n",
       "      <td>medium</td>\n",
       "    </tr>\n",
       "    <tr>\n",
       "      <th>4</th>\n",
       "      <td>0.84</td>\n",
       "      <td>0.84</td>\n",
       "      <td>5</td>\n",
       "      <td>163</td>\n",
       "      <td>3</td>\n",
       "      <td>0</td>\n",
       "      <td>0</td>\n",
       "      <td>0</td>\n",
       "      <td>technical</td>\n",
       "      <td>low</td>\n",
       "    </tr>\n",
       "  </tbody>\n",
       "</table>\n",
       "</div>"
      ],
      "text/plain": [
       "   satisfaction_level  last_evaluation  number_project  average_montly_hours  \\\n",
       "0                0.10             0.90               7                   286   \n",
       "1                0.89             0.93               4                   249   \n",
       "2                0.38             0.50               2                   132   \n",
       "3                0.95             0.71               4                   151   \n",
       "4                0.84             0.84               5                   163   \n",
       "\n",
       "   time_spend_company  Work_accident  left  promotion_last_5years       sales  \\\n",
       "0                   4              0     1                      0       sales   \n",
       "1                   3              0     0                      0       sales   \n",
       "2                   3              0     1                      0  accounting   \n",
       "3                   4              0     0                      0       sales   \n",
       "4                   3              0     0                      0   technical   \n",
       "\n",
       "   salary  \n",
       "0     low  \n",
       "1     low  \n",
       "2     low  \n",
       "3  medium  \n",
       "4     low  "
      ]
     },
     "execution_count": 11,
     "metadata": {},
     "output_type": "execute_result"
    }
   ],
   "source": [
    "df=pd.read_csv(\"decision_Tree/train.csv\")\n",
    "df.head()"
   ]
  },
  {
   "cell_type": "code",
   "execution_count": 12,
   "metadata": {},
   "outputs": [],
   "source": [
    "split = int(0.8 * df.shape[0])\n",
    "\n",
    "training_data = df[:split] # 80% of the total data\n",
    "testing_data = df[split:]  # 20% of the total data"
   ]
  },
  {
   "cell_type": "code",
   "execution_count": 13,
   "metadata": {},
   "outputs": [],
   "source": [
    "def count_Unique(col):\n",
    "    d={} # empty dictionary\n",
    "    for i in col:\n",
    "        if i not in d:\n",
    "            d[i]=1\n",
    "        else:\n",
    "            d[i]+=1\n",
    "    return d\n",
    "\n",
    "def TotalEntropy(Z):\n",
    "    freq=count_Unique(Z)\n",
    "    ent=0.0\n",
    "    total=len(Z)\n",
    "    for i in freq:\n",
    "        prob=freq[i]/total\n",
    "        ent+=-prob*np.log2(prob)\n",
    "    return ent"
   ]
  },
  {
   "cell_type": "code",
   "execution_count": 14,
   "metadata": {},
   "outputs": [],
   "source": [
    "def entropy_attribute(df,attribute):\n",
    "   \n",
    "    \n",
    "    var=list(set(df[attribute]))\n",
    "    entropy_final=0\n",
    "    for i in var:\n",
    "        val1=len(df[attribute][df[attribute]==i][df.left == 1])\n",
    "        val2=len(df[attribute][df[attribute]==i])\n",
    "        if val1 == 0 or val2 == 0 or val1==val2:\n",
    "            entropy_temp = 0\n",
    "        else:\n",
    "            ent = val1 / (val2)\n",
    "            entropy_temp=-((ent * (np.log2(ent))) + ((1 - ent) * (np.log2(1-ent))))\n",
    "      \n",
    "   \n",
    "        ent2=val2/len(training_data)\n",
    "        entropy_final+=ent2*entropy_temp\n",
    "\n",
    "    return entropy_final"
   ]
  },
  {
   "cell_type": "code",
   "execution_count": 15,
   "metadata": {},
   "outputs": [],
   "source": [
    "def information_gain(df,attribute):\n",
    "    if not attribute:\n",
    "        return 'empty'\n",
    "    \n",
    "    totalEntropy=TotalEntropy(df['left'])\n",
    "    max = 0\n",
    "    select_attr = 0\n",
    "\n",
    "    for i in attribute:\n",
    "        wightedEntropy = entropy_attribute(df,i)\n",
    "        info_gain = totalEntropy - wightedEntropy\n",
    "        if info_gain >= max :\n",
    "                 max = info_gain\n",
    "                 select_attr = i\n",
    "\n",
    "    return select_attr"
   ]
  },
  {
   "cell_type": "markdown",
   "metadata": {},
   "source": [
    "#### Finding the Feature of Maximum informationGain "
   ]
  },
  {
   "cell_type": "code",
   "execution_count": 16,
   "metadata": {},
   "outputs": [
    {
     "data": {
      "text/plain": [
       "'satisfaction_level'"
      ]
     },
     "execution_count": 16,
     "metadata": {},
     "output_type": "execute_result"
    }
   ],
   "source": [
    "featureSets = ['sales','promotion_last_5years','salary',  'Work_accident','last_evaluation','satisfaction_level','number_project','average_montly_hours','time_spend_company']\n",
    "information_gain(training_data,featureSets)"
   ]
  },
  {
   "cell_type": "markdown",
   "metadata": {},
   "source": [
    "#### Finding the Feature of ${2nd}$ Maximum informationGain by removing the highest one from the list "
   ]
  },
  {
   "cell_type": "code",
   "execution_count": 17,
   "metadata": {},
   "outputs": [
    {
     "data": {
      "text/plain": [
       "'number_project'"
      ]
     },
     "execution_count": 17,
     "metadata": {},
     "output_type": "execute_result"
    }
   ],
   "source": [
    "featureSets = ['sales','promotion_last_5years','salary',  'Work_accident','last_evaluation','number_project','average_montly_hours','time_spend_company']\n",
    "information_gain(training_data,featureSets)"
   ]
  },
  {
   "cell_type": "markdown",
   "metadata": {},
   "source": [
    "#### Plotting the Scatter plot and Visualise the Decision Boundry"
   ]
  },
  {
   "cell_type": "code",
   "execution_count": 18,
   "metadata": {},
   "outputs": [
    {
     "data": {
      "image/png": "[encoded data removed]",
      "text/plain": [
       "<Figure size 1080x1008 with 1 Axes>"
      ]
     },
     "metadata": {
      "needs_background": "light"
     },
     "output_type": "display_data"
    }
   ],
   "source": [
    "\n",
    "plt.rcParams['figure.figsize']=(15,14)\n",
    "xyes=list(training_data['number_project'][training_data['left']==1])\n",
    "xno=list(training_data['number_project'][training_data['left']==0])\n",
    "\n",
    "yyes=list(training_data['satisfaction_level'][training_data['left']==1])\n",
    "yno=list(training_data['satisfaction_level'][training_data['left']==0])\n",
    "\n",
    "plt.scatter(xyes,yyes,label=\"Leaving\",color=\"blue\",marker=\"*\")\n",
    "plt.scatter(xno,yno,label=\"Not Leaving\",color=\"green\")\n",
    "\n",
    "\n",
    "plt.legend(loc='upper right');\n",
    "\n",
    "#plt.axhline(.1+.01, color='black')\n",
    "plt.hlines(.1+.01,2,7,color='k',label='Decision Boundry')\n",
    "plt.vlines(7-.02,.1+.01,1-.1,color='k',label='Decision Boundry')\n",
    "\n",
    "plt.xlabel('No of Project')\n",
    "plt.ylabel('Satisfaction Level')\n",
    "plt.title('Visualisation of Decision Boundry')\n",
    "\n",
    "plt.show()\n"
   ]
  },
  {
   "cell_type": "code",
   "execution_count": null,
   "metadata": {},
   "outputs": [],
   "source": []
  },
  {
   "cell_type": "code",
   "execution_count": null,
   "metadata": {},
   "outputs": [],
   "source": []
  }
 ],
 "metadata": {
  "kernelspec": {
   "display_name": "Python 3",
   "language": "python",
   "name": "python3"
  },
  "language_info": {
   "codemirror_mode": {
    "name": "ipython",
    "version": 3
   },
   "file_extension": ".py",
   "mimetype": "text/x-python",
   "name": "python",
   "nbconvert_exporter": "python",
   "pygments_lexer": "ipython3",
   "version": "3.6.7"
  }
 },
 "nbformat": 4,
 "nbformat_minor": 2
}
