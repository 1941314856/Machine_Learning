{
 "cells": [
  {
   "cell_type": "markdown",
   "metadata": {},
   "source": [
    "## Part1:Training and Implementation of Decision Tree only on categorical data."
   ]
  },
  {
   "cell_type": "code",
   "execution_count": 26,
   "metadata": {},
   "outputs": [],
   "source": [
    "import numpy as np\n",
    "import pandas as pd\n",
    "import pprint\n",
    "import matplotlib.pyplot as plt"
   ]
  },
  {
   "cell_type": "markdown",
   "metadata": {},
   "source": [
    "#### Read the dataSet from csv file using pandas library"
   ]
  },
  {
   "cell_type": "code",
   "execution_count": 27,
   "metadata": {},
   "outputs": [],
   "source": [
    "df=pd.read_csv(\"decision_Tree/train.csv\")"
   ]
  },
  {
   "cell_type": "code",
   "execution_count": 28,
   "metadata": {},
   "outputs": [
    {
     "data": {
      "text/html": [
       "<div>\n",
       "<style scoped>\n",
       "    .dataframe tbody tr th:only-of-type {\n",
       "        vertical-align: middle;\n",
       "    }\n",
       "\n",
       "    .dataframe tbody tr th {\n",
       "        vertical-align: top;\n",
       "    }\n",
       "\n",
       "    .dataframe thead th {\n",
       "        text-align: right;\n",
       "    }\n",
       "</style>\n",
       "<table border=\"1\" class=\"dataframe\">\n",
       "  <thead>\n",
       "    <tr style=\"text-align: right;\">\n",
       "      <th></th>\n",
       "      <th>satisfaction_level</th>\n",
       "      <th>last_evaluation</th>\n",
       "      <th>number_project</th>\n",
       "      <th>average_montly_hours</th>\n",
       "      <th>time_spend_company</th>\n",
       "      <th>Work_accident</th>\n",
       "      <th>left</th>\n",
       "      <th>promotion_last_5years</th>\n",
       "      <th>sales</th>\n",
       "      <th>salary</th>\n",
       "    </tr>\n",
       "  </thead>\n",
       "  <tbody>\n",
       "    <tr>\n",
       "      <th>0</th>\n",
       "      <td>0.10</td>\n",
       "      <td>0.90</td>\n",
       "      <td>7</td>\n",
       "      <td>286</td>\n",
       "      <td>4</td>\n",
       "      <td>0</td>\n",
       "      <td>1</td>\n",
       "      <td>0</td>\n",
       "      <td>sales</td>\n",
       "      <td>low</td>\n",
       "    </tr>\n",
       "    <tr>\n",
       "      <th>1</th>\n",
       "      <td>0.89</td>\n",
       "      <td>0.93</td>\n",
       "      <td>4</td>\n",
       "      <td>249</td>\n",
       "      <td>3</td>\n",
       "      <td>0</td>\n",
       "      <td>0</td>\n",
       "      <td>0</td>\n",
       "      <td>sales</td>\n",
       "      <td>low</td>\n",
       "    </tr>\n",
       "    <tr>\n",
       "      <th>2</th>\n",
       "      <td>0.38</td>\n",
       "      <td>0.50</td>\n",
       "      <td>2</td>\n",
       "      <td>132</td>\n",
       "      <td>3</td>\n",
       "      <td>0</td>\n",
       "      <td>1</td>\n",
       "      <td>0</td>\n",
       "      <td>accounting</td>\n",
       "      <td>low</td>\n",
       "    </tr>\n",
       "    <tr>\n",
       "      <th>3</th>\n",
       "      <td>0.95</td>\n",
       "      <td>0.71</td>\n",
       "      <td>4</td>\n",
       "      <td>151</td>\n",
       "      <td>4</td>\n",
       "      <td>0</td>\n",
       "      <td>0</td>\n",
       "      <td>0</td>\n",
       "      <td>sales</td>\n",
       "      <td>medium</td>\n",
       "    </tr>\n",
       "    <tr>\n",
       "      <th>4</th>\n",
       "      <td>0.84</td>\n",
       "      <td>0.84</td>\n",
       "      <td>5</td>\n",
       "      <td>163</td>\n",
       "      <td>3</td>\n",
       "      <td>0</td>\n",
       "      <td>0</td>\n",
       "      <td>0</td>\n",
       "      <td>technical</td>\n",
       "      <td>low</td>\n",
       "    </tr>\n",
       "  </tbody>\n",
       "</table>\n",
       "</div>"
      ],
      "text/plain": [
       "   satisfaction_level  last_evaluation  number_project  average_montly_hours  \\\n",
       "0                0.10             0.90               7                   286   \n",
       "1                0.89             0.93               4                   249   \n",
       "2                0.38             0.50               2                   132   \n",
       "3                0.95             0.71               4                   151   \n",
       "4                0.84             0.84               5                   163   \n",
       "\n",
       "   time_spend_company  Work_accident  left  promotion_last_5years       sales  \\\n",
       "0                   4              0     1                      0       sales   \n",
       "1                   3              0     0                      0       sales   \n",
       "2                   3              0     1                      0  accounting   \n",
       "3                   4              0     0                      0       sales   \n",
       "4                   3              0     0                      0   technical   \n",
       "\n",
       "   salary  \n",
       "0     low  \n",
       "1     low  \n",
       "2     low  \n",
       "3  medium  \n",
       "4     low  "
      ]
     },
     "execution_count": 28,
     "metadata": {},
     "output_type": "execute_result"
    }
   ],
   "source": [
    "df.head()"
   ]
  },
  {
   "cell_type": "markdown",
   "metadata": {},
   "source": [
    "##### Drop the non-categorical columns"
   ]
  },
  {
   "cell_type": "code",
   "execution_count": 29,
   "metadata": {},
   "outputs": [],
   "source": [
    "df=df.drop(['satisfaction_level', 'last_evaluation','number_project','average_montly_hours','time_spend_company'], axis=1)"
   ]
  },
  {
   "cell_type": "markdown",
   "metadata": {},
   "source": [
    "#### See the type of objects and  to check missing values"
   ]
  },
  {
   "cell_type": "code",
   "execution_count": 30,
   "metadata": {},
   "outputs": [
    {
     "name": "stdout",
     "output_type": "stream",
     "text": [
      "<class 'pandas.core.frame.DataFrame'>\n",
      "RangeIndex: 11238 entries, 0 to 11237\n",
      "Data columns (total 5 columns):\n",
      "Work_accident            11238 non-null int64\n",
      "left                     11238 non-null int64\n",
      "promotion_last_5years    11238 non-null int64\n",
      "sales                    11238 non-null object\n",
      "salary                   11238 non-null object\n",
      "dtypes: int64(3), object(2)\n",
      "memory usage: 439.1+ KB\n"
     ]
    }
   ],
   "source": [
    "df.info()"
   ]
  },
  {
   "cell_type": "code",
   "execution_count": 31,
   "metadata": {},
   "outputs": [
    {
     "data": {
      "text/html": [
       "<div>\n",
       "<style scoped>\n",
       "    .dataframe tbody tr th:only-of-type {\n",
       "        vertical-align: middle;\n",
       "    }\n",
       "\n",
       "    .dataframe tbody tr th {\n",
       "        vertical-align: top;\n",
       "    }\n",
       "\n",
       "    .dataframe thead th {\n",
       "        text-align: right;\n",
       "    }\n",
       "</style>\n",
       "<table border=\"1\" class=\"dataframe\">\n",
       "  <thead>\n",
       "    <tr style=\"text-align: right;\">\n",
       "      <th></th>\n",
       "      <th>Work_accident</th>\n",
       "      <th>left</th>\n",
       "      <th>promotion_last_5years</th>\n",
       "      <th>sales</th>\n",
       "      <th>salary</th>\n",
       "    </tr>\n",
       "  </thead>\n",
       "  <tbody>\n",
       "    <tr>\n",
       "      <th>0</th>\n",
       "      <td>0</td>\n",
       "      <td>1</td>\n",
       "      <td>0</td>\n",
       "      <td>sales</td>\n",
       "      <td>low</td>\n",
       "    </tr>\n",
       "    <tr>\n",
       "      <th>1</th>\n",
       "      <td>0</td>\n",
       "      <td>0</td>\n",
       "      <td>0</td>\n",
       "      <td>sales</td>\n",
       "      <td>low</td>\n",
       "    </tr>\n",
       "    <tr>\n",
       "      <th>2</th>\n",
       "      <td>0</td>\n",
       "      <td>1</td>\n",
       "      <td>0</td>\n",
       "      <td>accounting</td>\n",
       "      <td>low</td>\n",
       "    </tr>\n",
       "    <tr>\n",
       "      <th>3</th>\n",
       "      <td>0</td>\n",
       "      <td>0</td>\n",
       "      <td>0</td>\n",
       "      <td>sales</td>\n",
       "      <td>medium</td>\n",
       "    </tr>\n",
       "    <tr>\n",
       "      <th>4</th>\n",
       "      <td>0</td>\n",
       "      <td>0</td>\n",
       "      <td>0</td>\n",
       "      <td>technical</td>\n",
       "      <td>low</td>\n",
       "    </tr>\n",
       "  </tbody>\n",
       "</table>\n",
       "</div>"
      ],
      "text/plain": [
       "   Work_accident  left  promotion_last_5years       sales  salary\n",
       "0              0     1                      0       sales     low\n",
       "1              0     0                      0       sales     low\n",
       "2              0     1                      0  accounting     low\n",
       "3              0     0                      0       sales  medium\n",
       "4              0     0                      0   technical     low"
      ]
     },
     "execution_count": 31,
     "metadata": {},
     "output_type": "execute_result"
    }
   ],
   "source": [
    "df.head()"
   ]
  },
  {
   "cell_type": "code",
   "execution_count": 32,
   "metadata": {},
   "outputs": [
    {
     "data": {
      "text/plain": [
       "(11238, 5)"
      ]
     },
     "execution_count": 32,
     "metadata": {},
     "output_type": "execute_result"
    }
   ],
   "source": [
    "df.shape"
   ]
  },
  {
   "cell_type": "markdown",
   "metadata": {},
   "source": [
    "#### We split the dataset into 2 sets i.e trainingSet which is 80% of total data and testSet which is 20% of the total data.\n",
    "1. This is done to avoid the overfitting of our classifier on datasets.\n",
    "2. Our main objective is to classify the unseen examples better. So we train our classifier first on 80% data and then test with rest 20% data ,do check how well our classifier can work. "
   ]
  },
  {
   "cell_type": "code",
   "execution_count": 33,
   "metadata": {},
   "outputs": [],
   "source": [
    "split = int(0.8 * df.shape[0])\n",
    "\n",
    "training_data = df[:split] # 80% of the total data\n",
    "testing_data = df[split:]  # 20% of the total data"
   ]
  },
  {
   "cell_type": "code",
   "execution_count": 34,
   "metadata": {},
   "outputs": [
    {
     "data": {
      "text/html": [
       "<div>\n",
       "<style scoped>\n",
       "    .dataframe tbody tr th:only-of-type {\n",
       "        vertical-align: middle;\n",
       "    }\n",
       "\n",
       "    .dataframe tbody tr th {\n",
       "        vertical-align: top;\n",
       "    }\n",
       "\n",
       "    .dataframe thead th {\n",
       "        text-align: right;\n",
       "    }\n",
       "</style>\n",
       "<table border=\"1\" class=\"dataframe\">\n",
       "  <thead>\n",
       "    <tr style=\"text-align: right;\">\n",
       "      <th></th>\n",
       "      <th>Work_accident</th>\n",
       "      <th>left</th>\n",
       "      <th>promotion_last_5years</th>\n",
       "      <th>sales</th>\n",
       "      <th>salary</th>\n",
       "    </tr>\n",
       "  </thead>\n",
       "  <tbody>\n",
       "    <tr>\n",
       "      <th>0</th>\n",
       "      <td>0</td>\n",
       "      <td>1</td>\n",
       "      <td>0</td>\n",
       "      <td>sales</td>\n",
       "      <td>low</td>\n",
       "    </tr>\n",
       "    <tr>\n",
       "      <th>1</th>\n",
       "      <td>0</td>\n",
       "      <td>0</td>\n",
       "      <td>0</td>\n",
       "      <td>sales</td>\n",
       "      <td>low</td>\n",
       "    </tr>\n",
       "    <tr>\n",
       "      <th>2</th>\n",
       "      <td>0</td>\n",
       "      <td>1</td>\n",
       "      <td>0</td>\n",
       "      <td>accounting</td>\n",
       "      <td>low</td>\n",
       "    </tr>\n",
       "    <tr>\n",
       "      <th>3</th>\n",
       "      <td>0</td>\n",
       "      <td>0</td>\n",
       "      <td>0</td>\n",
       "      <td>sales</td>\n",
       "      <td>medium</td>\n",
       "    </tr>\n",
       "    <tr>\n",
       "      <th>4</th>\n",
       "      <td>0</td>\n",
       "      <td>0</td>\n",
       "      <td>0</td>\n",
       "      <td>technical</td>\n",
       "      <td>low</td>\n",
       "    </tr>\n",
       "  </tbody>\n",
       "</table>\n",
       "</div>"
      ],
      "text/plain": [
       "   Work_accident  left  promotion_last_5years       sales  salary\n",
       "0              0     1                      0       sales     low\n",
       "1              0     0                      0       sales     low\n",
       "2              0     1                      0  accounting     low\n",
       "3              0     0                      0       sales  medium\n",
       "4              0     0                      0   technical     low"
      ]
     },
     "execution_count": 34,
     "metadata": {},
     "output_type": "execute_result"
    }
   ],
   "source": [
    "training_data.head()"
   ]
  },
  {
   "cell_type": "markdown",
   "metadata": {},
   "source": [
    "Entropy = -${P(yes)\\log_{2}{P(yes)}}$ -P(no)${\\log_{2}{P(no)}}$"
   ]
  },
  {
   "cell_type": "code",
   "execution_count": 35,
   "metadata": {},
   "outputs": [],
   "source": [
    "def count_Unique(col):\n",
    "    d={} # empty dictionary\n",
    "    for i in col:\n",
    "        if i not in d:\n",
    "            d[i]=1\n",
    "        else:\n",
    "            d[i]+=1\n",
    "    return d\n",
    "\n",
    "def TotalEntropy(Z):\n",
    "    freq=count_Unique(Z)\n",
    "    ent=0.0\n",
    "    total=len(Z)\n",
    "    for i in freq:\n",
    "        prob=freq[i]/total\n",
    "        ent+=-prob*np.log2(prob)\n",
    "    return ent\n",
    "    "
   ]
  },
  {
   "cell_type": "markdown",
   "metadata": {},
   "source": [
    "InformationGain = E($S_i$)- ${\\sum_{i=0}^{N}{\\frac{\\left| S_i \\right|}{\\left| S \\right|}   } }$${E(eachFeature)}$"
   ]
  },
  {
   "cell_type": "code",
   "execution_count": 36,
   "metadata": {},
   "outputs": [],
   "source": [
    "def entropy_attribute(df,attribute):\n",
    "    \n",
    "    var=list(set(df[attribute]))\n",
    "    entropy_final=0\n",
    "    for i in var:\n",
    "        val1=len(df[attribute][df[attribute]==i][df.left == 1])\n",
    "        val2=len(df[attribute][df[attribute]==i])\n",
    "        if val1 == 0 or val2 == 0 or val1==val2:\n",
    "            entropy_temp = 0\n",
    "        else:\n",
    "            ent = val1 / (val2)\n",
    "            entropy_temp=-((ent * (np.log2(ent))) + ((1 - ent) * (np.log2(1-ent))))\n",
    "      \n",
    "   \n",
    "        weighted=val2/len(df)\n",
    "        entropy_final+=weighted*entropy_temp\n",
    "\n",
    "    return entropy_final"
   ]
  },
  {
   "cell_type": "markdown",
   "metadata": {},
   "source": [
    "#### It calculates the information gain and returns the feature with max(info_gain)"
   ]
  },
  {
   "cell_type": "code",
   "execution_count": 37,
   "metadata": {},
   "outputs": [],
   "source": [
    "def information_gain(df,attribute):\n",
    "    if not attribute:\n",
    "        return 'empty'\n",
    "    \n",
    "    totalEntropy=TotalEntropy(df['left'])\n",
    "    max = 0\n",
    "    select_attr = 0\n",
    "\n",
    "    for i in attribute:\n",
    "        wightedEntropy = entropy_attribute(df,i)\n",
    "        info_gain = totalEntropy - wightedEntropy\n",
    "        if info_gain >= max :\n",
    "                 max = info_gain\n",
    "                 select_attr = i\n",
    "\n",
    "    return select_attr"
   ]
  },
  {
   "cell_type": "markdown",
   "metadata": {},
   "source": [
    "### Build Decision Tree Function.\n",
    "\n",
    "1. It will take dataframe and list of features as an argument\n",
    "2. Then it will call information_gain function which return max info_gain feature.\n",
    "3. Then it remove that feature from the list and make a node of it.\n",
    "4. then we recursively call the make_tree function untill  list becomes empty or Entropy of particular node is 0.\n",
    "5. If leaf node is not pure , then we no. of 1's and 0's then give answer accordingly\n"
   ]
  },
  {
   "cell_type": "code",
   "execution_count": 38,
   "metadata": {},
   "outputs": [],
   "source": [
    "def make_tree(df, attribute, tree=None):\n",
    "    \n",
    "    node = information_gain(df,attribute)\n",
    "    temp = []# empty list to hold updated features which are left after selecting node\n",
    "    if node is 'empty':\n",
    "        a1 = df['left'][df['left'] == 1].count()\n",
    "        a2 = df['left'][df['left'] == 0].count()\n",
    "        \n",
    "        if a1 > a2:\n",
    "            return 1\n",
    "        else:\n",
    "            return 0\n",
    "        \n",
    "        \n",
    "    for i in attribute:\n",
    "        temp.append(i) \n",
    "    temp.remove(node)\n",
    "    \n",
    "    \n",
    "    collval = np.unique(df[node])\n",
    "   \n",
    "    \n",
    "    if tree is None:\n",
    "        tree = {}\n",
    "        tree[node] = {}\n",
    "        \n",
    "    for value in collval:\n",
    "        sub_tree = df[['salary','left','promotion_last_5years', 'sales','Work_accident']][df[node] == value]\n",
    "        \n",
    "        count = len(df[node][df[node] == value])\n",
    "        val,counts = np.unique(sub_tree['left'],return_counts=True)\n",
    "        \n",
    "\n",
    "        if len(counts)==1:\n",
    "            tree[node][value]= val[0]\n",
    "            \n",
    "        else:\n",
    "            tree[node][value] = make_tree(sub_tree, temp)\n",
    "            \n",
    "    return tree\n"
   ]
  },
  {
   "cell_type": "code",
   "execution_count": 39,
   "metadata": {},
   "outputs": [
    {
     "name": "stdout",
     "output_type": "stream",
     "text": [
      "{'Work_accident': {0: {'salary': {'high': {'sales': {'IT': {'promotion_last_5years': {0: 0}},\n",
      "                                                     'RandD': {'promotion_last_5years': {0: 0}},\n",
      "                                                     'accounting': {'promotion_last_5years': {0: 0,\n",
      "                                                                                              1: 0}},\n",
      "                                                     'hr': {'promotion_last_5years': {0: 0,\n",
      "                                                                                      1: 0}},\n",
      "                                                     'management': {'promotion_last_5years': {0: 0,\n",
      "                                                                                              1: 0}},\n",
      "                                                     'marketing': {'promotion_last_5years': {0: 0}},\n",
      "                                                     'product_mng': {'promotion_last_5years': {0: 0}},\n",
      "                                                     'sales': {'promotion_last_5years': {0: 0,\n",
      "                                                                                         1: 0}},\n",
      "                                                     'support': {'promotion_last_5years': {0: 0}},\n",
      "                                                     'technical': {'promotion_last_5years': {0: 0}}}},\n",
      "                                  'low': {'sales': {'IT': {'promotion_last_5years': {0: 0,\n",
      "                                                                                     1: 1}},\n",
      "                                                    'RandD': {'promotion_last_5years': {0: 0,\n",
      "                                                                                        1: 0}},\n",
      "                                                    'accounting': {'promotion_last_5years': {0: 0,\n",
      "                                                                                             1: 0}},\n",
      "                                                    'hr': {'promotion_last_5years': {0: 0,\n",
      "                                                                                     1: 0}},\n",
      "                                                    'management': {'promotion_last_5years': {0: 0}},\n",
      "                                                    'marketing': {'promotion_last_5years': {0: 0,\n",
      "                                                                                            1: 0}},\n",
      "                                                    'product_mng': {'promotion_last_5years': {0: 0}},\n",
      "                                                    'sales': {'promotion_last_5years': {0: 0,\n",
      "                                                                                        1: 0}},\n",
      "                                                    'support': {'promotion_last_5years': {0: 0,\n",
      "                                                                                          1: 0}},\n",
      "                                                    'technical': {'promotion_last_5years': {0: 0,\n",
      "                                                                                            1: 0}}}},\n",
      "                                  'medium': {'sales': {'IT': {'promotion_last_5years': {0: 0,\n",
      "                                                                                        1: 1}},\n",
      "                                                       'RandD': {'promotion_last_5years': {0: 0,\n",
      "                                                                                           1: 0}},\n",
      "                                                       'accounting': {'promotion_last_5years': {0: 0,\n",
      "                                                                                                1: 0}},\n",
      "                                                       'hr': {'promotion_last_5years': {0: 0,\n",
      "                                                                                        1: 0}},\n",
      "                                                       'management': {'promotion_last_5years': {0: 0,\n",
      "                                                                                                1: 0}},\n",
      "                                                       'marketing': {'promotion_last_5years': {0: 0,\n",
      "                                                                                               1: 0}},\n",
      "                                                       'product_mng': {'promotion_last_5years': {0: 0}},\n",
      "                                                       'sales': {'promotion_last_5years': {0: 0,\n",
      "                                                                                           1: 0}},\n",
      "                                                       'support': {'promotion_last_5years': {0: 0,\n",
      "                                                                                             1: 0}},\n",
      "                                                       'technical': {'promotion_last_5years': {0: 0,\n",
      "                                                                                               1: 0}}}}}},\n",
      "                   1: {'salary': {'high': 0,\n",
      "                                  'low': {'sales': {'IT': {'promotion_last_5years': {0: 0}},\n",
      "                                                    'RandD': {'promotion_last_5years': {0: 0,\n",
      "                                                                                        1: 0}},\n",
      "                                                    'accounting': {'promotion_last_5years': {0: 0}},\n",
      "                                                    'hr': {'promotion_last_5years': {0: 0}},\n",
      "                                                    'management': {'promotion_last_5years': {0: 0,\n",
      "                                                                                             1: 0}},\n",
      "                                                    'marketing': {'promotion_last_5years': {0: 0,\n",
      "                                                                                            1: 0}},\n",
      "                                                    'product_mng': {'promotion_last_5years': {0: 0}},\n",
      "                                                    'sales': {'promotion_last_5years': {0: 0,\n",
      "                                                                                        1: 1}},\n",
      "                                                    'support': {'promotion_last_5years': {0: 0}},\n",
      "                                                    'technical': {'promotion_last_5years': {0: 0,\n",
      "                                                                                            1: 0}}}},\n",
      "                                  'medium': {'sales': {'IT': 0,\n",
      "                                                       'RandD': {'promotion_last_5years': {0: 0,\n",
      "                                                                                           1: 0}},\n",
      "                                                       'accounting': {'promotion_last_5years': {0: 0}},\n",
      "                                                       'hr': {'promotion_last_5years': {0: 0,\n",
      "                                                                                        1: 0}},\n",
      "                                                       'management': {'promotion_last_5years': {0: 0,\n",
      "                                                                                                1: 0}},\n",
      "                                                       'marketing': {'promotion_last_5years': {0: 0,\n",
      "                                                                                               1: 0}},\n",
      "                                                       'product_mng': {'promotion_last_5years': {0: 0}},\n",
      "                                                       'sales': {'promotion_last_5years': {0: 0,\n",
      "                                                                                           1: 0}},\n",
      "                                                       'support': {'promotion_last_5years': {0: 0,\n",
      "                                                                                             1: 0}},\n",
      "                                                       'technical': {'promotion_last_5years': {0: 0,\n",
      "                                                                                               1: 0}}}}}}}}\n"
     ]
    }
   ],
   "source": [
    "featureSets = ['sales','promotion_last_5years','salary',  'Work_accident']#only took feature of categorical values\n",
    "tree = make_tree(training_data, featureSets)\n",
    "\n",
    "pprint.pprint(tree)"
   ]
  },
  {
   "cell_type": "markdown",
   "metadata": {},
   "source": [
    "### Prediction Function "
   ]
  },
  {
   "cell_type": "code",
   "execution_count": 40,
   "metadata": {},
   "outputs": [],
   "source": [
    "def predict(inst,tree):\n",
    "    for nodes in tree.keys():        \n",
    "        value = inst[nodes]\n",
    "        \n",
    "        try:\n",
    "            tree = tree[nodes][value]\n",
    "            prediction = 0\n",
    "        except:\n",
    "            return 1\n",
    "            \n",
    "        if type(tree) is dict:\n",
    "            prediction = predict(inst, tree)\n",
    "        else:\n",
    "            prediction = tree\n",
    "            break;                            \n",
    "        \n",
    "    return prediction"
   ]
  },
  {
   "cell_type": "code",
   "execution_count": 41,
   "metadata": {},
   "outputs": [
    {
     "data": {
      "text/plain": [
       "Work_accident                     0\n",
       "left                              0\n",
       "promotion_last_5years             0\n",
       "sales                    management\n",
       "salary                          low\n",
       "Name: 6, dtype: object"
      ]
     },
     "execution_count": 41,
     "metadata": {},
     "output_type": "execute_result"
    }
   ],
   "source": [
    "inst = training_data.iloc[6]\n",
    "inst"
   ]
  },
  {
   "cell_type": "markdown",
   "metadata": {},
   "source": [
    "#### Testing on 1 example"
   ]
  },
  {
   "cell_type": "code",
   "execution_count": 42,
   "metadata": {},
   "outputs": [
    {
     "data": {
      "text/plain": [
       "Work_accident                     0\n",
       "sales                    management\n",
       "salary                       medium\n",
       "promotion_last_5years             0\n",
       "dtype: object"
      ]
     },
     "execution_count": 42,
     "metadata": {},
     "output_type": "execute_result"
    }
   ],
   "source": [
    "data = {'Work_accident':0, 'sales':'management','salary':'medium','promotion_last_5years':0}\n",
    "inst = pd.Series(data)\n",
    "inst"
   ]
  },
  {
   "cell_type": "code",
   "execution_count": 43,
   "metadata": {},
   "outputs": [
    {
     "data": {
      "text/plain": [
       "0"
      ]
     },
     "execution_count": 43,
     "metadata": {},
     "output_type": "execute_result"
    }
   ],
   "source": [
    "prediction = predict(inst, tree)\n",
    "prediction"
   ]
  },
  {
   "cell_type": "markdown",
   "metadata": {},
   "source": [
    "#### Testing on Test dataSet"
   ]
  },
  {
   "cell_type": "code",
   "execution_count": 44,
   "metadata": {},
   "outputs": [],
   "source": [
    "prediction=[]\n",
    "for i in range(0,len(testing_data)):\n",
    "    inst = testing_data.iloc[i]\n",
    "    pre = predict(inst, tree)\n",
    "    prediction.append(pre)"
   ]
  },
  {
   "cell_type": "markdown",
   "metadata": {},
   "source": [
    "### Accuracy, Precision,Recall and F1Score to measure effectiveness of our Classifier "
   ]
  },
  {
   "cell_type": "code",
   "execution_count": 45,
   "metadata": {},
   "outputs": [],
   "source": [
    "actual_result=testing_data['left'].tolist()\n",
    "Tp=0\n",
    "Tn=0\n",
    "Fp=0\n",
    "Fn=0\n",
    "for i in range(0,len(actual_result)):\n",
    "    if actual_result[i]==prediction[i] and actual_result[i]==1:\n",
    "        Tp+=1\n",
    "    elif actual_result[i]==prediction[i] and actual_result[i]==0:\n",
    "        Tn+=1\n",
    "    elif actual_result[i]==0 and prediction[i]==1:\n",
    "        Fp+=1\n",
    "    else:\n",
    "        Fn+=1\n",
    "\n",
    "accuracy=(Tp+Tn)/len(actual_result)*100\n",
    "precision=Tp/(Tp+Fp)\n",
    "recall=Tp/(Tp+Fn)\n",
    "F1_Score=2*precision*recall/(recall+precision)\n",
    "\n"
   ]
  },
  {
   "cell_type": "code",
   "execution_count": 46,
   "metadata": {},
   "outputs": [
    {
     "name": "stdout",
     "output_type": "stream",
     "text": [
      "75.75622775800713 %\n",
      "0.5\n",
      "0.003669724770642202\n",
      "0.007285974499089253\n"
     ]
    }
   ],
   "source": [
    "print(accuracy,\"%\")\n",
    "print(precision)\n",
    "print(recall)\n",
    "print(F1_Score)"
   ]
  },
  {
   "cell_type": "code",
   "execution_count": null,
   "metadata": {},
   "outputs": [],
   "source": []
  }
 ],
 "metadata": {
  "kernelspec": {
   "display_name": "Python 3",
   "language": "python",
   "name": "python3"
  },
  "language_info": {
   "codemirror_mode": {
    "name": "ipython",
    "version": 3
   },
   "file_extension": ".py",
   "mimetype": "text/x-python",
   "name": "python",
   "nbconvert_exporter": "python",
   "pygments_lexer": "ipython3",
   "version": "3.6.7"
  }
 },
 "nbformat": 4,
 "nbformat_minor": 2
}
