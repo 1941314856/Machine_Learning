{
 "cells": [
  {
   "cell_type": "markdown",
   "metadata": {},
   "source": [
    "### Part5: One vs All Logistic Regression for Multi class classification"
   ]
  },
  {
   "cell_type": "code",
   "execution_count": 16,
   "metadata": {},
   "outputs": [],
   "source": [
    "import numpy as np\n",
    "import pandas as pd\n",
    "import matplotlib.pyplot as plt"
   ]
  },
  {
   "cell_type": "markdown",
   "metadata": {},
   "source": [
    "#### Read the data"
   ]
  },
  {
   "cell_type": "code",
   "execution_count": 17,
   "metadata": {},
   "outputs": [
    {
     "data": {
      "text/html": [
       "<div>\n",
       "<style scoped>\n",
       "    .dataframe tbody tr th:only-of-type {\n",
       "        vertical-align: middle;\n",
       "    }\n",
       "\n",
       "    .dataframe tbody tr th {\n",
       "        vertical-align: top;\n",
       "    }\n",
       "\n",
       "    .dataframe thead th {\n",
       "        text-align: right;\n",
       "    }\n",
       "</style>\n",
       "<table border=\"1\" class=\"dataframe\">\n",
       "  <thead>\n",
       "    <tr style=\"text-align: right;\">\n",
       "      <th></th>\n",
       "      <th>fixed acidity</th>\n",
       "      <th>volatile acidity</th>\n",
       "      <th>citric acid</th>\n",
       "      <th>residual sugar</th>\n",
       "      <th>chlorides</th>\n",
       "      <th>free sulfur dioxide</th>\n",
       "      <th>total sulfur dioxide</th>\n",
       "      <th>density</th>\n",
       "      <th>pH</th>\n",
       "      <th>sulphates</th>\n",
       "      <th>alcohol</th>\n",
       "      <th>quality</th>\n",
       "    </tr>\n",
       "  </thead>\n",
       "  <tbody>\n",
       "    <tr>\n",
       "      <th>0</th>\n",
       "      <td>9.2</td>\n",
       "      <td>0.25</td>\n",
       "      <td>0.34</td>\n",
       "      <td>1.20</td>\n",
       "      <td>0.026</td>\n",
       "      <td>31.0</td>\n",
       "      <td>93.0</td>\n",
       "      <td>0.99160</td>\n",
       "      <td>2.93</td>\n",
       "      <td>0.37</td>\n",
       "      <td>11.3</td>\n",
       "      <td>7</td>\n",
       "    </tr>\n",
       "    <tr>\n",
       "      <th>1</th>\n",
       "      <td>6.6</td>\n",
       "      <td>0.20</td>\n",
       "      <td>0.27</td>\n",
       "      <td>10.90</td>\n",
       "      <td>0.038</td>\n",
       "      <td>29.0</td>\n",
       "      <td>130.0</td>\n",
       "      <td>0.99496</td>\n",
       "      <td>3.11</td>\n",
       "      <td>0.44</td>\n",
       "      <td>10.5</td>\n",
       "      <td>7</td>\n",
       "    </tr>\n",
       "    <tr>\n",
       "      <th>2</th>\n",
       "      <td>5.7</td>\n",
       "      <td>0.22</td>\n",
       "      <td>0.22</td>\n",
       "      <td>16.65</td>\n",
       "      <td>0.044</td>\n",
       "      <td>39.0</td>\n",
       "      <td>110.0</td>\n",
       "      <td>0.99855</td>\n",
       "      <td>3.24</td>\n",
       "      <td>0.48</td>\n",
       "      <td>9.0</td>\n",
       "      <td>6</td>\n",
       "    </tr>\n",
       "    <tr>\n",
       "      <th>3</th>\n",
       "      <td>7.2</td>\n",
       "      <td>0.23</td>\n",
       "      <td>0.39</td>\n",
       "      <td>14.20</td>\n",
       "      <td>0.058</td>\n",
       "      <td>49.0</td>\n",
       "      <td>192.0</td>\n",
       "      <td>0.99790</td>\n",
       "      <td>2.98</td>\n",
       "      <td>0.48</td>\n",
       "      <td>9.0</td>\n",
       "      <td>7</td>\n",
       "    </tr>\n",
       "    <tr>\n",
       "      <th>4</th>\n",
       "      <td>7.6</td>\n",
       "      <td>0.35</td>\n",
       "      <td>0.47</td>\n",
       "      <td>13.30</td>\n",
       "      <td>0.037</td>\n",
       "      <td>42.0</td>\n",
       "      <td>116.0</td>\n",
       "      <td>0.99822</td>\n",
       "      <td>3.04</td>\n",
       "      <td>0.50</td>\n",
       "      <td>9.2</td>\n",
       "      <td>5</td>\n",
       "    </tr>\n",
       "  </tbody>\n",
       "</table>\n",
       "</div>"
      ],
      "text/plain": [
       "   fixed acidity  volatile acidity  citric acid  residual sugar  chlorides  \\\n",
       "0            9.2              0.25         0.34            1.20      0.026   \n",
       "1            6.6              0.20         0.27           10.90      0.038   \n",
       "2            5.7              0.22         0.22           16.65      0.044   \n",
       "3            7.2              0.23         0.39           14.20      0.058   \n",
       "4            7.6              0.35         0.47           13.30      0.037   \n",
       "\n",
       "   free sulfur dioxide  total sulfur dioxide  density    pH  sulphates  \\\n",
       "0                 31.0                  93.0  0.99160  2.93       0.37   \n",
       "1                 29.0                 130.0  0.99496  3.11       0.44   \n",
       "2                 39.0                 110.0  0.99855  3.24       0.48   \n",
       "3                 49.0                 192.0  0.99790  2.98       0.48   \n",
       "4                 42.0                 116.0  0.99822  3.04       0.50   \n",
       "\n",
       "   alcohol  quality  \n",
       "0     11.3        7  \n",
       "1     10.5        7  \n",
       "2      9.0        6  \n",
       "3      9.0        7  \n",
       "4      9.2        5  "
      ]
     },
     "execution_count": 17,
     "metadata": {},
     "output_type": "execute_result"
    }
   ],
   "source": [
    "df=pd.read_csv(\"wine-quality/data.csv\",delimiter=\";\")\n",
    "df.head()"
   ]
  },
  {
   "cell_type": "code",
   "execution_count": 18,
   "metadata": {},
   "outputs": [],
   "source": [
    "split = int(0.8 * df.shape[0])\n",
    "training_data = df[:split] # 80% of the total data\n",
    "testing_data = df[split:]  # 20% of the total data"
   ]
  },
  {
   "cell_type": "markdown",
   "metadata": {},
   "source": [
    "### Feature Normalisation\n",
    "${x_i}$= $\\frac{x_i - \\mu}{\\sigma}$ \n",
    "\n",
    "Feature Normalisation is done because data in some columns is very small in comparison to other columns data."
   ]
  },
  {
   "cell_type": "code",
   "execution_count": 19,
   "metadata": {},
   "outputs": [
    {
     "name": "stdout",
     "output_type": "stream",
     "text": [
      "(3526, 12)\n",
      "(3526, 1)\n"
     ]
    },
    {
     "data": {
      "text/html": [
       "<div>\n",
       "<style scoped>\n",
       "    .dataframe tbody tr th:only-of-type {\n",
       "        vertical-align: middle;\n",
       "    }\n",
       "\n",
       "    .dataframe tbody tr th {\n",
       "        vertical-align: top;\n",
       "    }\n",
       "\n",
       "    .dataframe thead th {\n",
       "        text-align: right;\n",
       "    }\n",
       "</style>\n",
       "<table border=\"1\" class=\"dataframe\">\n",
       "  <thead>\n",
       "    <tr style=\"text-align: right;\">\n",
       "      <th></th>\n",
       "      <th>Ones</th>\n",
       "      <th>fixed acidity</th>\n",
       "      <th>volatile acidity</th>\n",
       "      <th>citric acid</th>\n",
       "      <th>residual sugar</th>\n",
       "      <th>chlorides</th>\n",
       "      <th>free sulfur dioxide</th>\n",
       "      <th>total sulfur dioxide</th>\n",
       "      <th>density</th>\n",
       "      <th>pH</th>\n",
       "      <th>sulphates</th>\n",
       "      <th>alcohol</th>\n",
       "    </tr>\n",
       "  </thead>\n",
       "  <tbody>\n",
       "    <tr>\n",
       "      <th>0</th>\n",
       "      <td>1</td>\n",
       "      <td>2.777966</td>\n",
       "      <td>-0.277666</td>\n",
       "      <td>0.045565</td>\n",
       "      <td>-1.041980</td>\n",
       "      <td>-0.887299</td>\n",
       "      <td>-0.257466</td>\n",
       "      <td>-1.090609</td>\n",
       "      <td>-0.840062</td>\n",
       "      <td>-1.706637</td>\n",
       "      <td>-1.037796</td>\n",
       "      <td>0.658073</td>\n",
       "    </tr>\n",
       "    <tr>\n",
       "      <th>1</th>\n",
       "      <td>1</td>\n",
       "      <td>-0.315107</td>\n",
       "      <td>-0.770221</td>\n",
       "      <td>-0.528229</td>\n",
       "      <td>0.899437</td>\n",
       "      <td>-0.354345</td>\n",
       "      <td>-0.375658</td>\n",
       "      <td>-0.206833</td>\n",
       "      <td>0.315732</td>\n",
       "      <td>-0.508057</td>\n",
       "      <td>-0.426652</td>\n",
       "      <td>0.002584</td>\n",
       "    </tr>\n",
       "    <tr>\n",
       "      <th>2</th>\n",
       "      <td>1</td>\n",
       "      <td>-1.385786</td>\n",
       "      <td>-0.573199</td>\n",
       "      <td>-0.938081</td>\n",
       "      <td>2.050276</td>\n",
       "      <td>-0.087868</td>\n",
       "      <td>0.215298</td>\n",
       "      <td>-0.684550</td>\n",
       "      <td>1.550642</td>\n",
       "      <td>0.357583</td>\n",
       "      <td>-0.077427</td>\n",
       "      <td>-1.226457</td>\n",
       "    </tr>\n",
       "    <tr>\n",
       "      <th>3</th>\n",
       "      <td>1</td>\n",
       "      <td>0.398679</td>\n",
       "      <td>-0.474688</td>\n",
       "      <td>0.455418</td>\n",
       "      <td>1.559919</td>\n",
       "      <td>0.533911</td>\n",
       "      <td>0.806254</td>\n",
       "      <td>1.274088</td>\n",
       "      <td>1.327051</td>\n",
       "      <td>-1.373698</td>\n",
       "      <td>-0.077427</td>\n",
       "      <td>-1.226457</td>\n",
       "    </tr>\n",
       "    <tr>\n",
       "      <th>4</th>\n",
       "      <td>1</td>\n",
       "      <td>0.874537</td>\n",
       "      <td>0.707444</td>\n",
       "      <td>1.111182</td>\n",
       "      <td>1.379787</td>\n",
       "      <td>-0.398758</td>\n",
       "      <td>0.392585</td>\n",
       "      <td>-0.541235</td>\n",
       "      <td>1.437126</td>\n",
       "      <td>-0.974172</td>\n",
       "      <td>0.097186</td>\n",
       "      <td>-1.062585</td>\n",
       "    </tr>\n",
       "  </tbody>\n",
       "</table>\n",
       "</div>"
      ],
      "text/plain": [
       "   Ones  fixed acidity  volatile acidity  citric acid  residual sugar  \\\n",
       "0     1       2.777966         -0.277666     0.045565       -1.041980   \n",
       "1     1      -0.315107         -0.770221    -0.528229        0.899437   \n",
       "2     1      -1.385786         -0.573199    -0.938081        2.050276   \n",
       "3     1       0.398679         -0.474688     0.455418        1.559919   \n",
       "4     1       0.874537          0.707444     1.111182        1.379787   \n",
       "\n",
       "   chlorides  free sulfur dioxide  total sulfur dioxide   density        pH  \\\n",
       "0  -0.887299            -0.257466             -1.090609 -0.840062 -1.706637   \n",
       "1  -0.354345            -0.375658             -0.206833  0.315732 -0.508057   \n",
       "2  -0.087868             0.215298             -0.684550  1.550642  0.357583   \n",
       "3   0.533911             0.806254              1.274088  1.327051 -1.373698   \n",
       "4  -0.398758             0.392585             -0.541235  1.437126 -0.974172   \n",
       "\n",
       "   sulphates   alcohol  \n",
       "0  -1.037796  0.658073  \n",
       "1  -0.426652  0.002584  \n",
       "2  -0.077427 -1.226457  \n",
       "3  -0.077427 -1.226457  \n",
       "4   0.097186 -1.062585  "
      ]
     },
     "execution_count": 19,
     "metadata": {},
     "output_type": "execute_result"
    }
   ],
   "source": [
    "columns=training_data.shape[1]\n",
    "X_train=training_data.iloc[:,0:columns-1]# features Sets\n",
    "\n",
    "mu=X_train.mean()\n",
    "sigma=X_train.std()\n",
    "\n",
    "# features normalisation\n",
    "X_train=(X_train-X_train.mean())/X_train.std()\n",
    "\n",
    "Y_train=training_data.iloc[:,columns-1:columns] # outputSet\n",
    "X_train.insert(0, 'Ones', 1)\n",
    "print(X_train.shape)\n",
    "print(Y_train.shape)\n",
    "X_train.head()"
   ]
  },
  {
   "cell_type": "code",
   "execution_count": 20,
   "metadata": {},
   "outputs": [],
   "source": [
    "X_train = np.matrix(X_train.values)\n",
    "Y_train = np.matrix(Y_train.values)"
   ]
  },
  {
   "cell_type": "markdown",
   "metadata": {},
   "source": [
    "#### Sigmoid Function \n",
    "${g(z)}$=${(1+e^{-z})^{-1} }$"
   ]
  },
  {
   "cell_type": "code",
   "execution_count": 21,
   "metadata": {},
   "outputs": [],
   "source": [
    "def sigmoid(z):\n",
    "    g=0.0\n",
    "    g=1+np.exp(-z)\n",
    "    return np.power(g,-1)"
   ]
  },
  {
   "cell_type": "markdown",
   "metadata": {},
   "source": [
    "#### CostFunction\n",
    "${J(\\theta)} =-{\\frac{1}{m}}{\\sum_{i=0}^{m}}[{y_i}{log\\hat{y_i}}+(1-{y_i}){log(1-\\hat{y_i}})]$"
   ]
  },
  {
   "cell_type": "code",
   "execution_count": 22,
   "metadata": {},
   "outputs": [],
   "source": [
    "def CostFunction(X,y,theta):\n",
    "    prediction1= np.log(sigmoid(X*theta.T))\n",
    "    prediction2= np.log(1-sigmoid(X*theta.T))\n",
    "    prediction1=np.multiply(y,prediction1)\n",
    "    prediction2=np.multiply((1-y),prediction2)\n",
    "    return -(sum(prediction1+prediction2))/len(X)"
   ]
  },
  {
   "cell_type": "markdown",
   "metadata": {},
   "source": [
    "#### Gradient Descent algo\n",
    "repeat Untill Converges{\n",
    "\n",
    "\n",
    "${{\\theta_j} :=}{{\\theta_j}}$-${\\alpha}$*${\\frac{\\partial}{\\partial {\\theta_j}} J(\\theta)}$\n",
    "\n",
    "\n",
    "}\n",
    "\n",
    "${\\alpha}$: Learning rate constant"
   ]
  },
  {
   "cell_type": "code",
   "execution_count": 23,
   "metadata": {},
   "outputs": [],
   "source": [
    "def gradientDescent(X, y, theta, alpha, iters):\n",
    "    \n",
    "    Jhistory=np.zeros(iters)\n",
    "    \n",
    "    m=len(X)\n",
    "    for i in range(iters):\n",
    "        pre = (X*theta.T)-y\n",
    "        #print(pre.shape)\n",
    "        delta=np.dot(np.transpose(pre),X)\n",
    "        \n",
    "        theta=theta-(alpha/m)*delta\n",
    "\n",
    "        \n",
    "        Jhistory[i] = CostFunction(X, y, theta)\n",
    "        \n",
    "    return theta,Jhistory"
   ]
  },
  {
   "cell_type": "code",
   "execution_count": 24,
   "metadata": {},
   "outputs": [],
   "source": [
    "noofClasses=11 #given from 0 to 10"
   ]
  },
  {
   "cell_type": "markdown",
   "metadata": {},
   "source": [
    "##### Inputs:\n",
    "\n",
    "1. L, a learner (training algorithm for binary classifiers)\n",
    "2. samples X\n",
    "3. labels y where ${y_i \\in} {1, … K}$ is the label for the sample ${X_i}$\n",
    "\n",
    "**Output**:\n",
    "1. a list of classifiers ${f_k}$ for k ∈ {1, …, K}\n",
    "\n",
    "**Procedure**:\n",
    "1. For each k in {1, …, K}\n",
    "2. Construct a new label vector z where ${{z_i} = {y_i}}$ if ${{y_i} = k and  {z_i} = 0}$ otherwise\n",
    "3. Apply L to X, z to obtain fk\n",
    "4. Making decisions means applying all classifiers to an unseen sample x and predicting the label k for which the corresponding classifier reports the highest Probability:\n",
    "\n",
    "${\\displaystyle {\\hat {y}}={\\underset {k\\in \\{1\\ldots K\\}}{\\arg \\!\\max }}\\;\n",
    "f_{k}(x)} $"
   ]
  },
  {
   "cell_type": "code",
   "execution_count": 25,
   "metadata": {},
   "outputs": [],
   "source": [
    "alpha=.009\n",
    "iters=1000\n",
    "theta = np.matrix(np.array([0,0,0,0,0,0,0,0,0,0,0,0]))\n",
    "finalTheta=np.zeros((noofClasses,X_train.shape[1]))\n",
    "for q in range(0,11):\n",
    "    Y=(Y_train==q)\n",
    "    Y=1*Y\n",
    "    minTheta, cost2= gradientDescent(X_train, Y, theta, alpha, iters)\n",
    "    finalTheta[q]=minTheta\n",
    "#print(finalTheta)"
   ]
  },
  {
   "cell_type": "code",
   "execution_count": 26,
   "metadata": {},
   "outputs": [
    {
     "name": "stdout",
     "output_type": "stream",
     "text": [
      "(11, 12)\n"
     ]
    }
   ],
   "source": [
    "print(finalTheta.shape)"
   ]
  },
  {
   "cell_type": "markdown",
   "metadata": {},
   "source": [
    "#### Prepare the test data"
   ]
  },
  {
   "cell_type": "code",
   "execution_count": 27,
   "metadata": {},
   "outputs": [
    {
     "name": "stdout",
     "output_type": "stream",
     "text": [
      "(882, 12)\n"
     ]
    },
    {
     "data": {
      "text/html": [
       "<div>\n",
       "<style scoped>\n",
       "    .dataframe tbody tr th:only-of-type {\n",
       "        vertical-align: middle;\n",
       "    }\n",
       "\n",
       "    .dataframe tbody tr th {\n",
       "        vertical-align: top;\n",
       "    }\n",
       "\n",
       "    .dataframe thead th {\n",
       "        text-align: right;\n",
       "    }\n",
       "</style>\n",
       "<table border=\"1\" class=\"dataframe\">\n",
       "  <thead>\n",
       "    <tr style=\"text-align: right;\">\n",
       "      <th></th>\n",
       "      <th>Ones</th>\n",
       "      <th>fixed acidity</th>\n",
       "      <th>volatile acidity</th>\n",
       "      <th>citric acid</th>\n",
       "      <th>residual sugar</th>\n",
       "      <th>chlorides</th>\n",
       "      <th>free sulfur dioxide</th>\n",
       "      <th>total sulfur dioxide</th>\n",
       "      <th>density</th>\n",
       "      <th>pH</th>\n",
       "      <th>sulphates</th>\n",
       "      <th>alcohol</th>\n",
       "    </tr>\n",
       "  </thead>\n",
       "  <tbody>\n",
       "    <tr>\n",
       "      <th>3526</th>\n",
       "      <td>1</td>\n",
       "      <td>-0.553036</td>\n",
       "      <td>1.495531</td>\n",
       "      <td>-0.118376</td>\n",
       "      <td>-1.001951</td>\n",
       "      <td>0.089783</td>\n",
       "      <td>-1.498474</td>\n",
       "      <td>-1.711641</td>\n",
       "      <td>-0.702467</td>\n",
       "      <td>-0.707821</td>\n",
       "      <td>-0.688571</td>\n",
       "      <td>0.740009</td>\n",
       "    </tr>\n",
       "    <tr>\n",
       "      <th>3527</th>\n",
       "      <td>1</td>\n",
       "      <td>-0.672000</td>\n",
       "      <td>-1.065754</td>\n",
       "      <td>-0.118376</td>\n",
       "      <td>-1.082009</td>\n",
       "      <td>-0.265520</td>\n",
       "      <td>0.215298</td>\n",
       "      <td>-0.493463</td>\n",
       "      <td>-1.782583</td>\n",
       "      <td>0.823698</td>\n",
       "      <td>-0.775877</td>\n",
       "      <td>2.132922</td>\n",
       "    </tr>\n",
       "    <tr>\n",
       "      <th>3528</th>\n",
       "      <td>1</td>\n",
       "      <td>-0.790965</td>\n",
       "      <td>0.707444</td>\n",
       "      <td>-0.692170</td>\n",
       "      <td>2.400532</td>\n",
       "      <td>0.223021</td>\n",
       "      <td>-0.434753</td>\n",
       "      <td>1.035230</td>\n",
       "      <td>1.863669</td>\n",
       "      <td>-0.374882</td>\n",
       "      <td>1.144861</td>\n",
       "      <td>-0.980649</td>\n",
       "    </tr>\n",
       "    <tr>\n",
       "      <th>3529</th>\n",
       "      <td>1</td>\n",
       "      <td>-1.385786</td>\n",
       "      <td>-0.277666</td>\n",
       "      <td>-0.610199</td>\n",
       "      <td>1.219670</td>\n",
       "      <td>0.134196</td>\n",
       "      <td>1.013089</td>\n",
       "      <td>-0.445692</td>\n",
       "      <td>0.986504</td>\n",
       "      <td>-0.707821</td>\n",
       "      <td>-0.339345</td>\n",
       "      <td>-0.898713</td>\n",
       "    </tr>\n",
       "    <tr>\n",
       "      <th>3530</th>\n",
       "      <td>1</td>\n",
       "      <td>-0.315107</td>\n",
       "      <td>-0.277666</td>\n",
       "      <td>-0.200347</td>\n",
       "      <td>1.199656</td>\n",
       "      <td>0.578324</td>\n",
       "      <td>0.983541</td>\n",
       "      <td>1.011344</td>\n",
       "      <td>1.499044</td>\n",
       "      <td>2.155453</td>\n",
       "      <td>-0.164733</td>\n",
       "      <td>-0.570969</td>\n",
       "    </tr>\n",
       "  </tbody>\n",
       "</table>\n",
       "</div>"
      ],
      "text/plain": [
       "      Ones  fixed acidity  volatile acidity  citric acid  residual sugar  \\\n",
       "3526     1      -0.553036          1.495531    -0.118376       -1.001951   \n",
       "3527     1      -0.672000         -1.065754    -0.118376       -1.082009   \n",
       "3528     1      -0.790965          0.707444    -0.692170        2.400532   \n",
       "3529     1      -1.385786         -0.277666    -0.610199        1.219670   \n",
       "3530     1      -0.315107         -0.277666    -0.200347        1.199656   \n",
       "\n",
       "      chlorides  free sulfur dioxide  total sulfur dioxide   density  \\\n",
       "3526   0.089783            -1.498474             -1.711641 -0.702467   \n",
       "3527  -0.265520             0.215298             -0.493463 -1.782583   \n",
       "3528   0.223021            -0.434753              1.035230  1.863669   \n",
       "3529   0.134196             1.013089             -0.445692  0.986504   \n",
       "3530   0.578324             0.983541              1.011344  1.499044   \n",
       "\n",
       "            pH  sulphates   alcohol  \n",
       "3526 -0.707821  -0.688571  0.740009  \n",
       "3527  0.823698  -0.775877  2.132922  \n",
       "3528 -0.374882   1.144861 -0.980649  \n",
       "3529 -0.707821  -0.339345 -0.898713  \n",
       "3530  2.155453  -0.164733 -0.570969  "
      ]
     },
     "execution_count": 27,
     "metadata": {},
     "output_type": "execute_result"
    }
   ],
   "source": [
    "columns=testing_data.shape[1]\n",
    "X_test=testing_data.iloc[:,0:columns-1]# features Sets\n",
    "Y_test=testing_data.iloc[:,columns-1:columns] # outputSet\n",
    "\n",
    "#feature normalisation\n",
    "X_test=(X_test-mu)/sigma\n",
    "X_test.insert(0, 'Ones', 1)\n",
    "\n",
    "print(X_test.shape)\n",
    "X_test.head()"
   ]
  },
  {
   "cell_type": "code",
   "execution_count": 28,
   "metadata": {},
   "outputs": [],
   "source": [
    "def prediction(test_data):\n",
    "    z= np.dot(test_data,finalTheta.T)\n",
    "    z=sigmoid(z)\n",
    "    return z"
   ]
  },
  {
   "cell_type": "code",
   "execution_count": 29,
   "metadata": {},
   "outputs": [
    {
     "name": "stdout",
     "output_type": "stream",
     "text": [
      "(882, 1)\n"
     ]
    }
   ],
   "source": [
    "holder=np.zeros((X_test.shape[0],11))\n",
    "\n",
    "X_test=np.matrix(X_test)\n",
    "holder=prediction(X_test)\n",
    "\n",
    "output=np.argmax(holder,axis=1)\n",
    "print(output.shape)"
   ]
  },
  {
   "cell_type": "code",
   "execution_count": 30,
   "metadata": {},
   "outputs": [
    {
     "name": "stdout",
     "output_type": "stream",
     "text": [
      "(882, 1)\n",
      "(882, 1)\n"
     ]
    }
   ],
   "source": [
    "output=np.matrix(output)\n",
    "print(Y_test.shape)\n",
    "print(output.shape)"
   ]
  },
  {
   "cell_type": "code",
   "execution_count": 31,
   "metadata": {},
   "outputs": [
    {
     "data": {
      "text/plain": [
       "53.06122448979592"
      ]
     },
     "execution_count": 31,
     "metadata": {},
     "output_type": "execute_result"
    }
   ],
   "source": [
    "accuracy =np.count_nonzero(Y_test==output)/len(Y_test)*100\n",
    "accuracy"
   ]
  },
  {
   "cell_type": "markdown",
   "metadata": {},
   "source": [
    "#### one vs one Logistic Regression for Multi class classification"
   ]
  },
  {
   "cell_type": "markdown",
   "metadata": {},
   "source": [
    "> In one vs one you have to train a separate classifier for each different pair of labels. This leads to ${\\frac{N*(N-1)}{2}}$ classifiers.This is much more computationally expensive.\n",
    "\n"
   ]
  },
  {
   "cell_type": "code",
   "execution_count": 32,
   "metadata": {},
   "outputs": [],
   "source": [
    "#Y_newtrain=Y_train*1000"
   ]
  },
  {
   "cell_type": "code",
   "execution_count": 33,
   "metadata": {},
   "outputs": [
    {
     "name": "stdout",
     "output_type": "stream",
     "text": [
      "(3526, 13)\n"
     ]
    }
   ],
   "source": [
    "datasets=np.hstack((X_train,Y_train))\n",
    "print(datasets.shape)"
   ]
  },
  {
   "cell_type": "code",
   "execution_count": 34,
   "metadata": {},
   "outputs": [],
   "source": [
    "classes=[3,4,5,6,7,8,9]"
   ]
  },
  {
   "cell_type": "code",
   "execution_count": 35,
   "metadata": {},
   "outputs": [],
   "source": [
    "N=len(classes)\n",
    "loop=int(N*(N-1)/2)\n"
   ]
  },
  {
   "cell_type": "code",
   "execution_count": 36,
   "metadata": {},
   "outputs": [],
   "source": [
    "def learn_OneVsOne(X_one):\n",
    "    theta = np.matrix(np.array([0,0,0,0,0,0,0,0,0,0,0,0]))\n",
    "    one_Vs_oneTheta=np.zeros((loop,X_train.shape[1]))\n",
    "    print(one_Vs_oneTheta.shape)\n",
    "    count=0\n",
    "    for i in range(3,10):\n",
    "        j = i+1\n",
    "        while j <10:\n",
    "            a=X_one[np.where(X_one==i)[0],:]\n",
    "            b=X_one[np.where(X_one==j)[0],:]\n",
    "            c=np.vstack((a,b))\n",
    "            Q=c[:,:c.shape[1]-1]\n",
    "            Y=c[:,c.shape[1]-1:]\n",
    "            Y=(Y==i)\n",
    "            Y=1*Y\n",
    "            minTheta, cost2= gradientDescent(Q,Y, theta, alpha, iters)\n",
    "            one_Vs_oneTheta[count]=minTheta\n",
    "            j+=1\n",
    "            count+=1\n",
    "    \n",
    "    return one_Vs_oneTheta"
   ]
  },
  {
   "cell_type": "code",
   "execution_count": 37,
   "metadata": {},
   "outputs": [
    {
     "name": "stdout",
     "output_type": "stream",
     "text": [
      "(21, 12)\n"
     ]
    },
    {
     "data": {
      "text/plain": [
       "(21, 12)"
      ]
     },
     "execution_count": 37,
     "metadata": {},
     "output_type": "execute_result"
    }
   ],
   "source": [
    "one_Vs_oneTheta=learn_OneVsOne(datasets)\n",
    "one_Vs_oneTheta.shape"
   ]
  },
  {
   "cell_type": "code",
   "execution_count": 40,
   "metadata": {},
   "outputs": [
    {
     "data": {
      "text/plain": [
       "array([[ 1.61595210e-01,  4.28066480e-02, -2.25177092e-02,\n",
       "        -1.32418032e-02,  3.17869108e-02,  3.56121650e-02,\n",
       "         8.42964491e-02, -3.26182380e-02,  7.60297501e-03,\n",
       "         1.16431575e-02, -2.05174121e-02,  5.01598562e-02],\n",
       "       [ 1.77904976e-02,  1.93191671e-02,  4.87185258e-03,\n",
       "        -4.56551405e-03, -3.38292690e-03,  3.83138780e-03,\n",
       "         2.76225814e-02, -9.60905541e-03, -1.68732242e-03,\n",
       "         4.50887253e-03,  5.65955682e-04,  9.51495436e-03],\n",
       "       [ 1.07802402e-02,  1.20907518e-02,  9.64737161e-03,\n",
       "        -3.67588892e-03, -6.26478287e-03,  3.40788500e-03,\n",
       "         1.84049375e-02, -4.81309630e-03,  1.24608638e-03,\n",
       "         1.99911624e-03, -6.95496710e-04, -1.20250884e-03],\n",
       "       [ 5.00792405e-02,  2.78471469e-02,  3.05115978e-02,\n",
       "        -7.52953828e-03, -1.95874935e-02,  4.51264172e-02,\n",
       "         4.21716152e-02, -1.40583300e-02,  6.27337919e-03,\n",
       "         2.82743269e-03, -1.00535749e-02, -1.50025272e-02],\n",
       "       [ 1.68309989e-01,  6.46093956e-02,  7.80830171e-02,\n",
       "         8.78077246e-04, -7.04257929e-02,  3.98470743e-02,\n",
       "         5.36428781e-02, -2.48559388e-02,  3.84445816e-02,\n",
       "         2.21004771e-02, -1.87252614e-02, -6.77189674e-02],\n",
       "       [ 7.61885895e-01, -2.22539561e-02,  1.10366433e-01,\n",
       "        -1.86508845e-01, -3.01944046e-03,  1.93309953e-02,\n",
       "         8.25100554e-02, -1.30935003e-01,  9.89731333e-02,\n",
       "        -8.12942490e-02, -1.05560112e-01, -9.76700534e-02],\n",
       "       [ 9.16462745e-02,  2.38721195e-02,  6.10370297e-02,\n",
       "        -3.24801076e-03, -3.33275131e-02, -2.66441248e-03,\n",
       "        -4.53686132e-02, -1.66891838e-02,  2.50864496e-02,\n",
       "         2.09593529e-02,  4.04181952e-03,  1.60911938e-02],\n",
       "       [ 7.76283353e-02,  3.14998103e-02,  8.15457169e-02,\n",
       "        -1.19999218e-02, -5.64038477e-02, -5.71813574e-04,\n",
       "        -5.04611098e-02, -1.41746742e-02,  3.45117229e-02,\n",
       "         4.00233403e-03, -7.05768642e-03, -5.28196824e-02],\n",
       "       [ 2.22884056e-01,  6.26983005e-03,  1.25981104e-01,\n",
       "         1.39566086e-02, -1.30907970e-01,  6.32873723e-02,\n",
       "        -9.36068380e-02, -1.09432131e-02,  4.95448194e-02,\n",
       "        -2.44997299e-02, -8.41973457e-03, -1.40324931e-01],\n",
       "       [ 4.53183677e-01, -1.65120943e-03,  9.57498661e-02,\n",
       "         1.78140166e-02, -1.67231020e-01, -2.33989670e-03,\n",
       "        -1.56868622e-01,  3.99666876e-02,  5.97378528e-02,\n",
       "        -4.86148879e-02,  3.06269795e-02, -2.07734150e-01],\n",
       "       [ 8.80717265e-01, -2.50590469e-02,  1.47998121e-02,\n",
       "        -1.07980096e-02, -4.92871544e-02, -1.54046879e-02,\n",
       "        -4.94507907e-02,  9.31433027e-03,  2.31755081e-02,\n",
       "        -4.57540793e-02,  2.56984927e-02, -9.05670906e-02],\n",
       "       [ 3.59212852e-01,  1.63844067e-02,  1.03421411e-01,\n",
       "        -4.85491603e-03, -8.24415307e-02, -2.51171720e-03,\n",
       "        -4.33449853e-02,  3.70894608e-02,  5.11643456e-02,\n",
       "        -1.28397306e-02, -3.49951098e-02, -1.80820900e-01],\n",
       "       [ 5.88669127e-01, -1.05937403e-02,  9.76106935e-02,\n",
       "         4.04641724e-03, -1.10753820e-01,  1.76463571e-02,\n",
       "        -3.64070734e-02,  2.54339546e-02,  9.95111688e-02,\n",
       "        -2.47126085e-02, -4.24947945e-02, -2.39030661e-01],\n",
       "       [ 7.98824642e-01,  6.10265585e-03,  2.56649047e-02,\n",
       "        -3.85254558e-03, -8.48195284e-02, -3.06778164e-03,\n",
       "        -4.16560238e-02,  2.10754070e-02,  7.55471400e-02,\n",
       "        -4.37183863e-03, -1.07007471e-02, -1.75400471e-01],\n",
       "       [ 9.63596200e-01, -3.65525243e-03,  6.85582087e-04,\n",
       "        -2.70917992e-03, -2.63954336e-02, -4.36224957e-03,\n",
       "        -4.78278276e-03,  1.32892906e-04,  2.02906986e-02,\n",
       "        -4.22113224e-03, -2.33641798e-03, -4.13473984e-02],\n",
       "       [ 7.57398920e-01, -2.32463644e-02,  3.22596085e-02,\n",
       "         1.65889099e-02, -5.04122816e-02,  3.35824764e-02,\n",
       "        -2.34934445e-02,  8.35144270e-03,  5.10067050e-02,\n",
       "        -2.80028907e-02, -2.22899774e-02, -1.11527238e-01],\n",
       "       [ 9.35387212e-01, -1.27107444e-03,  1.00132341e-02,\n",
       "         1.77573144e-03, -3.50355371e-02,  2.32413404e-03,\n",
       "        -2.86032911e-02,  8.58569960e-03,  2.48774497e-02,\n",
       "        -1.08064925e-02,  8.67807888e-04, -6.43464685e-02],\n",
       "       [ 9.97064974e-01, -4.08585826e-03, -2.61309293e-03,\n",
       "        -1.52501937e-03,  1.09825456e-03,  2.00161879e-03,\n",
       "        -6.09607762e-04,  1.65731112e-03,  9.83827311e-04,\n",
       "        -3.08739327e-03,  1.25906899e-03,  1.83311406e-03],\n",
       "       [ 8.09884066e-01,  2.83816002e-02, -1.62940276e-02,\n",
       "        -2.98257249e-02, -1.87294608e-02, -8.16781186e-02,\n",
       "        -5.30319416e-02,  3.33271132e-02, -9.39282608e-04,\n",
       "         4.27649542e-03,  2.64023335e-02, -2.69836069e-02],\n",
       "       [ 9.43091686e-01,  5.42843217e-03, -3.88729334e-02,\n",
       "        -2.48370878e-02,  3.50950740e-02, -6.90546349e-02,\n",
       "        -4.03150487e-03,  1.64221515e-02, -9.47100268e-03,\n",
       "         5.39967691e-03,  8.42720905e-03,  2.36598139e-02],\n",
       "       [ 8.98595170e-01, -6.09133859e-03, -3.34028980e-02,\n",
       "        -6.28937084e-02,  6.53416873e-02, -1.54251332e-02,\n",
       "         3.61053373e-02, -3.53498373e-02, -1.20148837e-02,\n",
       "         9.63770150e-03, -1.36020525e-03,  3.91347919e-02]])"
      ]
     },
     "execution_count": 40,
     "metadata": {},
     "output_type": "execute_result"
    }
   ],
   "source": [
    "one_Vs_oneTheta"
   ]
  },
  {
   "cell_type": "markdown",
   "metadata": {},
   "source": [
    "#### Prediction"
   ]
  },
  {
   "cell_type": "code",
   "execution_count": 41,
   "metadata": {},
   "outputs": [
    {
     "data": {
      "text/plain": [
       "(882, 21)"
      ]
     },
     "execution_count": 41,
     "metadata": {},
     "output_type": "execute_result"
    }
   ],
   "source": [
    "voteMatrix=np.dot(X_test,one_Vs_oneTheta.T)\n",
    "voteMatrix.shape"
   ]
  },
  {
   "cell_type": "code",
   "execution_count": 42,
   "metadata": {},
   "outputs": [],
   "source": [
    "voteMatrix=sigmoid(voteMatrix)"
   ]
  },
  {
   "cell_type": "code",
   "execution_count": 43,
   "metadata": {},
   "outputs": [],
   "source": [
    "for i in range(voteMatrix.shape[0]):\n",
    "    class1=3\n",
    "    class2=class1\n",
    "    for j in range(voteMatrix.shape[1]):\n",
    "        class2=class2+1\n",
    "        if voteMatrix[i,j] >0.5:\n",
    "             voteMatrix[i,j]=class1\n",
    "        else:\n",
    "            voteMatrix[i,j]=class2\n",
    "        if(class2>9):\n",
    "            class1=class1+1\n",
    "            class2=class1\n",
    "  "
   ]
  },
  {
   "cell_type": "code",
   "execution_count": 44,
   "metadata": {},
   "outputs": [],
   "source": [
    "voteMatrix=np.array(voteMatrix)\n"
   ]
  },
  {
   "cell_type": "code",
   "execution_count": 45,
   "metadata": {},
   "outputs": [],
   "source": [
    "vote={}\n",
    "output=[]\n",
    "for i in range(voteMatrix.shape[0]):\n",
    "    uni,counts=np.unique(voteMatrix[i,:],return_counts=True)\n",
    "    vote=dict(zip(uni,counts))\n",
    "    output.append(list(vote.keys())[2])\n",
    "    "
   ]
  },
  {
   "cell_type": "code",
   "execution_count": 46,
   "metadata": {},
   "outputs": [
    {
     "name": "stdout",
     "output_type": "stream",
     "text": [
      "(1, 882)\n",
      "(882, 1)\n"
     ]
    }
   ],
   "source": [
    "output=np.matrix(output)\n",
    "print(output.shape)\n",
    "print(Y_test.shape)"
   ]
  },
  {
   "cell_type": "code",
   "execution_count": 52,
   "metadata": {},
   "outputs": [
    {
     "name": "stdout",
     "output_type": "stream",
     "text": [
      "51.93197278911\n"
     ]
    }
   ],
   "source": [
    "one_Vs_oneTheta=learn_OneVsOne(datasets)\n",
    "accuracy =np.count_nonzero(Y_test==output.T)/len(Y_test)*100\n",
    "print(accuracy)"
   ]
  },
  {
   "cell_type": "code",
   "execution_count": null,
   "metadata": {},
   "outputs": [],
   "source": []
  },
  {
   "cell_type": "code",
   "execution_count": 241,
   "metadata": {},
   "outputs": [],
   "source": []
  },
  {
   "cell_type": "code",
   "execution_count": null,
   "metadata": {},
   "outputs": [],
   "source": []
  }
 ],
 "metadata": {
  "kernelspec": {
   "display_name": "Python 3",
   "language": "python",
   "name": "python3"
  },
  "language_info": {
   "codemirror_mode": {
    "name": "ipython",
    "version": 3
   },
   "file_extension": ".py",
   "mimetype": "text/x-python",
   "name": "python",
   "nbconvert_exporter": "python",
   "pygments_lexer": "ipython3",
   "version": "3.6.7"
  }
 },
 "nbformat": 4,
 "nbformat_minor": 2
}
