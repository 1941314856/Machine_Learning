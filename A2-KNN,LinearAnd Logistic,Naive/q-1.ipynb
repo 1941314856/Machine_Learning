{
 "cells": [
  {
   "cell_type": "markdown",
   "metadata": {},
   "source": [
    "### Question1 : KNN algorithm on Iris dataSet"
   ]
  },
  {
   "cell_type": "code",
   "execution_count": 322,
   "metadata": {},
   "outputs": [],
   "source": [
    "import pandas as pd\n",
    "import numpy as np\n",
    "import operator\n",
    "import matplotlib.pyplot as plt"
   ]
  },
  {
   "cell_type": "markdown",
   "metadata": {},
   "source": [
    "#### Read and Visualise the data"
   ]
  },
  {
   "cell_type": "code",
   "execution_count": 323,
   "metadata": {},
   "outputs": [
    {
     "data": {
      "text/html": [
       "<div>\n",
       "<style scoped>\n",
       "    .dataframe tbody tr th:only-of-type {\n",
       "        vertical-align: middle;\n",
       "    }\n",
       "\n",
       "    .dataframe tbody tr th {\n",
       "        vertical-align: top;\n",
       "    }\n",
       "\n",
       "    .dataframe thead th {\n",
       "        text-align: right;\n",
       "    }\n",
       "</style>\n",
       "<table border=\"1\" class=\"dataframe\">\n",
       "  <thead>\n",
       "    <tr style=\"text-align: right;\">\n",
       "      <th></th>\n",
       "      <th>sepalLen</th>\n",
       "      <th>sepalWid</th>\n",
       "      <th>petalLen</th>\n",
       "      <th>petalWid</th>\n",
       "      <th>class</th>\n",
       "    </tr>\n",
       "  </thead>\n",
       "  <tbody>\n",
       "    <tr>\n",
       "      <th>0</th>\n",
       "      <td>5.1</td>\n",
       "      <td>3.5</td>\n",
       "      <td>1.4</td>\n",
       "      <td>0.2</td>\n",
       "      <td>Iris-setosa</td>\n",
       "    </tr>\n",
       "    <tr>\n",
       "      <th>1</th>\n",
       "      <td>6.3</td>\n",
       "      <td>3.3</td>\n",
       "      <td>6.0</td>\n",
       "      <td>2.5</td>\n",
       "      <td>Iris-virginica</td>\n",
       "    </tr>\n",
       "    <tr>\n",
       "      <th>2</th>\n",
       "      <td>5.0</td>\n",
       "      <td>3.0</td>\n",
       "      <td>1.6</td>\n",
       "      <td>0.2</td>\n",
       "      <td>Iris-setosa</td>\n",
       "    </tr>\n",
       "    <tr>\n",
       "      <th>3</th>\n",
       "      <td>6.2</td>\n",
       "      <td>2.8</td>\n",
       "      <td>4.8</td>\n",
       "      <td>1.8</td>\n",
       "      <td>Iris-virginica</td>\n",
       "    </tr>\n",
       "    <tr>\n",
       "      <th>4</th>\n",
       "      <td>6.4</td>\n",
       "      <td>3.1</td>\n",
       "      <td>5.5</td>\n",
       "      <td>1.8</td>\n",
       "      <td>Iris-virginica</td>\n",
       "    </tr>\n",
       "  </tbody>\n",
       "</table>\n",
       "</div>"
      ],
      "text/plain": [
       "   sepalLen  sepalWid  petalLen  petalWid           class\n",
       "0       5.1       3.5       1.4       0.2     Iris-setosa\n",
       "1       6.3       3.3       6.0       2.5  Iris-virginica\n",
       "2       5.0       3.0       1.6       0.2     Iris-setosa\n",
       "3       6.2       2.8       4.8       1.8  Iris-virginica\n",
       "4       6.4       3.1       5.5       1.8  Iris-virginica"
      ]
     },
     "execution_count": 323,
     "metadata": {},
     "output_type": "execute_result"
    }
   ],
   "source": [
    "df=pd.read_csv(\"Data/Iris/Iris.csv\",names=['sepalLen','sepalWid','petalLen','petalWid','class'])\n",
    "df.head()"
   ]
  },
  {
   "cell_type": "code",
   "execution_count": 324,
   "metadata": {},
   "outputs": [
    {
     "data": {
      "text/plain": [
       "Iris-versicolor    46\n",
       "Iris-virginica     45\n",
       "Iris-setosa        44\n",
       "Name: class, dtype: int64"
      ]
     },
     "execution_count": 324,
     "metadata": {},
     "output_type": "execute_result"
    }
   ],
   "source": [
    "df[\"class\"].value_counts()"
   ]
  },
  {
   "cell_type": "markdown",
   "metadata": {},
   "source": [
    "### Data Visualisation"
   ]
  },
  {
   "cell_type": "code",
   "execution_count": 325,
   "metadata": {},
   "outputs": [
    {
     "data": {
      "text/plain": [
       "<matplotlib.legend.Legend at 0x7f802f821a58>"
      ]
     },
     "execution_count": 325,
     "metadata": {},
     "output_type": "execute_result"
    },
    {
     "data": {
      "text/plain": [
       "<Figure size 432x288 with 0 Axes>"
      ]
     },
     "metadata": {},
     "output_type": "display_data"
    },
    {
     "data": {
      "image/png": "[encoded data removed]",
      "text/plain": [
       "<Figure size 1224x576 with 2 Axes>"
      ]
     },
     "metadata": {
      "needs_background": "light"
     },
     "output_type": "display_data"
    }
   ],
   "source": [
    "plt.figure()\n",
    "fig,ax=plt.subplots(1,2,figsize=(17, 8))\n",
    "df.plot(x=\"sepalLen\",y=\"sepalWid\",kind=\"scatter\",ax=ax[0],sharex=False,sharey=False,label=\"sepal\",color='r')\n",
    "df.plot(x=\"petalLen\",y=\"petalWid\",kind=\"scatter\",ax=ax[1],sharex=False,sharey=False,label=\"petal\",color='b')\n",
    "ax[0].set(title='Sepal comparasion ', ylabel='sepal-width')\n",
    "ax[1].set(title='Petal Comparasion',  ylabel='petal-width')\n",
    "ax[0].legend()\n",
    "ax[1].legend()"
   ]
  },
  {
   "cell_type": "markdown",
   "metadata": {},
   "source": [
    "#### Spliting the data into training sets and testset"
   ]
  },
  {
   "cell_type": "code",
   "execution_count": 326,
   "metadata": {},
   "outputs": [],
   "source": [
    "split = int(0.8 * df.shape[0])\n",
    "training_data = df[:split] # 80% of the total data\n",
    "testing_data = df[split:]  # 20% of the total data"
   ]
  },
  {
   "cell_type": "markdown",
   "metadata": {},
   "source": [
    "#### Euclidean Distance\n",
    ">   distance= ${\\sqrt{\\sum_{i=0}^{N} ({x_i-y_i})^2 }}$ "
   ]
  },
  {
   "cell_type": "code",
   "execution_count": 327,
   "metadata": {},
   "outputs": [],
   "source": [
    "#vectorised Implementation \n",
    "def eucli_dist(point1,point2,length):\n",
    "    point2=point2[0:length]# to remove the last column string\n",
    "    point1=point1[0:length]\n",
    "    a1=np.array(point1)\n",
    "    a2=np.array(point2)\n",
    "    return np.asscalar(np.sqrt(sum(np.square(a1-a2))))"
   ]
  },
  {
   "cell_type": "markdown",
   "metadata": {},
   "source": [
    "#### Cosine Similarity\n",
    "> ${cos(\\pmb x, \\pmb y)}$ = ${\\frac {\\pmb x \\cdot \\pmb y}{||\\pmb x|| \\cdot ||\\pmb y||}}$"
   ]
  },
  {
   "cell_type": "code",
   "execution_count": 328,
   "metadata": {},
   "outputs": [],
   "source": [
    "def cosine_distance(point1,point2,length):\n",
    "    point2=point2[0:length]# to remove the last column string\n",
    "    point1=point1[0:length]\n",
    "    a1=np.array(point1)\n",
    "    a2=np.array(point2)\n",
    "    \n",
    "    return 1-np.dot(a1, a2) / (np.sqrt(np.dot(a1, a1)) * np.sqrt(np.dot(a2, a2)))"
   ]
  },
  {
   "cell_type": "markdown",
   "metadata": {},
   "source": [
    "#### Chebychev Distance\n",
    ">  distance=  ${\\max_{i=1}^{N}}$ ${\\left|{x_i}-{y_i}\\right|}$"
   ]
  },
  {
   "cell_type": "code",
   "execution_count": 329,
   "metadata": {},
   "outputs": [],
   "source": [
    "def Chebychev(point1,point2,length):\n",
    "    point2=point2[0:length]# to remove the last column string\n",
    "    point1=point1[0:length]\n",
    "    a1=np.array(point1)\n",
    "    a2=np.array(point2)\n",
    "    \n",
    "    return max(abs(a1-a2))"
   ]
  },
  {
   "cell_type": "markdown",
   "metadata": {},
   "source": [
    "#### Manhatten Distance\n",
    ">    d= ${\\sum_{i=1}^{N}{\\left|{x_i}-{y_i}\\right|}}$ "
   ]
  },
  {
   "cell_type": "code",
   "execution_count": 330,
   "metadata": {},
   "outputs": [],
   "source": [
    "def manhatten(point1,point2,length):\n",
    "    point2=point2[0:length]# to remove the last column string\n",
    "    point1=point1[0:length]\n",
    "    a1=np.array(point1)\n",
    "    a2=np.array(point2)\n",
    "    return np.sum(abs(a1-a2))"
   ]
  },
  {
   "cell_type": "code",
   "execution_count": 331,
   "metadata": {},
   "outputs": [],
   "source": [
    "def KNN(training_data,test, k,distancebygiven):\n",
    "    length = training_data.shape[1] - 1\n",
    "    help = []\n",
    "    votes = {}\n",
    "    for j in range(training_data.shape[0]):\n",
    "        train_data = list(training_data.iloc[j])\n",
    "            \n",
    "        dist = distancebygiven(test, train_data, length)\n",
    "        help.append((train_data, dist))\n",
    "            \n",
    "    help.sort(key=operator.itemgetter(1))\n",
    "    K_listNeighb = []\n",
    "\n",
    "    for i in range(0, k):\n",
    "        K_listNeighb.append(help[i][0])\n",
    "        \n",
    "\n",
    "    for i in range(0, len(K_listNeighb)):\n",
    "        val = K_listNeighb[i][-1] \n",
    "        \n",
    "        if val in votes:\n",
    "            votes[val] += 1\n",
    "        else:\n",
    "            votes[val] = 1\n",
    "            \n",
    "    final_sort = sorted(votes.items(), key=operator.itemgetter(1), reverse = True )\n",
    "    return final_sort[0][0]\n",
    "  "
   ]
  },
  {
   "cell_type": "markdown",
   "metadata": {},
   "source": [
    "K${\\le}$ ${\\sqrt{m}}$\n",
    "\n",
    "m: no. of training examples\n"
   ]
  },
  {
   "cell_type": "markdown",
   "metadata": {},
   "source": [
    "\n"
   ]
  },
  {
   "cell_type": "code",
   "execution_count": 332,
   "metadata": {
    "scrolled": true
   },
   "outputs": [],
   "source": [
    "value = [] \n",
    "def prediction(training_data,testing_data,k,distanceGiven):\n",
    "    \n",
    "    accuracy=0.0\n",
    "    \n",
    "    right=0\n",
    "    wrong=0\n",
    "    \n",
    "    for i in range(0,testing_data.shape[0]):\n",
    "        inst = list(testing_data.iloc[i])\n",
    "        actualAns = inst[-1]\n",
    "        val = KNN(training_data,inst, k,distanceGiven)\n",
    "        \n",
    "        if actualAns == val:\n",
    "            right+=1\n",
    "        else:\n",
    "            wrong+=1\n",
    "            \n",
    "    accuracy = (right)/(right+wrong)*100\n",
    "    \n",
    "    value.append(accuracy)\n",
    "    print(\"K = \",k,\" Accuracy \",accuracy,\"%\")\n",
    "    \n",
    "\n",
    "\n",
    "\n",
    "    \n"
   ]
  },
  {
   "cell_type": "code",
   "execution_count": 333,
   "metadata": {},
   "outputs": [],
   "source": [
    "value=[]\n",
    "def predictionForTestFile(training_data,testing_data,k,distanceGiven):\n",
    "    for i in range(0,testing_data.shape[0]):\n",
    "        inst = list(testing_data.iloc[i])\n",
    "        actualAns = inst[-1]\n",
    "        val = KNN(training_data,inst, k,distanceGiven)\n",
    "        value.append(val)"
   ]
  },
  {
   "cell_type": "markdown",
   "metadata": {},
   "source": [
    "##### a) Euclidean distance"
   ]
  },
  {
   "cell_type": "code",
   "execution_count": 334,
   "metadata": {},
   "outputs": [
    {
     "name": "stdout",
     "output_type": "stream",
     "text": [
      "K =  1  Accuracy  96.29629629629629 %\n",
      "K =  3  Accuracy  96.29629629629629 %\n",
      "K =  5  Accuracy  96.29629629629629 %\n",
      "K =  7  Accuracy  96.29629629629629 %\n",
      "K =  9  Accuracy  100.0 %\n"
     ]
    },
    {
     "data": {
      "image/png": "[encoded data removed]",
      "text/plain": [
       "<Figure size 432x288 with 1 Axes>"
      ]
     },
     "metadata": {
      "needs_background": "light"
     },
     "output_type": "display_data"
    }
   ],
   "source": [
    "k = [1,3,5,7,9]\n",
    "for i in range(1, 10, 2):\n",
    "    prediction(training_data,testing_data,i,eucli_dist)  \n",
    "\n",
    "plt.plot(k,value)\n",
    "plt.show()"
   ]
  },
  {
   "cell_type": "markdown",
   "metadata": {},
   "source": [
    "#### b) Manhatten Distance"
   ]
  },
  {
   "cell_type": "code",
   "execution_count": 335,
   "metadata": {},
   "outputs": [
    {
     "name": "stdout",
     "output_type": "stream",
     "text": [
      "K =  1  Accuracy  96.29629629629629 %\n",
      "K =  3  Accuracy  96.29629629629629 %\n",
      "K =  5  Accuracy  92.5925925925926 %\n",
      "K =  7  Accuracy  92.5925925925926 %\n",
      "K =  9  Accuracy  96.29629629629629 %\n"
     ]
    },
    {
     "data": {
      "image/png": "[encoded data removed]",
      "text/plain": [
       "<Figure size 432x288 with 1 Axes>"
      ]
     },
     "metadata": {
      "needs_background": "light"
     },
     "output_type": "display_data"
    }
   ],
   "source": [
    "k = [1,3,5,7,9]\n",
    "value=[]\n",
    "for i in range(1, 10, 2):\n",
    "    prediction(training_data,testing_data,i,manhatten)  \n",
    "\n",
    "plt.plot(k,value)\n",
    "plt.show()"
   ]
  },
  {
   "cell_type": "markdown",
   "metadata": {},
   "source": [
    "#### c) Cosine Similarity"
   ]
  },
  {
   "cell_type": "code",
   "execution_count": 336,
   "metadata": {},
   "outputs": [
    {
     "name": "stdout",
     "output_type": "stream",
     "text": [
      "K =  1  Accuracy  96.29629629629629 %\n",
      "K =  3  Accuracy  92.5925925925926 %\n",
      "K =  5  Accuracy  92.5925925925926 %\n",
      "K =  7  Accuracy  92.5925925925926 %\n",
      "K =  9  Accuracy  92.5925925925926 %\n"
     ]
    },
    {
     "data": {
      "image/png": "[encoded data removed]",
      "text/plain": [
       "<Figure size 432x288 with 1 Axes>"
      ]
     },
     "metadata": {
      "needs_background": "light"
     },
     "output_type": "display_data"
    }
   ],
   "source": [
    "k = [1,3,5,7,9]\n",
    "value=[]\n",
    "for i in range(1, 10, 2):\n",
    "    prediction(training_data,testing_data,i,cosine_distance)  \n",
    "\n",
    "plt.plot(k,value)\n",
    "plt.show()"
   ]
  },
  {
   "cell_type": "markdown",
   "metadata": {},
   "source": [
    "#### d)Chebyshev distance"
   ]
  },
  {
   "cell_type": "code",
   "execution_count": 337,
   "metadata": {},
   "outputs": [
    {
     "name": "stdout",
     "output_type": "stream",
     "text": [
      "K =  1  Accuracy  96.29629629629629 %\n",
      "K =  3  Accuracy  96.29629629629629 %\n",
      "K =  5  Accuracy  96.29629629629629 %\n",
      "K =  7  Accuracy  100.0 %\n",
      "K =  9  Accuracy  100.0 %\n"
     ]
    },
    {
     "data": {
      "image/png": "[encoded data removed]",
      "text/plain": [
       "<Figure size 432x288 with 1 Axes>"
      ]
     },
     "metadata": {
      "needs_background": "light"
     },
     "output_type": "display_data"
    }
   ],
   "source": [
    "k = [1,3,5,7,9]\n",
    "value=[]\n",
    "for i in range(1, 10, 2):\n",
    "    prediction(training_data,testing_data,i,Chebychev)  \n",
    "\n",
    "plt.plot(k,value)\n",
    "plt.show()"
   ]
  },
  {
   "cell_type": "markdown",
   "metadata": {},
   "source": [
    "### KNN algorithm on Robot Datasets"
   ]
  },
  {
   "cell_type": "code",
   "execution_count": 338,
   "metadata": {},
   "outputs": [
    {
     "data": {
      "text/html": [
       "<div>\n",
       "<style scoped>\n",
       "    .dataframe tbody tr th:only-of-type {\n",
       "        vertical-align: middle;\n",
       "    }\n",
       "\n",
       "    .dataframe tbody tr th {\n",
       "        vertical-align: top;\n",
       "    }\n",
       "\n",
       "    .dataframe thead th {\n",
       "        text-align: right;\n",
       "    }\n",
       "</style>\n",
       "<table border=\"1\" class=\"dataframe\">\n",
       "  <thead>\n",
       "    <tr style=\"text-align: right;\">\n",
       "      <th></th>\n",
       "      <th>ap</th>\n",
       "      <th>a1</th>\n",
       "      <th>a2</th>\n",
       "      <th>a3</th>\n",
       "      <th>a4</th>\n",
       "      <th>a5</th>\n",
       "      <th>a6</th>\n",
       "      <th>Id</th>\n",
       "      <th>class</th>\n",
       "    </tr>\n",
       "  </thead>\n",
       "  <tbody>\n",
       "    <tr>\n",
       "      <th>0</th>\n",
       "      <td>NaN</td>\n",
       "      <td>1</td>\n",
       "      <td>1</td>\n",
       "      <td>1</td>\n",
       "      <td>1</td>\n",
       "      <td>3</td>\n",
       "      <td>2</td>\n",
       "      <td>data_6</td>\n",
       "      <td>1</td>\n",
       "    </tr>\n",
       "    <tr>\n",
       "      <th>1</th>\n",
       "      <td>NaN</td>\n",
       "      <td>1</td>\n",
       "      <td>1</td>\n",
       "      <td>1</td>\n",
       "      <td>3</td>\n",
       "      <td>2</td>\n",
       "      <td>1</td>\n",
       "      <td>data_19</td>\n",
       "      <td>1</td>\n",
       "    </tr>\n",
       "    <tr>\n",
       "      <th>2</th>\n",
       "      <td>NaN</td>\n",
       "      <td>1</td>\n",
       "      <td>1</td>\n",
       "      <td>1</td>\n",
       "      <td>3</td>\n",
       "      <td>3</td>\n",
       "      <td>2</td>\n",
       "      <td>data_22</td>\n",
       "      <td>1</td>\n",
       "    </tr>\n",
       "    <tr>\n",
       "      <th>3</th>\n",
       "      <td>NaN</td>\n",
       "      <td>1</td>\n",
       "      <td>1</td>\n",
       "      <td>2</td>\n",
       "      <td>1</td>\n",
       "      <td>2</td>\n",
       "      <td>1</td>\n",
       "      <td>data_27</td>\n",
       "      <td>1</td>\n",
       "    </tr>\n",
       "    <tr>\n",
       "      <th>4</th>\n",
       "      <td>NaN</td>\n",
       "      <td>1</td>\n",
       "      <td>1</td>\n",
       "      <td>2</td>\n",
       "      <td>1</td>\n",
       "      <td>2</td>\n",
       "      <td>2</td>\n",
       "      <td>data_28</td>\n",
       "      <td>1</td>\n",
       "    </tr>\n",
       "  </tbody>\n",
       "</table>\n",
       "</div>"
      ],
      "text/plain": [
       "   ap  a1  a2  a3  a4  a5  a6       Id  class\n",
       "0 NaN   1   1   1   1   3   2   data_6      1\n",
       "1 NaN   1   1   1   3   2   1  data_19      1\n",
       "2 NaN   1   1   1   3   3   2  data_22      1\n",
       "3 NaN   1   1   2   1   2   1  data_27      1\n",
       "4 NaN   1   1   2   1   2   2  data_28      1"
      ]
     },
     "execution_count": 338,
     "metadata": {},
     "output_type": "execute_result"
    }
   ],
   "source": [
    "# robo1=pd.read_csv(\"Data/RobotDataset/Robot1\"),names=['ap','class','a1','a2','a3','a4','a5','a6','Id'],delimiter=\" \")\n",
    "# robo1.head()\n",
    "robo1 = pd.read_csv(\"Data/RobotDataset/Robot1\", delimiter=\" \")\n",
    "robo1.columns =['ap','class','a1','a2','a3','a4','a5','a6','Id']\n",
    "\n",
    "robo1 = pd.DataFrame(robo1, columns = ['ap','a1','a2','a3','a4','a5','a6','Id','class'])\n",
    "\n",
    "robo1.head()"
   ]
  },
  {
   "cell_type": "code",
   "execution_count": 339,
   "metadata": {},
   "outputs": [
    {
     "data": {
      "text/html": [
       "<div>\n",
       "<style scoped>\n",
       "    .dataframe tbody tr th:only-of-type {\n",
       "        vertical-align: middle;\n",
       "    }\n",
       "\n",
       "    .dataframe tbody tr th {\n",
       "        vertical-align: top;\n",
       "    }\n",
       "\n",
       "    .dataframe thead th {\n",
       "        text-align: right;\n",
       "    }\n",
       "</style>\n",
       "<table border=\"1\" class=\"dataframe\">\n",
       "  <thead>\n",
       "    <tr style=\"text-align: right;\">\n",
       "      <th></th>\n",
       "      <th>a1</th>\n",
       "      <th>a2</th>\n",
       "      <th>a3</th>\n",
       "      <th>a4</th>\n",
       "      <th>a5</th>\n",
       "      <th>a6</th>\n",
       "      <th>class</th>\n",
       "    </tr>\n",
       "  </thead>\n",
       "  <tbody>\n",
       "    <tr>\n",
       "      <th>0</th>\n",
       "      <td>1</td>\n",
       "      <td>1</td>\n",
       "      <td>1</td>\n",
       "      <td>1</td>\n",
       "      <td>3</td>\n",
       "      <td>2</td>\n",
       "      <td>1</td>\n",
       "    </tr>\n",
       "    <tr>\n",
       "      <th>1</th>\n",
       "      <td>1</td>\n",
       "      <td>1</td>\n",
       "      <td>1</td>\n",
       "      <td>3</td>\n",
       "      <td>2</td>\n",
       "      <td>1</td>\n",
       "      <td>1</td>\n",
       "    </tr>\n",
       "    <tr>\n",
       "      <th>2</th>\n",
       "      <td>1</td>\n",
       "      <td>1</td>\n",
       "      <td>1</td>\n",
       "      <td>3</td>\n",
       "      <td>3</td>\n",
       "      <td>2</td>\n",
       "      <td>1</td>\n",
       "    </tr>\n",
       "    <tr>\n",
       "      <th>3</th>\n",
       "      <td>1</td>\n",
       "      <td>1</td>\n",
       "      <td>2</td>\n",
       "      <td>1</td>\n",
       "      <td>2</td>\n",
       "      <td>1</td>\n",
       "      <td>1</td>\n",
       "    </tr>\n",
       "    <tr>\n",
       "      <th>4</th>\n",
       "      <td>1</td>\n",
       "      <td>1</td>\n",
       "      <td>2</td>\n",
       "      <td>1</td>\n",
       "      <td>2</td>\n",
       "      <td>2</td>\n",
       "      <td>1</td>\n",
       "    </tr>\n",
       "  </tbody>\n",
       "</table>\n",
       "</div>"
      ],
      "text/plain": [
       "   a1  a2  a3  a4  a5  a6  class\n",
       "0   1   1   1   1   3   2      1\n",
       "1   1   1   1   3   2   1      1\n",
       "2   1   1   1   3   3   2      1\n",
       "3   1   1   2   1   2   1      1\n",
       "4   1   1   2   1   2   2      1"
      ]
     },
     "execution_count": 339,
     "metadata": {},
     "output_type": "execute_result"
    }
   ],
   "source": [
    "robo1.drop('Id',axis=1,inplace=True)\n",
    "robo1.drop('ap',axis=1,inplace=True)\n",
    "robo1.head()"
   ]
  },
  {
   "cell_type": "code",
   "execution_count": 340,
   "metadata": {},
   "outputs": [],
   "source": [
    "split = int(0.8 * robo1.shape[0])\n",
    "training_Robo1data = robo1[:split] # 80% of the total data\n",
    "testing_Robo1data = robo1[split:]  # 20% of the total data"
   ]
  },
  {
   "cell_type": "markdown",
   "metadata": {},
   "source": [
    "#### a) Euclidean Distance"
   ]
  },
  {
   "cell_type": "code",
   "execution_count": 341,
   "metadata": {},
   "outputs": [
    {
     "name": "stdout",
     "output_type": "stream",
     "text": [
      "K =  1  Accuracy  56.00000000000001 %\n",
      "K =  3  Accuracy  76.0 %\n",
      "K =  5  Accuracy  76.0 %\n",
      "K =  7  Accuracy  84.0 %\n"
     ]
    },
    {
     "data": {
      "image/png": "[encoded data removed]",
      "text/plain": [
       "<Figure size 432x288 with 1 Axes>"
      ]
     },
     "metadata": {
      "needs_background": "light"
     },
     "output_type": "display_data"
    }
   ],
   "source": [
    "value=[]\n",
    "k = [1,3,5,7]\n",
    "for i in range(1, 8, 2):\n",
    "    prediction(training_Robo1data,testing_Robo1data,i,eucli_dist)  \n",
    "\n",
    "plt.plot(k,value)\n",
    "plt.show()"
   ]
  },
  {
   "cell_type": "markdown",
   "metadata": {},
   "source": [
    "#### b) Manhatten distance"
   ]
  },
  {
   "cell_type": "code",
   "execution_count": 342,
   "metadata": {},
   "outputs": [
    {
     "name": "stdout",
     "output_type": "stream",
     "text": [
      "K =  1  Accuracy  48.0 %\n",
      "K =  3  Accuracy  52.0 %\n",
      "K =  5  Accuracy  56.00000000000001 %\n",
      "K =  7  Accuracy  56.00000000000001 %\n"
     ]
    },
    {
     "data": {
      "image/png": "[encoded data removed]",
      "text/plain": [
       "<Figure size 432x288 with 1 Axes>"
      ]
     },
     "metadata": {
      "needs_background": "light"
     },
     "output_type": "display_data"
    }
   ],
   "source": [
    "value=[]\n",
    "k = [1,3,5,7]\n",
    "for i in range(1, 8, 2):\n",
    "    prediction(training_Robo1data,testing_Robo1data,i,manhatten)  \n",
    "\n",
    "plt.plot(k,value)\n",
    "plt.show()"
   ]
  },
  {
   "cell_type": "markdown",
   "metadata": {},
   "source": [
    "#### c) Chebychev Distance"
   ]
  },
  {
   "cell_type": "code",
   "execution_count": 343,
   "metadata": {},
   "outputs": [
    {
     "name": "stdout",
     "output_type": "stream",
     "text": [
      "K =  1  Accuracy  96.0 %\n",
      "K =  3  Accuracy  96.0 %\n",
      "K =  5  Accuracy  96.0 %\n",
      "K =  7  Accuracy  100.0 %\n"
     ]
    },
    {
     "data": {
      "image/png": "[encoded data removed]",
      "text/plain": [
       "<Figure size 432x288 with 1 Axes>"
      ]
     },
     "metadata": {
      "needs_background": "light"
     },
     "output_type": "display_data"
    }
   ],
   "source": [
    "value=[]\n",
    "k = [1,3,5,7]\n",
    "for i in range(1, 8, 2):\n",
    "    prediction(training_Robo1data,testing_Robo1data,i,Chebychev)  \n",
    "\n",
    "plt.plot(k,value)\n",
    "plt.show()"
   ]
  },
  {
   "cell_type": "markdown",
   "metadata": {},
   "source": [
    "#### d)Cosine Similarity"
   ]
  },
  {
   "cell_type": "code",
   "execution_count": 345,
   "metadata": {},
   "outputs": [
    {
     "name": "stdout",
     "output_type": "stream",
     "text": [
      "K =  1  Accuracy  84.0 %\n",
      "K =  3  Accuracy  88.0 %\n",
      "K =  5  Accuracy  88.0 %\n",
      "K =  7  Accuracy  88.0 %\n"
     ]
    },
    {
     "data": {
      "image/png": "[encoded data removed]",
      "text/plain": [
       "<Figure size 432x288 with 1 Axes>"
      ]
     },
     "metadata": {
      "needs_background": "light"
     },
     "output_type": "display_data"
    }
   ],
   "source": [
    "value=[]\n",
    "k = [1,3,5,7]\n",
    "for i in range(1, 8, 2):\n",
    "    prediction(training_Robo1data,testing_Robo1data,i,cosine_distance)  \n",
    "\n",
    "plt.plot(k,value)\n",
    "plt.show()"
   ]
  },
  {
   "cell_type": "markdown",
   "metadata": {},
   "source": [
    "### KNN on Robot2 dataset"
   ]
  },
  {
   "cell_type": "code",
   "execution_count": 346,
   "metadata": {},
   "outputs": [
    {
     "data": {
      "text/html": [
       "<div>\n",
       "<style scoped>\n",
       "    .dataframe tbody tr th:only-of-type {\n",
       "        vertical-align: middle;\n",
       "    }\n",
       "\n",
       "    .dataframe tbody tr th {\n",
       "        vertical-align: top;\n",
       "    }\n",
       "\n",
       "    .dataframe thead th {\n",
       "        text-align: right;\n",
       "    }\n",
       "</style>\n",
       "<table border=\"1\" class=\"dataframe\">\n",
       "  <thead>\n",
       "    <tr style=\"text-align: right;\">\n",
       "      <th></th>\n",
       "      <th>ap</th>\n",
       "      <th>a1</th>\n",
       "      <th>a2</th>\n",
       "      <th>a3</th>\n",
       "      <th>a4</th>\n",
       "      <th>a5</th>\n",
       "      <th>a6</th>\n",
       "      <th>Id</th>\n",
       "      <th>class</th>\n",
       "    </tr>\n",
       "  </thead>\n",
       "  <tbody>\n",
       "    <tr>\n",
       "      <th>0</th>\n",
       "      <td>NaN</td>\n",
       "      <td>1</td>\n",
       "      <td>1</td>\n",
       "      <td>1</td>\n",
       "      <td>1</td>\n",
       "      <td>2</td>\n",
       "      <td>1</td>\n",
       "      <td>data_3</td>\n",
       "      <td>1</td>\n",
       "    </tr>\n",
       "    <tr>\n",
       "      <th>1</th>\n",
       "      <td>NaN</td>\n",
       "      <td>1</td>\n",
       "      <td>1</td>\n",
       "      <td>1</td>\n",
       "      <td>1</td>\n",
       "      <td>2</td>\n",
       "      <td>2</td>\n",
       "      <td>data_4</td>\n",
       "      <td>1</td>\n",
       "    </tr>\n",
       "    <tr>\n",
       "      <th>2</th>\n",
       "      <td>NaN</td>\n",
       "      <td>1</td>\n",
       "      <td>1</td>\n",
       "      <td>1</td>\n",
       "      <td>1</td>\n",
       "      <td>3</td>\n",
       "      <td>1</td>\n",
       "      <td>data_5</td>\n",
       "      <td>0</td>\n",
       "    </tr>\n",
       "    <tr>\n",
       "      <th>3</th>\n",
       "      <td>NaN</td>\n",
       "      <td>1</td>\n",
       "      <td>1</td>\n",
       "      <td>1</td>\n",
       "      <td>1</td>\n",
       "      <td>4</td>\n",
       "      <td>1</td>\n",
       "      <td>data_7</td>\n",
       "      <td>0</td>\n",
       "    </tr>\n",
       "    <tr>\n",
       "      <th>4</th>\n",
       "      <td>NaN</td>\n",
       "      <td>1</td>\n",
       "      <td>1</td>\n",
       "      <td>1</td>\n",
       "      <td>2</td>\n",
       "      <td>1</td>\n",
       "      <td>1</td>\n",
       "      <td>data_9</td>\n",
       "      <td>1</td>\n",
       "    </tr>\n",
       "  </tbody>\n",
       "</table>\n",
       "</div>"
      ],
      "text/plain": [
       "   ap  a1  a2  a3  a4  a5  a6      Id  class\n",
       "0 NaN   1   1   1   1   2   1  data_3      1\n",
       "1 NaN   1   1   1   1   2   2  data_4      1\n",
       "2 NaN   1   1   1   1   3   1  data_5      0\n",
       "3 NaN   1   1   1   1   4   1  data_7      0\n",
       "4 NaN   1   1   1   2   1   1  data_9      1"
      ]
     },
     "execution_count": 346,
     "metadata": {},
     "output_type": "execute_result"
    }
   ],
   "source": [
    "robo2 = pd.read_csv(\"Data/RobotDataset/Robot2\", delimiter=\" \")\n",
    "robo2.columns =['ap','class','a1','a2','a3','a4','a5','a6','Id']\n",
    "robo2 = pd.DataFrame(robo2, columns = ['ap','a1','a2','a3','a4','a5','a6','Id','class'])\n",
    "robo2.head()"
   ]
  },
  {
   "cell_type": "code",
   "execution_count": 347,
   "metadata": {},
   "outputs": [
    {
     "data": {
      "text/html": [
       "<div>\n",
       "<style scoped>\n",
       "    .dataframe tbody tr th:only-of-type {\n",
       "        vertical-align: middle;\n",
       "    }\n",
       "\n",
       "    .dataframe tbody tr th {\n",
       "        vertical-align: top;\n",
       "    }\n",
       "\n",
       "    .dataframe thead th {\n",
       "        text-align: right;\n",
       "    }\n",
       "</style>\n",
       "<table border=\"1\" class=\"dataframe\">\n",
       "  <thead>\n",
       "    <tr style=\"text-align: right;\">\n",
       "      <th></th>\n",
       "      <th>a1</th>\n",
       "      <th>a2</th>\n",
       "      <th>a3</th>\n",
       "      <th>a4</th>\n",
       "      <th>a5</th>\n",
       "      <th>a6</th>\n",
       "      <th>class</th>\n",
       "    </tr>\n",
       "  </thead>\n",
       "  <tbody>\n",
       "    <tr>\n",
       "      <th>0</th>\n",
       "      <td>1</td>\n",
       "      <td>1</td>\n",
       "      <td>1</td>\n",
       "      <td>1</td>\n",
       "      <td>2</td>\n",
       "      <td>1</td>\n",
       "      <td>1</td>\n",
       "    </tr>\n",
       "    <tr>\n",
       "      <th>1</th>\n",
       "      <td>1</td>\n",
       "      <td>1</td>\n",
       "      <td>1</td>\n",
       "      <td>1</td>\n",
       "      <td>2</td>\n",
       "      <td>2</td>\n",
       "      <td>1</td>\n",
       "    </tr>\n",
       "    <tr>\n",
       "      <th>2</th>\n",
       "      <td>1</td>\n",
       "      <td>1</td>\n",
       "      <td>1</td>\n",
       "      <td>1</td>\n",
       "      <td>3</td>\n",
       "      <td>1</td>\n",
       "      <td>0</td>\n",
       "    </tr>\n",
       "    <tr>\n",
       "      <th>3</th>\n",
       "      <td>1</td>\n",
       "      <td>1</td>\n",
       "      <td>1</td>\n",
       "      <td>1</td>\n",
       "      <td>4</td>\n",
       "      <td>1</td>\n",
       "      <td>0</td>\n",
       "    </tr>\n",
       "    <tr>\n",
       "      <th>4</th>\n",
       "      <td>1</td>\n",
       "      <td>1</td>\n",
       "      <td>1</td>\n",
       "      <td>2</td>\n",
       "      <td>1</td>\n",
       "      <td>1</td>\n",
       "      <td>1</td>\n",
       "    </tr>\n",
       "  </tbody>\n",
       "</table>\n",
       "</div>"
      ],
      "text/plain": [
       "   a1  a2  a3  a4  a5  a6  class\n",
       "0   1   1   1   1   2   1      1\n",
       "1   1   1   1   1   2   2      1\n",
       "2   1   1   1   1   3   1      0\n",
       "3   1   1   1   1   4   1      0\n",
       "4   1   1   1   2   1   1      1"
      ]
     },
     "execution_count": 347,
     "metadata": {},
     "output_type": "execute_result"
    }
   ],
   "source": [
    "robo2.drop('Id',axis=1,inplace=True)\n",
    "robo2.drop('ap',axis=1,inplace=True)\n",
    "robo2.head()"
   ]
  },
  {
   "cell_type": "code",
   "execution_count": 348,
   "metadata": {},
   "outputs": [],
   "source": [
    "split = int(0.8 * robo2.shape[0])\n",
    "training_Robo2data = robo2[:split] # 80% of the total data\n",
    "testing_Robo2data = robo2[split:]  # 20% of the total data"
   ]
  },
  {
   "cell_type": "markdown",
   "metadata": {},
   "source": [
    "#### a) Euclidean Distance"
   ]
  },
  {
   "cell_type": "code",
   "execution_count": 349,
   "metadata": {},
   "outputs": [
    {
     "name": "stdout",
     "output_type": "stream",
     "text": [
      "K =  1  Accuracy  80.0 %\n",
      "K =  3  Accuracy  92.0 %\n",
      "K =  5  Accuracy  88.0 %\n",
      "K =  7  Accuracy  92.0 %\n"
     ]
    },
    {
     "data": {
      "image/png": "[encoded data removed]",
      "text/plain": [
       "<Figure size 432x288 with 1 Axes>"
      ]
     },
     "metadata": {
      "needs_background": "light"
     },
     "output_type": "display_data"
    }
   ],
   "source": [
    "value=[]\n",
    "k = [1,3,5,7]\n",
    "for i in range(1, 8, 2):\n",
    "    prediction(training_Robo2data,testing_Robo2data,i,eucli_dist)  \n",
    "\n",
    "plt.plot(k,value)\n",
    "plt.show()"
   ]
  },
  {
   "cell_type": "markdown",
   "metadata": {},
   "source": [
    "#### b) Cosine Similarity"
   ]
  },
  {
   "cell_type": "code",
   "execution_count": 350,
   "metadata": {},
   "outputs": [
    {
     "name": "stdout",
     "output_type": "stream",
     "text": [
      "K =  1  Accuracy  80.0 %\n",
      "K =  3  Accuracy  80.0 %\n",
      "K =  5  Accuracy  84.0 %\n",
      "K =  7  Accuracy  76.0 %\n"
     ]
    },
    {
     "data": {
      "image/png": "[encoded data removed]",
      "text/plain": [
       "<Figure size 432x288 with 1 Axes>"
      ]
     },
     "metadata": {
      "needs_background": "light"
     },
     "output_type": "display_data"
    }
   ],
   "source": [
    "value=[]\n",
    "k = [1,3,5,7]\n",
    "for i in range(1, 8, 2):\n",
    "    prediction(training_Robo2data,testing_Robo2data,i,cosine_distance)  \n",
    "\n",
    "plt.plot(k,value)\n",
    "plt.show()"
   ]
  },
  {
   "cell_type": "markdown",
   "metadata": {},
   "source": [
    "#### c) Chebychev Distance\n"
   ]
  },
  {
   "cell_type": "code",
   "execution_count": 351,
   "metadata": {},
   "outputs": [
    {
     "name": "stdout",
     "output_type": "stream",
     "text": [
      "K =  1  Accuracy  52.0 %\n",
      "K =  3  Accuracy  60.0 %\n",
      "K =  5  Accuracy  60.0 %\n",
      "K =  7  Accuracy  68.0 %\n"
     ]
    },
    {
     "data": {
      "image/png": "[encoded data removed]",
      "text/plain": [
       "<Figure size 432x288 with 1 Axes>"
      ]
     },
     "metadata": {
      "needs_background": "light"
     },
     "output_type": "display_data"
    }
   ],
   "source": [
    "value=[]\n",
    "k = [1,3,5,7]\n",
    "for i in range(1, 8, 2):\n",
    "    prediction(training_Robo2data,testing_Robo2data,i,Chebychev)  \n",
    "\n",
    "plt.plot(k,value)\n",
    "plt.show()"
   ]
  },
  {
   "cell_type": "markdown",
   "metadata": {},
   "source": [
    "#### d) Manhatten distance"
   ]
  },
  {
   "cell_type": "code",
   "execution_count": 352,
   "metadata": {},
   "outputs": [
    {
     "name": "stdout",
     "output_type": "stream",
     "text": [
      "K =  1  Accuracy  84.0 %\n",
      "K =  3  Accuracy  88.0 %\n",
      "K =  5  Accuracy  84.0 %\n",
      "K =  7  Accuracy  88.0 %\n"
     ]
    },
    {
     "data": {
      "image/png": "[encoded data removed]",
      "text/plain": [
       "<Figure size 432x288 with 1 Axes>"
      ]
     },
     "metadata": {
      "needs_background": "light"
     },
     "output_type": "display_data"
    }
   ],
   "source": [
    "value=[]\n",
    "k = [1,3,5,7]\n",
    "for i in range(1, 8, 2):\n",
    "    prediction(training_Robo2data,testing_Robo2data,i,manhatten)  \n",
    "\n",
    "plt.plot(k,value)\n",
    "plt.show()"
   ]
  },
  {
   "cell_type": "markdown",
   "metadata": {},
   "source": [
    "#### TestFile"
   ]
  },
  {
   "cell_type": "code",
   "execution_count": 321,
   "metadata": {},
   "outputs": [],
   "source": [
    "import sys\n",
    "s=str(sys.argv[1])\n",
    "if s==\"Robot1\":\n",
    "    testFile = pd.read_csv(str(sys.argv[2]), delimiter=\" \")\n",
    "    testFile.columns =['ap','class','a1','a2','a3','a4','a5','a6','Id']\n",
    "    testFile = pd.DataFrame(testFile, columns = ['ap','a1','a2','a3','a4','a5','a6','Id','class'])\n",
    "    testFile.drop('Id',axis=1,inplace=True)\n",
    "    testFile.drop('ap',axis=1,inplace=True)\n",
    "\n",
    "    value=[]#empty list\n",
    "    predictionForTestFile(training_Robo1data,testFile,5,eucli_dist) \n",
    "\n",
    "    print(value)\n",
    "elif s==\"Robot2\":\n",
    "    testFile = pd.read_csv(str(sys.argv[2]), delimiter=\" \")\n",
    "    testFile.columns =['ap','class','a1','a2','a3','a4','a5','a6','Id']\n",
    "    testFile = pd.DataFrame(testFile, columns = ['ap','a1','a2','a3','a4','a5','a6','Id','class'])\n",
    "    testFile.drop('Id',axis=1,inplace=True)\n",
    "    testFile.drop('ap',axis=1,inplace=True)\n",
    "\n",
    "    value=[]#empty list\n",
    "    predictionForTestFile(training_Robo2data,testFile,5,eucli_dist)\n",
    "else:\n",
    "    testFile=pd.read_csv(str(sys.argv[2]),names=['sepalLen','sepalWid','petalLen','petalWid','class'])\n",
    "    value=[]#empty list\n",
    "    predictionForTestFile(training_data,testFile,3,eucli_dist) \n",
    "\n",
    "    print(value)"
   ]
  },
  {
   "cell_type": "code",
   "execution_count": null,
   "metadata": {},
   "outputs": [],
   "source": []
  }
 ],
 "metadata": {
  "kernelspec": {
   "display_name": "Python 3",
   "language": "python",
   "name": "python3"
  },
  "language_info": {
   "codemirror_mode": {
    "name": "ipython",
    "version": 3
   },
   "file_extension": ".py",
   "mimetype": "text/x-python",
   "name": "python",
   "nbconvert_exporter": "python",
   "pygments_lexer": "ipython3",
   "version": "3.6.7"
  }
 },
 "nbformat": 4,
 "nbformat_minor": 2
}
