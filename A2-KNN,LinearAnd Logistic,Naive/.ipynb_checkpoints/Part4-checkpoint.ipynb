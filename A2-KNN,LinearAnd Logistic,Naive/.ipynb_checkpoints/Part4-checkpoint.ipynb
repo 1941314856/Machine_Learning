{
 "cells": [
  {
   "cell_type": "markdown",
   "metadata": {},
   "source": [
    "### Part4 : Logistic Regression "
   ]
  },
  {
   "cell_type": "code",
   "execution_count": 27,
   "metadata": {},
   "outputs": [],
   "source": [
    "import numpy as np\n",
    "import pandas as pd\n",
    "import matplotlib.pyplot as plt"
   ]
  },
  {
   "cell_type": "markdown",
   "metadata": {},
   "source": [
    "#### Assumption\n",
    "1. Our output i.e Chance of Admit has continous prob , we have to convert it into descreate class.\n",
    "2. 1 is for Good Chance of Admitted and 0 is for bad chance of Admitted"
   ]
  },
  {
   "cell_type": "code",
   "execution_count": 28,
   "metadata": {},
   "outputs": [
    {
     "data": {
      "text/html": [
       "<div>\n",
       "<style scoped>\n",
       "    .dataframe tbody tr th:only-of-type {\n",
       "        vertical-align: middle;\n",
       "    }\n",
       "\n",
       "    .dataframe tbody tr th {\n",
       "        vertical-align: top;\n",
       "    }\n",
       "\n",
       "    .dataframe thead th {\n",
       "        text-align: right;\n",
       "    }\n",
       "</style>\n",
       "<table border=\"1\" class=\"dataframe\">\n",
       "  <thead>\n",
       "    <tr style=\"text-align: right;\">\n",
       "      <th></th>\n",
       "      <th>Serial No.</th>\n",
       "      <th>GRE Score</th>\n",
       "      <th>TOEFL Score</th>\n",
       "      <th>University Rating</th>\n",
       "      <th>SOP</th>\n",
       "      <th>LOR</th>\n",
       "      <th>CGPA</th>\n",
       "      <th>Research</th>\n",
       "      <th>Chance of Admit</th>\n",
       "    </tr>\n",
       "  </thead>\n",
       "  <tbody>\n",
       "    <tr>\n",
       "      <th>0</th>\n",
       "      <td>242</td>\n",
       "      <td>317</td>\n",
       "      <td>103</td>\n",
       "      <td>2</td>\n",
       "      <td>2.5</td>\n",
       "      <td>2.0</td>\n",
       "      <td>8.15</td>\n",
       "      <td>0</td>\n",
       "      <td>0.65</td>\n",
       "    </tr>\n",
       "    <tr>\n",
       "      <th>1</th>\n",
       "      <td>334</td>\n",
       "      <td>319</td>\n",
       "      <td>108</td>\n",
       "      <td>3</td>\n",
       "      <td>3.0</td>\n",
       "      <td>3.5</td>\n",
       "      <td>8.54</td>\n",
       "      <td>1</td>\n",
       "      <td>0.71</td>\n",
       "    </tr>\n",
       "    <tr>\n",
       "      <th>2</th>\n",
       "      <td>4</td>\n",
       "      <td>322</td>\n",
       "      <td>110</td>\n",
       "      <td>3</td>\n",
       "      <td>3.5</td>\n",
       "      <td>2.5</td>\n",
       "      <td>8.67</td>\n",
       "      <td>1</td>\n",
       "      <td>0.80</td>\n",
       "    </tr>\n",
       "    <tr>\n",
       "      <th>3</th>\n",
       "      <td>45</td>\n",
       "      <td>326</td>\n",
       "      <td>113</td>\n",
       "      <td>5</td>\n",
       "      <td>4.5</td>\n",
       "      <td>4.0</td>\n",
       "      <td>9.40</td>\n",
       "      <td>1</td>\n",
       "      <td>0.91</td>\n",
       "    </tr>\n",
       "    <tr>\n",
       "      <th>4</th>\n",
       "      <td>232</td>\n",
       "      <td>319</td>\n",
       "      <td>106</td>\n",
       "      <td>3</td>\n",
       "      <td>3.5</td>\n",
       "      <td>2.5</td>\n",
       "      <td>8.33</td>\n",
       "      <td>1</td>\n",
       "      <td>0.74</td>\n",
       "    </tr>\n",
       "  </tbody>\n",
       "</table>\n",
       "</div>"
      ],
      "text/plain": [
       "   Serial No.  GRE Score  TOEFL Score  University Rating  SOP  LOR   CGPA  \\\n",
       "0         242        317          103                  2  2.5   2.0  8.15   \n",
       "1         334        319          108                  3  3.0   3.5  8.54   \n",
       "2           4        322          110                  3  3.5   2.5  8.67   \n",
       "3          45        326          113                  5  4.5   4.0  9.40   \n",
       "4         232        319          106                  3  3.5   2.5  8.33   \n",
       "\n",
       "   Research  Chance of Admit   \n",
       "0         0              0.65  \n",
       "1         1              0.71  \n",
       "2         1              0.80  \n",
       "3         1              0.91  \n",
       "4         1              0.74  "
      ]
     },
     "execution_count": 28,
     "metadata": {},
     "output_type": "execute_result"
    }
   ],
   "source": [
    "df=pd.read_csv(\"Data/Admission/data.csv\")\n",
    "df.head()"
   ]
  },
  {
   "cell_type": "code",
   "execution_count": 29,
   "metadata": {},
   "outputs": [],
   "source": [
    "df.drop('Serial No.',axis=1,inplace=True)"
   ]
  },
  {
   "cell_type": "code",
   "execution_count": 30,
   "metadata": {},
   "outputs": [
    {
     "data": {
      "text/html": [
       "<div>\n",
       "<style scoped>\n",
       "    .dataframe tbody tr th:only-of-type {\n",
       "        vertical-align: middle;\n",
       "    }\n",
       "\n",
       "    .dataframe tbody tr th {\n",
       "        vertical-align: top;\n",
       "    }\n",
       "\n",
       "    .dataframe thead th {\n",
       "        text-align: right;\n",
       "    }\n",
       "</style>\n",
       "<table border=\"1\" class=\"dataframe\">\n",
       "  <thead>\n",
       "    <tr style=\"text-align: right;\">\n",
       "      <th></th>\n",
       "      <th>GRE Score</th>\n",
       "      <th>TOEFL Score</th>\n",
       "      <th>University Rating</th>\n",
       "      <th>SOP</th>\n",
       "      <th>LOR</th>\n",
       "      <th>CGPA</th>\n",
       "      <th>Research</th>\n",
       "      <th>Chance of Admit</th>\n",
       "    </tr>\n",
       "  </thead>\n",
       "  <tbody>\n",
       "    <tr>\n",
       "      <th>0</th>\n",
       "      <td>317</td>\n",
       "      <td>103</td>\n",
       "      <td>2</td>\n",
       "      <td>2.5</td>\n",
       "      <td>2.0</td>\n",
       "      <td>8.15</td>\n",
       "      <td>0</td>\n",
       "      <td>0.65</td>\n",
       "    </tr>\n",
       "    <tr>\n",
       "      <th>1</th>\n",
       "      <td>319</td>\n",
       "      <td>108</td>\n",
       "      <td>3</td>\n",
       "      <td>3.0</td>\n",
       "      <td>3.5</td>\n",
       "      <td>8.54</td>\n",
       "      <td>1</td>\n",
       "      <td>0.71</td>\n",
       "    </tr>\n",
       "    <tr>\n",
       "      <th>2</th>\n",
       "      <td>322</td>\n",
       "      <td>110</td>\n",
       "      <td>3</td>\n",
       "      <td>3.5</td>\n",
       "      <td>2.5</td>\n",
       "      <td>8.67</td>\n",
       "      <td>1</td>\n",
       "      <td>0.80</td>\n",
       "    </tr>\n",
       "    <tr>\n",
       "      <th>3</th>\n",
       "      <td>326</td>\n",
       "      <td>113</td>\n",
       "      <td>5</td>\n",
       "      <td>4.5</td>\n",
       "      <td>4.0</td>\n",
       "      <td>9.40</td>\n",
       "      <td>1</td>\n",
       "      <td>0.91</td>\n",
       "    </tr>\n",
       "    <tr>\n",
       "      <th>4</th>\n",
       "      <td>319</td>\n",
       "      <td>106</td>\n",
       "      <td>3</td>\n",
       "      <td>3.5</td>\n",
       "      <td>2.5</td>\n",
       "      <td>8.33</td>\n",
       "      <td>1</td>\n",
       "      <td>0.74</td>\n",
       "    </tr>\n",
       "  </tbody>\n",
       "</table>\n",
       "</div>"
      ],
      "text/plain": [
       "   GRE Score  TOEFL Score  University Rating  SOP  LOR   CGPA  Research  \\\n",
       "0        317          103                  2  2.5   2.0  8.15         0   \n",
       "1        319          108                  3  3.0   3.5  8.54         1   \n",
       "2        322          110                  3  3.5   2.5  8.67         1   \n",
       "3        326          113                  5  4.5   4.0  9.40         1   \n",
       "4        319          106                  3  3.5   2.5  8.33         1   \n",
       "\n",
       "   Chance of Admit   \n",
       "0              0.65  \n",
       "1              0.71  \n",
       "2              0.80  \n",
       "3              0.91  \n",
       "4              0.74  "
      ]
     },
     "execution_count": 30,
     "metadata": {},
     "output_type": "execute_result"
    }
   ],
   "source": [
    "df.head()"
   ]
  },
  {
   "cell_type": "code",
   "execution_count": 31,
   "metadata": {},
   "outputs": [],
   "source": [
    "split = int(0.8 * df.shape[0])\n",
    "training_data = df[:split] # 80% of the total data\n",
    "testing_data = df[split:]  # 20% of the total data"
   ]
  },
  {
   "cell_type": "code",
   "execution_count": 32,
   "metadata": {},
   "outputs": [
    {
     "data": {
      "text/html": [
       "<div>\n",
       "<style scoped>\n",
       "    .dataframe tbody tr th:only-of-type {\n",
       "        vertical-align: middle;\n",
       "    }\n",
       "\n",
       "    .dataframe tbody tr th {\n",
       "        vertical-align: top;\n",
       "    }\n",
       "\n",
       "    .dataframe thead th {\n",
       "        text-align: right;\n",
       "    }\n",
       "</style>\n",
       "<table border=\"1\" class=\"dataframe\">\n",
       "  <thead>\n",
       "    <tr style=\"text-align: right;\">\n",
       "      <th></th>\n",
       "      <th>Ones</th>\n",
       "      <th>GRE Score</th>\n",
       "      <th>TOEFL Score</th>\n",
       "      <th>University Rating</th>\n",
       "      <th>SOP</th>\n",
       "      <th>LOR</th>\n",
       "      <th>CGPA</th>\n",
       "      <th>Research</th>\n",
       "    </tr>\n",
       "  </thead>\n",
       "  <tbody>\n",
       "    <tr>\n",
       "      <th>0</th>\n",
       "      <td>1</td>\n",
       "      <td>0.057682</td>\n",
       "      <td>-0.701600</td>\n",
       "      <td>-0.983181</td>\n",
       "      <td>-0.896836</td>\n",
       "      <td>-1.644073</td>\n",
       "      <td>-0.707883</td>\n",
       "      <td>-1.116480</td>\n",
       "    </tr>\n",
       "    <tr>\n",
       "      <th>1</th>\n",
       "      <td>1</td>\n",
       "      <td>0.232183</td>\n",
       "      <td>0.135854</td>\n",
       "      <td>-0.102720</td>\n",
       "      <td>-0.386787</td>\n",
       "      <td>0.023156</td>\n",
       "      <td>-0.060201</td>\n",
       "      <td>0.893184</td>\n",
       "    </tr>\n",
       "    <tr>\n",
       "      <th>2</th>\n",
       "      <td>1</td>\n",
       "      <td>0.493933</td>\n",
       "      <td>0.470835</td>\n",
       "      <td>-0.102720</td>\n",
       "      <td>0.123262</td>\n",
       "      <td>-1.088330</td>\n",
       "      <td>0.155693</td>\n",
       "      <td>0.893184</td>\n",
       "    </tr>\n",
       "    <tr>\n",
       "      <th>3</th>\n",
       "      <td>1</td>\n",
       "      <td>0.842934</td>\n",
       "      <td>0.973307</td>\n",
       "      <td>1.658200</td>\n",
       "      <td>1.143359</td>\n",
       "      <td>0.578899</td>\n",
       "      <td>1.368020</td>\n",
       "      <td>0.893184</td>\n",
       "    </tr>\n",
       "    <tr>\n",
       "      <th>4</th>\n",
       "      <td>1</td>\n",
       "      <td>0.232183</td>\n",
       "      <td>-0.199128</td>\n",
       "      <td>-0.102720</td>\n",
       "      <td>0.123262</td>\n",
       "      <td>-1.088330</td>\n",
       "      <td>-0.408953</td>\n",
       "      <td>0.893184</td>\n",
       "    </tr>\n",
       "  </tbody>\n",
       "</table>\n",
       "</div>"
      ],
      "text/plain": [
       "   Ones  GRE Score  TOEFL Score  University Rating       SOP      LOR   \\\n",
       "0     1   0.057682    -0.701600          -0.983181 -0.896836 -1.644073   \n",
       "1     1   0.232183     0.135854          -0.102720 -0.386787  0.023156   \n",
       "2     1   0.493933     0.470835          -0.102720  0.123262 -1.088330   \n",
       "3     1   0.842934     0.973307           1.658200  1.143359  0.578899   \n",
       "4     1   0.232183    -0.199128          -0.102720  0.123262 -1.088330   \n",
       "\n",
       "       CGPA  Research  \n",
       "0 -0.707883 -1.116480  \n",
       "1 -0.060201  0.893184  \n",
       "2  0.155693  0.893184  \n",
       "3  1.368020  0.893184  \n",
       "4 -0.408953  0.893184  "
      ]
     },
     "execution_count": 32,
     "metadata": {},
     "output_type": "execute_result"
    }
   ],
   "source": [
    "columns=training_data.shape[1]\n",
    "X=training_data.iloc[:,0:columns-1]# features Sets\n",
    "\n",
    "mu=X.mean()\n",
    "sigma=X.std()\n",
    "\n",
    "# features normalisation\n",
    "X=(X-X.mean())/X.std()\n",
    "\n",
    "Y=training_data.iloc[:,columns-1:columns] # outputSet\n",
    "X.insert(0, 'Ones', 1)\n",
    "X.head()"
   ]
  },
  {
   "cell_type": "code",
   "execution_count": 33,
   "metadata": {},
   "outputs": [],
   "source": [
    "X = np.matrix(X.values)\n",
    "Y = np.matrix(Y.values)\n",
    "# print(X.shape)\n",
    "# print(Y.shape)\n",
    "\n",
    "#Convert the Y into discreate, keeping the 0.5 is the threshold\n",
    "Y= (Y >=0.5)\n",
    "\n",
    "\n",
    "# print(np.count_nonzero(Y==True))\n",
    "# np.count_nonzero(Y==False)\n",
    "\n"
   ]
  },
  {
   "cell_type": "markdown",
   "metadata": {},
   "source": [
    "#### Sigmoid Function \n",
    "${g(z)}$=${(1+e^{-z})^{-1} }$"
   ]
  },
  {
   "cell_type": "code",
   "execution_count": 34,
   "metadata": {},
   "outputs": [],
   "source": [
    "def sigmoid(z):\n",
    "    g=0.0\n",
    "    g=1+np.exp(-z)\n",
    "    return np.power(g,-1)"
   ]
  },
  {
   "cell_type": "markdown",
   "metadata": {},
   "source": [
    "#### CostFunction"
   ]
  },
  {
   "cell_type": "code",
   "execution_count": 35,
   "metadata": {},
   "outputs": [],
   "source": [
    "def CostFunction(X,y,theta):\n",
    "    prediction1= np.log(sigmoid(X*theta.T))\n",
    "    prediction2= np.log(1-sigmoid(X*theta.T))\n",
    "    prediction1=np.multiply(y,prediction1)\n",
    "    prediction2=np.multiply((1-y),prediction2)\n",
    "    return -(sum(prediction1+prediction2))/len(X)"
   ]
  },
  {
   "cell_type": "code",
   "execution_count": 36,
   "metadata": {},
   "outputs": [],
   "source": [
    "def gradientDescent(X, y, theta, alpha, iters):\n",
    "    \n",
    "    Jhistory=np.zeros(iters)\n",
    "    m=len(X)\n",
    "    for i in range(iters):\n",
    "        pre = (X*theta.T)-y\n",
    "        #print(pre.shape)\n",
    "        delta=np.dot(np.transpose(pre),X)\n",
    "        theta=theta-(alpha/m)*delta\n",
    "        \n",
    "        \n",
    "        Jhistory[i] = CostFunction(X, y, theta)\n",
    "        \n",
    "    return theta,Jhistory"
   ]
  },
  {
   "cell_type": "code",
   "execution_count": 37,
   "metadata": {},
   "outputs": [
    {
     "data": {
      "text/plain": [
       "(1, 8)"
      ]
     },
     "execution_count": 37,
     "metadata": {},
     "output_type": "execute_result"
    }
   ],
   "source": [
    "alpha=.009\n",
    "iters=1000\n",
    "theta = np.matrix(np.array([0,0,0,0,0,0,0,0]))\n",
    "minTheta, cost2= gradientDescent(X, Y, theta, alpha, iters)\n",
    "minTheta.shape"
   ]
  },
  {
   "cell_type": "code",
   "execution_count": 38,
   "metadata": {},
   "outputs": [
    {
     "data": {
      "text/plain": [
       "Text(0.5, 1.0, 'Visualisation of change in Cost w.r.t to iterations')"
      ]
     },
     "execution_count": 38,
     "metadata": {},
     "output_type": "execute_result"
    },
    {
     "data": {
      "image/png": "[encoded data removed]",
      "text/plain": [
       "<Figure size 720x432 with 1 Axes>"
      ]
     },
     "metadata": {
      "needs_background": "light"
     },
     "output_type": "display_data"
    }
   ],
   "source": [
    "ig, ax = plt.subplots(figsize=(10,6))\n",
    "ax.plot(np.arange(iters), cost2, 'r')\n",
    "ax.set_xlabel('Iterations')\n",
    "ax.set_ylabel('Cost')\n",
    "ax.set_title('Visualisation of change in Cost w.r.t to iterations')"
   ]
  },
  {
   "cell_type": "code",
   "execution_count": 39,
   "metadata": {},
   "outputs": [
    {
     "name": "stdout",
     "output_type": "stream",
     "text": [
      "(90, 7)\n"
     ]
    }
   ],
   "source": [
    "columns=testing_data.shape[1]\n",
    "X_test=testing_data.iloc[:,0:columns-1]# features Sets\n",
    "Y_test=testing_data.iloc[:,columns-1:columns] # outputSet\n",
    "Y_test=(Y_test>=0.5)\n",
    "print(X_test.shape)"
   ]
  },
  {
   "cell_type": "code",
   "execution_count": 40,
   "metadata": {},
   "outputs": [],
   "source": [
    "def prediction(test_data,threshold=0.5):\n",
    "    a=np.matrix(np.array([1]))\n",
    "    m=np.matrix(np.array(mu))\n",
    "    s=np.matrix(np.array(sigma))\n",
    "    test=np.matrix(np.array(test_data))\n",
    "    \n",
    "    test=(test-m)/s\n",
    "    \n",
    "    test=np.hstack((a,test))\n",
    "    z= np.dot(test,minTheta.T)\n",
    "    z=sigmoid(z)\n",
    "    if z > threshold:# 0.5 is our threshold,we set threshold acccording to observations\n",
    "        return True\n",
    "    else:\n",
    "        return False"
   ]
  },
  {
   "cell_type": "code",
   "execution_count": 41,
   "metadata": {},
   "outputs": [
    {
     "name": "stdout",
     "output_type": "stream",
     "text": [
      "True\n"
     ]
    }
   ],
   "source": [
    "testSet = [315,103,2,2.5,2,8.5,0]# 7 features values\n",
    "result = prediction(testSet)\n",
    "print(result)"
   ]
  },
  {
   "cell_type": "code",
   "execution_count": 42,
   "metadata": {},
   "outputs": [
    {
     "name": "stdout",
     "output_type": "stream",
     "text": [
      "[ True]\n"
     ]
    },
    {
     "name": "stderr",
     "output_type": "stream",
     "text": [
      "/usr/local/lib/python3.6/dist-packages/sklearn/utils/validation.py:761: DataConversionWarning: A column-vector y was passed when a 1d array was expected. Please change the shape of y to (n_samples, ), for example using ravel().\n",
      "  y = column_or_1d(y, warn=True)\n"
     ]
    }
   ],
   "source": [
    "from sklearn.linear_model import LogisticRegression\n",
    "\n",
    "a=np.matrix(np.array([1]))\n",
    "m=np.matrix(np.array(mu))\n",
    "s=np.matrix(np.array(sigma))\n",
    "test=np.matrix(np.array(testSet))\n",
    "test=(test-m)/s\n",
    "test=np.hstack((a,test))\n",
    "\n",
    "model = LogisticRegression(random_state=0, solver='lbfgs',multi_class='ovr')\n",
    "model.fit(X, Y)\n",
    "\n",
    "X_predict = np.matrix(np.array(test)) \n",
    "y_predict = model.predict(X_predict)\n",
    "print(y_predict)"
   ]
  },
  {
   "cell_type": "code",
   "execution_count": 43,
   "metadata": {},
   "outputs": [],
   "source": [
    "output=[]#empty list\n",
    "#b=.2\n",
    "for i in range(0,len(X_test)):\n",
    "    a=prediction(X_test.iloc[i].tolist())\n",
    "    #b=np.asscalar(a)\n",
    "    output.append(a)\n",
    "#print(output)"
   ]
  },
  {
   "cell_type": "code",
   "execution_count": 44,
   "metadata": {},
   "outputs": [
    {
     "data": {
      "text/plain": [
       "90.0"
      ]
     },
     "execution_count": 44,
     "metadata": {},
     "output_type": "execute_result"
    }
   ],
   "source": [
    "accuracy =np.count_nonzero(Y_test==output)/len(Y_test)*100\n",
    "accuracy"
   ]
  },
  {
   "cell_type": "code",
   "execution_count": 45,
   "metadata": {},
   "outputs": [
    {
     "data": {
      "text/plain": [
       "-0.11111111111111094"
      ]
     },
     "execution_count": 45,
     "metadata": {},
     "output_type": "execute_result"
    }
   ],
   "source": [
    "Y_test=1*Y_test\n",
    "output=1*output\n",
    "from sklearn.metrics import r2_score\n",
    "r2_score(list(Y_test.values), output)"
   ]
  },
  {
   "cell_type": "code",
   "execution_count": 46,
   "metadata": {},
   "outputs": [
    {
     "name": "stdout",
     "output_type": "stream",
     "text": [
      "[True, True, True, True, True, True, True, True, True, True, True, True, True, True, True, True, True, True, True, True, True, True, True, True, True, True, True, True, True, True, True, True, True, True, True, True, True, True, True, True, True, True, True, True, True, True, True, True, True, True, True, True, True, True, True, True, True, True, True, True, True, True, True, True, True, True, True, True, True, True, True, True, True, True, True, True, True, True, True, True, True, True, True, True, True, True, True, True, True, True]\n"
     ]
    },
    {
     "name": "stderr",
     "output_type": "stream",
     "text": [
      "/usr/local/lib/python3.6/dist-packages/sklearn/utils/validation.py:761: DataConversionWarning: A column-vector y was passed when a 1d array was expected. Please change the shape of y to (n_samples, ), for example using ravel().\n",
      "  y = column_or_1d(y, warn=True)\n"
     ]
    },
    {
     "data": {
      "text/plain": [
       "90.0"
      ]
     },
     "execution_count": 46,
     "metadata": {},
     "output_type": "execute_result"
    }
   ],
   "source": [
    "from sklearn.metrics import accuracy_score\n",
    "model = LogisticRegression(random_state=0, solver='lbfgs',multi_class='ovr')\n",
    "model.fit(X, Y)\n",
    "a=np.ones((X_test.shape[0],1))\n",
    "\n",
    "a=np.hstack((a,X_test))\n",
    "q_scikit = model.predict(a)\n",
    "q_scikit=list(q_scikit)\n",
    "print(q_scikit)\n",
    "\n",
    "accu_scikit =np.count_nonzero(Y_test==q_scikit)/len(Y_test)*100\n",
    "accu_scikit"
   ]
  },
  {
   "cell_type": "code",
   "execution_count": 47,
   "metadata": {},
   "outputs": [],
   "source": [
    "def pre_And_Recall(Y_test,output):\n",
    "    Y_test=1*Y_test\n",
    "    output=1*output\n",
    "    actual_result=list(Y_test.values)\n",
    "    Tp=0\n",
    "    Tn=0\n",
    "    Fp=0\n",
    "    Fn=0\n",
    "    for i in range(0,len(actual_result)):\n",
    "        if actual_result[i]==output[i] and actual_result[i]==1:\n",
    "            Tp+=1\n",
    "        elif actual_result[i]==output[i] and actual_result[i]==0:\n",
    "            Tn+=1\n",
    "        elif actual_result[i]==0 and output[i]==1:\n",
    "            Fp+=1\n",
    "        else:\n",
    "            Fn+=1\n",
    "\n",
    "    accuracy=(Tp+Tn)/len(actual_result)\n",
    "    precision=Tp/(Tp+Fp)\n",
    "    recall=Tp/(Tp+Fn)\n",
    "    F1_Score=2*precision*recall/(recall+precision)\n",
    "    return accuracy,precision,recall,F1_Score"
   ]
  },
  {
   "cell_type": "code",
   "execution_count": 48,
   "metadata": {},
   "outputs": [
    {
     "name": "stdout",
     "output_type": "stream",
     "text": [
      "0.9\n",
      "0.9\n",
      "1.0\n",
      "0.9473684210526316\n"
     ]
    }
   ],
   "source": [
    "accuracy,precision,recall,F1_Score=pre_And_Recall(Y_test,output)\n",
    "print(accuracy)\n",
    "print(precision)\n",
    "print(recall)\n",
    "print(F1_Score)"
   ]
  },
  {
   "cell_type": "markdown",
   "metadata": {},
   "source": [
    "##### co-relation between threshold value vs precision and recall"
   ]
  },
  {
   "cell_type": "code",
   "execution_count": 49,
   "metadata": {},
   "outputs": [],
   "source": [
    "threshold_list=[.2,.3,.4,.45,0.5,.55,0.6,.65,0.7,.75]\n",
    "\n",
    "accu=[]\n",
    "rec=[]\n",
    "prec=[]\n",
    "\n",
    "for x in range(0,len(threshold_list)):\n",
    "    output=[]\n",
    "    for i in range(0,len(X_test)):\n",
    "        a=prediction(X_test.iloc[i].tolist(),threshold_list[x])\n",
    "        output.append(a)\n",
    "    accuracy,precision,recall,F1_Score=pre_And_Recall(Y_test,output)\n",
    "    accu.append(accuracy)\n",
    "    rec.append(recall)\n",
    "    prec.append(precision)\n"
   ]
  },
  {
   "cell_type": "code",
   "execution_count": 50,
   "metadata": {},
   "outputs": [
    {
     "data": {
      "text/plain": [
       "Text(0.5, 1.0, 'Visualisation')"
      ]
     },
     "execution_count": 50,
     "metadata": {},
     "output_type": "execute_result"
    },
    {
     "data": {
      "image/png": "[encoded data removed]",
      "text/plain": [
       "<Figure size 432x288 with 1 Axes>"
      ]
     },
     "metadata": {
      "needs_background": "light"
     },
     "output_type": "display_data"
    }
   ],
   "source": [
    "# ig, ax = plt.subplots(figsize=(10,6))\n",
    "# ax.plot(np.arange(threshold_list),np.array(accu), 'r')\n",
    "plt.plot(threshold_list,accu)\n",
    "plt.xlabel('threshold')\n",
    "plt.ylabel('accuracy')\n",
    "plt.title('Visualisation')"
   ]
  },
  {
   "cell_type": "code",
   "execution_count": 51,
   "metadata": {},
   "outputs": [
    {
     "data": {
      "text/plain": [
       "Text(0.5, 1.0, 'Visualisation')"
      ]
     },
     "execution_count": 51,
     "metadata": {},
     "output_type": "execute_result"
    },
    {
     "data": {
      "image/png": "[encoded data removed]",
      "text/plain": [
       "<Figure size 432x288 with 1 Axes>"
      ]
     },
     "metadata": {
      "needs_background": "light"
     },
     "output_type": "display_data"
    }
   ],
   "source": [
    "plt.plot(threshold_list,rec)\n",
    "plt.xlabel('threshold')\n",
    "plt.ylabel('Recall')\n",
    "plt.title('Visualisation')"
   ]
  },
  {
   "cell_type": "code",
   "execution_count": 52,
   "metadata": {},
   "outputs": [
    {
     "data": {
      "text/plain": [
       "Text(0.5, 1.0, 'Visualisation')"
      ]
     },
     "execution_count": 52,
     "metadata": {},
     "output_type": "execute_result"
    },
    {
     "data": {
      "image/png": "[encoded data removed]",
      "text/plain": [
       "<Figure size 432x288 with 1 Axes>"
      ]
     },
     "metadata": {
      "needs_background": "light"
     },
     "output_type": "display_data"
    }
   ],
   "source": [
    "plt.plot(threshold_list,prec)\n",
    "plt.xlabel('threshold')\n",
    "plt.ylabel('Precision')\n",
    "plt.title('Visualisation')"
   ]
  },
  {
   "cell_type": "code",
   "execution_count": null,
   "metadata": {},
   "outputs": [],
   "source": []
  },
  {
   "cell_type": "code",
   "execution_count": null,
   "metadata": {},
   "outputs": [],
   "source": []
  },
  {
   "cell_type": "code",
   "execution_count": null,
   "metadata": {},
   "outputs": [],
   "source": []
  }
 ],
 "metadata": {
  "kernelspec": {
   "display_name": "Python 3",
   "language": "python",
   "name": "python3"
  },
  "language_info": {
   "codemirror_mode": {
    "name": "ipython",
    "version": 3
   },
   "file_extension": ".py",
   "mimetype": "text/x-python",
   "name": "python",
   "nbconvert_exporter": "python",
   "pygments_lexer": "ipython3",
   "version": "3.6.7"
  }
 },
 "nbformat": 4,
 "nbformat_minor": 2
}
