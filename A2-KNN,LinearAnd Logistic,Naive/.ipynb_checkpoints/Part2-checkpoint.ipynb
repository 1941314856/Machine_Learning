{
 "cells": [
  {
   "cell_type": "markdown",
   "metadata": {},
   "source": [
    "### Part2: Naive Bayes Classifier"
   ]
  },
  {
   "cell_type": "code",
   "execution_count": 148,
   "metadata": {},
   "outputs": [],
   "source": [
    "import pandas as pd\n",
    "import numpy as np\n"
   ]
  },
  {
   "cell_type": "code",
   "execution_count": 149,
   "metadata": {
    "scrolled": true
   },
   "outputs": [
    {
     "data": {
      "text/html": [
       "<div>\n",
       "<style scoped>\n",
       "    .dataframe tbody tr th:only-of-type {\n",
       "        vertical-align: middle;\n",
       "    }\n",
       "\n",
       "    .dataframe tbody tr th {\n",
       "        vertical-align: top;\n",
       "    }\n",
       "\n",
       "    .dataframe thead th {\n",
       "        text-align: right;\n",
       "    }\n",
       "</style>\n",
       "<table border=\"1\" class=\"dataframe\">\n",
       "  <thead>\n",
       "    <tr style=\"text-align: right;\">\n",
       "      <th></th>\n",
       "      <th>Id</th>\n",
       "      <th>age</th>\n",
       "      <th>exp</th>\n",
       "      <th>income</th>\n",
       "      <th>zip</th>\n",
       "      <th>Fsize</th>\n",
       "      <th>avgSpend</th>\n",
       "      <th>edu</th>\n",
       "      <th>mortgage</th>\n",
       "      <th>securities</th>\n",
       "      <th>deposit</th>\n",
       "      <th>netBanking</th>\n",
       "      <th>creditCard</th>\n",
       "      <th>output</th>\n",
       "    </tr>\n",
       "  </thead>\n",
       "  <tbody>\n",
       "    <tr>\n",
       "      <th>0</th>\n",
       "      <td>2701</td>\n",
       "      <td>31</td>\n",
       "      <td>5</td>\n",
       "      <td>39</td>\n",
       "      <td>94590</td>\n",
       "      <td>4</td>\n",
       "      <td>2.2</td>\n",
       "      <td>2</td>\n",
       "      <td>0</td>\n",
       "      <td>0</td>\n",
       "      <td>0</td>\n",
       "      <td>1</td>\n",
       "      <td>1</td>\n",
       "      <td>0</td>\n",
       "    </tr>\n",
       "    <tr>\n",
       "      <th>1</th>\n",
       "      <td>2716</td>\n",
       "      <td>42</td>\n",
       "      <td>18</td>\n",
       "      <td>54</td>\n",
       "      <td>90089</td>\n",
       "      <td>1</td>\n",
       "      <td>1.8</td>\n",
       "      <td>1</td>\n",
       "      <td>0</td>\n",
       "      <td>0</td>\n",
       "      <td>0</td>\n",
       "      <td>1</td>\n",
       "      <td>0</td>\n",
       "      <td>0</td>\n",
       "    </tr>\n",
       "    <tr>\n",
       "      <th>2</th>\n",
       "      <td>3359</td>\n",
       "      <td>59</td>\n",
       "      <td>35</td>\n",
       "      <td>40</td>\n",
       "      <td>94536</td>\n",
       "      <td>4</td>\n",
       "      <td>0.4</td>\n",
       "      <td>1</td>\n",
       "      <td>0</td>\n",
       "      <td>0</td>\n",
       "      <td>0</td>\n",
       "      <td>0</td>\n",
       "      <td>0</td>\n",
       "      <td>0</td>\n",
       "    </tr>\n",
       "    <tr>\n",
       "      <th>3</th>\n",
       "      <td>2492</td>\n",
       "      <td>38</td>\n",
       "      <td>14</td>\n",
       "      <td>80</td>\n",
       "      <td>92868</td>\n",
       "      <td>2</td>\n",
       "      <td>2.7</td>\n",
       "      <td>1</td>\n",
       "      <td>0</td>\n",
       "      <td>0</td>\n",
       "      <td>0</td>\n",
       "      <td>1</td>\n",
       "      <td>0</td>\n",
       "      <td>0</td>\n",
       "    </tr>\n",
       "    <tr>\n",
       "      <th>4</th>\n",
       "      <td>937</td>\n",
       "      <td>62</td>\n",
       "      <td>32</td>\n",
       "      <td>19</td>\n",
       "      <td>92109</td>\n",
       "      <td>1</td>\n",
       "      <td>1.5</td>\n",
       "      <td>3</td>\n",
       "      <td>0</td>\n",
       "      <td>1</td>\n",
       "      <td>0</td>\n",
       "      <td>0</td>\n",
       "      <td>0</td>\n",
       "      <td>0</td>\n",
       "    </tr>\n",
       "  </tbody>\n",
       "</table>\n",
       "</div>"
      ],
      "text/plain": [
       "     Id  age  exp  income    zip  Fsize  avgSpend  edu  mortgage  securities  \\\n",
       "0  2701   31    5      39  94590      4       2.2    2         0           0   \n",
       "1  2716   42   18      54  90089      1       1.8    1         0           0   \n",
       "2  3359   59   35      40  94536      4       0.4    1         0           0   \n",
       "3  2492   38   14      80  92868      2       2.7    1         0           0   \n",
       "4   937   62   32      19  92109      1       1.5    3         0           1   \n",
       "\n",
       "   deposit  netBanking  creditCard  output  \n",
       "0        0           1           1       0  \n",
       "1        0           1           0       0  \n",
       "2        0           0           0       0  \n",
       "3        0           1           0       0  \n",
       "4        0           0           0       0  "
      ]
     },
     "execution_count": 149,
     "metadata": {},
     "output_type": "execute_result"
    }
   ],
   "source": [
    "df = pd.read_csv(\"Data/LoanDataset/data.csv\")\n",
    "df.columns =['Id','age','exp','income','zip','Fsize','avgSpend','edu','mortgage','output','securities','deposit','netBanking','creditCard']\n",
    "\n",
    "loan = pd.DataFrame(df, columns = [\"Id\", \"age\", \"exp\", \"income\", \"zip\", \"Fsize\", \"avgSpend\", \"edu\", \"mortgage\", \"securities\", \"deposit\", \"netBanking\", \"creditCard\",\"output\"])\n",
    "\n",
    "loan.head()"
   ]
  },
  {
   "cell_type": "markdown",
   "metadata": {},
   "source": [
    "#### Drop the useless columns like Id, ZipCode"
   ]
  },
  {
   "cell_type": "code",
   "execution_count": 150,
   "metadata": {},
   "outputs": [
    {
     "data": {
      "text/html": [
       "<div>\n",
       "<style scoped>\n",
       "    .dataframe tbody tr th:only-of-type {\n",
       "        vertical-align: middle;\n",
       "    }\n",
       "\n",
       "    .dataframe tbody tr th {\n",
       "        vertical-align: top;\n",
       "    }\n",
       "\n",
       "    .dataframe thead th {\n",
       "        text-align: right;\n",
       "    }\n",
       "</style>\n",
       "<table border=\"1\" class=\"dataframe\">\n",
       "  <thead>\n",
       "    <tr style=\"text-align: right;\">\n",
       "      <th></th>\n",
       "      <th>age</th>\n",
       "      <th>exp</th>\n",
       "      <th>income</th>\n",
       "      <th>Fsize</th>\n",
       "      <th>avgSpend</th>\n",
       "      <th>edu</th>\n",
       "      <th>mortgage</th>\n",
       "      <th>securities</th>\n",
       "      <th>deposit</th>\n",
       "      <th>netBanking</th>\n",
       "      <th>creditCard</th>\n",
       "      <th>output</th>\n",
       "    </tr>\n",
       "  </thead>\n",
       "  <tbody>\n",
       "    <tr>\n",
       "      <th>0</th>\n",
       "      <td>31</td>\n",
       "      <td>5</td>\n",
       "      <td>39</td>\n",
       "      <td>4</td>\n",
       "      <td>2.2</td>\n",
       "      <td>2</td>\n",
       "      <td>0</td>\n",
       "      <td>0</td>\n",
       "      <td>0</td>\n",
       "      <td>1</td>\n",
       "      <td>1</td>\n",
       "      <td>0</td>\n",
       "    </tr>\n",
       "    <tr>\n",
       "      <th>1</th>\n",
       "      <td>42</td>\n",
       "      <td>18</td>\n",
       "      <td>54</td>\n",
       "      <td>1</td>\n",
       "      <td>1.8</td>\n",
       "      <td>1</td>\n",
       "      <td>0</td>\n",
       "      <td>0</td>\n",
       "      <td>0</td>\n",
       "      <td>1</td>\n",
       "      <td>0</td>\n",
       "      <td>0</td>\n",
       "    </tr>\n",
       "    <tr>\n",
       "      <th>2</th>\n",
       "      <td>59</td>\n",
       "      <td>35</td>\n",
       "      <td>40</td>\n",
       "      <td>4</td>\n",
       "      <td>0.4</td>\n",
       "      <td>1</td>\n",
       "      <td>0</td>\n",
       "      <td>0</td>\n",
       "      <td>0</td>\n",
       "      <td>0</td>\n",
       "      <td>0</td>\n",
       "      <td>0</td>\n",
       "    </tr>\n",
       "    <tr>\n",
       "      <th>3</th>\n",
       "      <td>38</td>\n",
       "      <td>14</td>\n",
       "      <td>80</td>\n",
       "      <td>2</td>\n",
       "      <td>2.7</td>\n",
       "      <td>1</td>\n",
       "      <td>0</td>\n",
       "      <td>0</td>\n",
       "      <td>0</td>\n",
       "      <td>1</td>\n",
       "      <td>0</td>\n",
       "      <td>0</td>\n",
       "    </tr>\n",
       "    <tr>\n",
       "      <th>4</th>\n",
       "      <td>62</td>\n",
       "      <td>32</td>\n",
       "      <td>19</td>\n",
       "      <td>1</td>\n",
       "      <td>1.5</td>\n",
       "      <td>3</td>\n",
       "      <td>0</td>\n",
       "      <td>1</td>\n",
       "      <td>0</td>\n",
       "      <td>0</td>\n",
       "      <td>0</td>\n",
       "      <td>0</td>\n",
       "    </tr>\n",
       "  </tbody>\n",
       "</table>\n",
       "</div>"
      ],
      "text/plain": [
       "   age  exp  income  Fsize  avgSpend  edu  mortgage  securities  deposit  \\\n",
       "0   31    5      39      4       2.2    2         0           0        0   \n",
       "1   42   18      54      1       1.8    1         0           0        0   \n",
       "2   59   35      40      4       0.4    1         0           0        0   \n",
       "3   38   14      80      2       2.7    1         0           0        0   \n",
       "4   62   32      19      1       1.5    3         0           1        0   \n",
       "\n",
       "   netBanking  creditCard  output  \n",
       "0           1           1       0  \n",
       "1           1           0       0  \n",
       "2           0           0       0  \n",
       "3           1           0       0  \n",
       "4           0           0       0  "
      ]
     },
     "execution_count": 150,
     "metadata": {},
     "output_type": "execute_result"
    }
   ],
   "source": [
    "loan.drop('Id',axis=1,inplace=True)\n",
    "loan.drop('zip',axis=1,inplace=True)\n",
    "loan.head()"
   ]
  },
  {
   "cell_type": "markdown",
   "metadata": {},
   "source": [
    "#### We maintain the list of Categorical features and numerical features because we have to handle them diffrently while calculating the liklihood of each features \n",
    "\n",
    "\n"
   ]
  },
  {
   "cell_type": "code",
   "execution_count": 151,
   "metadata": {},
   "outputs": [],
   "source": [
    "categorical=['edu','securities','deposit','netBanking','creditCard']"
   ]
  },
  {
   "cell_type": "code",
   "execution_count": 152,
   "metadata": {},
   "outputs": [],
   "source": [
    "numerical_attr=['age','mortgage','exp','income','Fsize','avgSpend']"
   ]
  },
  {
   "cell_type": "code",
   "execution_count": 153,
   "metadata": {},
   "outputs": [],
   "source": [
    "# m=len(loan['exp'][loan['exp']<0])\n",
    "# a=pd.DataFrame(np.ones((m,1)))\n",
    "# #loan['exp'][loan['exp']<0]=a\n",
    "# print(m,a.shape)\n",
    "# (loan['exp'][loan['exp']<0]).shape"
   ]
  },
  {
   "cell_type": "code",
   "execution_count": 154,
   "metadata": {},
   "outputs": [],
   "source": [
    "# training_data = loan.sample(frac = 0.8, random_state = 200)\n",
    "# valid_data = loan.drop(training_data.index)\n",
    "split = int(0.8 * loan.shape[0])\n",
    "training_data = loan[:split] # 80% of the total data\n",
    "testing_data = loan[split:]  # 20% of the total data"
   ]
  },
  {
   "cell_type": "code",
   "execution_count": 155,
   "metadata": {},
   "outputs": [],
   "source": [
    "def mean(col):\n",
    "    j=0.0\n",
    "    j=sum(col)/len(col)\n",
    "    return j"
   ]
  },
  {
   "cell_type": "code",
   "execution_count": 156,
   "metadata": {},
   "outputs": [],
   "source": [
    "def stanDeviation(col):\n",
    "    avg=0.0\n",
    "    avg = mean(col)\n",
    "    sigmaSquare = sum([pow(x-avg,2) for x in col])/float(len(col)-1)\n",
    "    return np.sqrt(sigmaSquare)"
   ]
  },
  {
   "cell_type": "code",
   "execution_count": 157,
   "metadata": {},
   "outputs": [],
   "source": [
    "def calculateProb(col,mu,sigma):\n",
    "    med=0.0\n",
    "    med=np.exp(-((col-mu)**2)/(2*sigma**2))\n",
    "    return (med)/(sigma*np.sqrt(2*np.pi))"
   ]
  },
  {
   "cell_type": "code",
   "execution_count": null,
   "metadata": {},
   "outputs": [],
   "source": []
  },
  {
   "cell_type": "code",
   "execution_count": 158,
   "metadata": {},
   "outputs": [
    {
     "name": "stdout",
     "output_type": "stream",
     "text": [
      "{'edu': {1: [70, 1443], 2: [129, 881], 3: [155, 921]}, 'securities': {0: [310, 2916], 1: [44, 329]}, 'deposit': {0: [246, 3128], 1: [108, 117]}, 'netBanking': {0: [132, 1282], 1: [222, 1963]}, 'creditCard': {0: [249, 2290], 1: [105, 955]}}\n"
     ]
    }
   ],
   "source": [
    "global_cat={}\n",
    "\n",
    "for i in categorical:\n",
    "    cat_dict={}\n",
    "\n",
    "    values=list(set(training_data[i]))\n",
    "    for j in values:\n",
    "        help=[]\n",
    "        val1=len(training_data[i][training_data[i]==j][training_data.output == 1])# no. of yes \n",
    "        help.append(val1)\n",
    "        \n",
    "        val2=len(training_data[i][training_data[i]==j][training_data.output == 0])# no. of No\n",
    "        help.append(val2)\n",
    "        \n",
    "        cat_dict[j]=help\n",
    "    global_cat[i]=cat_dict\n",
    " \n",
    "        \n",
    "print(global_cat)\n",
    "   \n",
    "\n",
    "    "
   ]
  },
  {
   "cell_type": "code",
   "execution_count": 159,
   "metadata": {},
   "outputs": [
    {
     "name": "stdout",
     "output_type": "stream",
     "text": [
      "{'age': {'yes': [45.387005649717516, 11.43400576754793], 'no': [45.233590138674884, 11.431926580306166]}, 'mortgage': {'yes': [103.590395480226, 162.18388828283798], 'no': [52.10508474576271, 92.8573099664806]}, 'exp': {'yes': [20.15536723163842, 11.343023314358682], 'no': [19.99075500770416, 11.45507660829018]}, 'income': {'yes': [143.80790960451978, 31.961952321227812], 'no': [66.88289676425269, 40.8926276701729]}, 'Fsize': {'yes': [2.6073446327683616, 1.1270821511803604], 'no': [2.372265023112481, 1.1497471780312833]}, 'avgSpend': {'yes': [3.9105084745762717, 2.095522752141776], 'no': [1.733913713405241, 1.5713157146691983]}}\n"
     ]
    }
   ],
   "source": [
    "global_num={}\n",
    "for i in numerical_attr:\n",
    "    cat_dict={}\n",
    "    help=[]\n",
    "    val1=training_data[i][training_data.output == 1]\n",
    "    mu=mean(val1)\n",
    "    sig=stanDeviation(val1)\n",
    "    help.append(mu)\n",
    "    help.append(sig)\n",
    "    cat_dict[\"yes\"]=help\n",
    "    val1=training_data[i][training_data.output == 0]\n",
    "    help=[]\n",
    "    mu=mean(val1)\n",
    "    sig=stanDeviation(val1)\n",
    "    help.append(mu)\n",
    "    help.append(sig)\n",
    "    cat_dict[\"no\"]=help\n",
    "    global_num[i]=cat_dict\n",
    "        \n",
    "print(global_num)"
   ]
  },
  {
   "cell_type": "code",
   "execution_count": 160,
   "metadata": {},
   "outputs": [],
   "source": [
    "d=training_data['output'].value_counts()# it returns dictionary with counts as values of keys\n",
    "#print(d)\n",
    "priorNo=d[0]/len(training_data)\n",
    "priorYes=d[1]/len(training_data)\n",
    "#print(priorNo,priorYes)\n"
   ]
  },
  {
   "cell_type": "code",
   "execution_count": 161,
   "metadata": {},
   "outputs": [],
   "source": [
    "def prediction(test):\n",
    "    out=[]# empty list to hold the output\n",
    "#     rig = 0\n",
    "#     wro = 0\n",
    "    for x in range(0,len(test)):\n",
    "        r=test.iloc[x]\n",
    "        likliYes=1\n",
    "        likliNo=1\n",
    "        for i in categorical:\n",
    "            likliYes*=max(global_cat[i][r[i]][0]/d[1],10**-7)\n",
    "            likliNo*=max(global_cat[i][r[i]][1]/d[0],10**-7)\n",
    "        for i in  numerical_attr:\n",
    "            likliYes*=max(calculateProb(r[i],global_num[i]['yes'][0],global_num[i]['yes'][1]),10**-7)\n",
    "            likliNo*=max(calculateProb(r[i],global_num[i]['no'][0],global_num[i]['no'][1]),10**-7)\n",
    "        likliYes=likliYes*priorYes\n",
    "        likliNo=likliNo*priorNo\n",
    "        ans = -1\n",
    "        if likliYes > likliNo:\n",
    "            ans = 1\n",
    "        else:\n",
    "            ans = 0 \n",
    "        out.append(ans)\n",
    "    return out\n",
    "    \n",
    "        #actualans = r['output']\n",
    "\n",
    "#     #     print(actualans,ans)\n",
    "#         if(actualans ==  ans):\n",
    "#             rig += 1\n",
    "#         else:\n",
    "#             wro += 1\n",
    "#     print(rig/(rig+wro))\n",
    "        "
   ]
  },
  {
   "cell_type": "code",
   "execution_count": 162,
   "metadata": {},
   "outputs": [
    {
     "name": "stdout",
     "output_type": "stream",
     "text": [
      "91.55555555555556 %\n",
      "0.52\n",
      "0.65\n",
      "0.5777777777777778\n"
     ]
    }
   ],
   "source": [
    "predict=prediction(testing_data)\n",
    "actual_result=testing_data['output'].tolist()\n",
    "Tp=0\n",
    "Tn=0\n",
    "Fp=0\n",
    "Fn=0\n",
    "for i in range(0,len(actual_result)):\n",
    "    if actual_result[i]==predict[i] and actual_result[i]==1:\n",
    "        Tp+=1\n",
    "    elif actual_result[i]==predict[i] and actual_result[i]==0:\n",
    "        Tn+=1\n",
    "    elif actual_result[i]==0 and predict[i]==1:\n",
    "        Fp+=1\n",
    "    else:\n",
    "        Fn+=1\n",
    "\n",
    "accuracy=(Tp+Tn)/len(actual_result)*100\n",
    "precision=Tp/(Tp+Fp)\n",
    "recall=Tp/(Tp+Fn)\n",
    "F1_Score=2*precision*recall/(recall+precision)\n",
    "print(accuracy,\"%\")\n",
    "print(precision)\n",
    "print(recall)\n",
    "print(F1_Score)"
   ]
  },
  {
   "cell_type": "code",
   "execution_count": 163,
   "metadata": {},
   "outputs": [
    {
     "name": "stdout",
     "output_type": "stream",
     "text": [
      "              precision    recall  f1-score   support\n",
      "\n",
      "           0       0.96      0.94      0.95       820\n",
      "           1       0.52      0.65      0.58        80\n",
      "\n",
      "   micro avg       0.92      0.92      0.92       900\n",
      "   macro avg       0.74      0.80      0.77       900\n",
      "weighted avg       0.93      0.92      0.92       900\n",
      "\n",
      "[[772  48]\n",
      " [ 28  52]]\n"
     ]
    }
   ],
   "source": [
    "from sklearn import metrics\n",
    "print(metrics.classification_report(actual_result,predict))\n",
    "print(metrics.confusion_matrix(actual_result,predict))"
   ]
  },
  {
   "cell_type": "code",
   "execution_count": null,
   "metadata": {},
   "outputs": [],
   "source": []
  }
 ],
 "metadata": {
  "kernelspec": {
   "display_name": "Python 3",
   "language": "python",
   "name": "python3"
  },
  "language_info": {
   "codemirror_mode": {
    "name": "ipython",
    "version": 3
   },
   "file_extension": ".py",
   "mimetype": "text/x-python",
   "name": "python",
   "nbconvert_exporter": "python",
   "pygments_lexer": "ipython3",
   "version": "3.6.7"
  }
 },
 "nbformat": 4,
 "nbformat_minor": 2
}
